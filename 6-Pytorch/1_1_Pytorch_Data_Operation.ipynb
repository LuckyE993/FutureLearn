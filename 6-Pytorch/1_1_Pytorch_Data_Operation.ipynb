{
  "nbformat": 4,
  "nbformat_minor": 0,
  "metadata": {
    "colab": {
      "provenance": [],
      "gpuType": "T4"
    },
    "kernelspec": {
      "name": "python3",
      "display_name": "Python 3"
    },
    "language_info": {
      "name": "python"
    },
    "accelerator": "GPU"
  },
  "cells": [
    {
      "cell_type": "code",
      "execution_count": null,
      "metadata": {
        "id": "7qP6PPCiEUdY",
        "collapsed": true
      },
      "outputs": [],
      "source": [
        "!pip install torch==2.6.0 torchvision==0.21.0 torchaudio==2.6.0 --index-url https://download.pytorch.org/whl/cu126"
      ]
    },
    {
      "cell_type": "code",
      "source": [
        "import torch\n",
        "import numpy\n",
        "print(torch.cuda.is_available())"
      ],
      "metadata": {
        "id": "K0ivTY0KFU78",
        "colab": {
          "base_uri": "https://localhost:8080/"
        },
        "outputId": "86ff240e-2f1a-4d69-f04d-0bfa86ffcbb1"
      },
      "execution_count": 18,
      "outputs": [
        {
          "output_type": "stream",
          "name": "stdout",
          "text": [
            "True\n"
          ]
        }
      ]
    },
    {
      "cell_type": "markdown",
      "source": [
        "# 张量及定义"
      ],
      "metadata": {
        "id": "s77EJv57KOtL"
      }
    },
    {
      "cell_type": "code",
      "source": [
        "x = torch.arange(12)\n",
        "x"
      ],
      "metadata": {
        "colab": {
          "base_uri": "https://localhost:8080/"
        },
        "id": "ybvgneRpFZtM",
        "outputId": "a331dd1d-02c5-4779-ef97-8b08c0259f08"
      },
      "execution_count": 19,
      "outputs": [
        {
          "output_type": "execute_result",
          "data": {
            "text/plain": [
              "tensor([ 0,  1,  2,  3,  4,  5,  6,  7,  8,  9, 10, 11])"
            ]
          },
          "metadata": {},
          "execution_count": 19
        }
      ]
    },
    {
      "cell_type": "code",
      "source": [
        "print(x.shape)\n",
        "print(x.numel)"
      ],
      "metadata": {
        "colab": {
          "base_uri": "https://localhost:8080/"
        },
        "id": "-qmlEYFrH6Dh",
        "outputId": "07c67521-a72e-44e5-faf7-8280ecf8f2e6"
      },
      "execution_count": 20,
      "outputs": [
        {
          "output_type": "stream",
          "name": "stdout",
          "text": [
            "torch.Size([12])\n",
            "<built-in method numel of Tensor object at 0x7b7bafa90b90>\n"
          ]
        }
      ]
    },
    {
      "cell_type": "markdown",
      "source": [
        "要想改变一个张量的形状而不改变元素数量和元素值，可以调用reshape函数。 例如，可以把张量x从形状为（12,）的行向量转换为形状为（3,4）的矩阵。"
      ],
      "metadata": {
        "id": "EKsw4LNGIKG3"
      }
    },
    {
      "cell_type": "code",
      "source": [
        "X = x.reshape(3,4)\n",
        "print(X)\n",
        "print(X.shape)"
      ],
      "metadata": {
        "colab": {
          "base_uri": "https://localhost:8080/"
        },
        "id": "aabRz_ejIJDa",
        "outputId": "6f442d49-7222-4124-96e3-1d75fa4c28af"
      },
      "execution_count": 21,
      "outputs": [
        {
          "output_type": "stream",
          "name": "stdout",
          "text": [
            "tensor([[ 0,  1,  2,  3],\n",
            "        [ 4,  5,  6,  7],\n",
            "        [ 8,  9, 10, 11]])\n",
            "torch.Size([3, 4])\n"
          ]
        }
      ]
    },
    {
      "cell_type": "markdown",
      "source": [
        "在知道宽度后，高度会被自动计算得出，不必我们自己做除法。可以通过-1来调用此自动计算出维度的功能。 即我们可以用x.reshape(-1,4)或x.reshape(3,-1)来取代x.reshape(3,4)。"
      ],
      "metadata": {
        "id": "twBZf4AtJHls"
      }
    },
    {
      "cell_type": "code",
      "source": [
        "X = x.reshape(-1,4)\n",
        "print(X)\n",
        "print(X.shape)"
      ],
      "metadata": {
        "colab": {
          "base_uri": "https://localhost:8080/"
        },
        "id": "a7oRW-1HJCV9",
        "outputId": "267bc8f7-6432-4a1b-f92c-c0d4ced09a56"
      },
      "execution_count": 22,
      "outputs": [
        {
          "output_type": "stream",
          "name": "stdout",
          "text": [
            "tensor([[ 0,  1,  2,  3],\n",
            "        [ 4,  5,  6,  7],\n",
            "        [ 8,  9, 10, 11]])\n",
            "torch.Size([3, 4])\n"
          ]
        }
      ]
    },
    {
      "cell_type": "markdown",
      "source": [
        "使用全0、全1、其他常量创建初始化矩阵"
      ],
      "metadata": {
        "id": "a4yfCn58Jnoa"
      }
    },
    {
      "cell_type": "code",
      "source": [
        "print(f\"创建全0的初始化矩阵\\n{torch.zeros((2,3,4))}\")\n",
        "print(f\"创建全1的初始化矩阵\\n{torch.ones((2,3,4))}\")\n",
        "print(f\"通过python列表创建初始化矩阵\\n{torch.tensor([[2,1,4,3],[1,2,3,4],[4,3,2,1]])}\")\n"
      ],
      "metadata": {
        "colab": {
          "base_uri": "https://localhost:8080/"
        },
        "id": "AYvGlvOFJnP_",
        "outputId": "36eabe9a-d58f-4913-e0cd-35f581b2b5f8"
      },
      "execution_count": 23,
      "outputs": [
        {
          "output_type": "stream",
          "name": "stdout",
          "text": [
            "创建全0的初始化矩阵\n",
            "tensor([[[0., 0., 0., 0.],\n",
            "         [0., 0., 0., 0.],\n",
            "         [0., 0., 0., 0.]],\n",
            "\n",
            "        [[0., 0., 0., 0.],\n",
            "         [0., 0., 0., 0.],\n",
            "         [0., 0., 0., 0.]]])\n",
            "创建全1的初始化矩阵\n",
            "tensor([[[1., 1., 1., 1.],\n",
            "         [1., 1., 1., 1.],\n",
            "         [1., 1., 1., 1.]],\n",
            "\n",
            "        [[1., 1., 1., 1.],\n",
            "         [1., 1., 1., 1.],\n",
            "         [1., 1., 1., 1.]]])\n",
            "通过python列表创建初始化矩阵\n",
            "tensor([[2, 1, 4, 3],\n",
            "        [1, 2, 3, 4],\n",
            "        [4, 3, 2, 1]])\n"
          ]
        }
      ]
    },
    {
      "cell_type": "markdown",
      "source": [
        "# 运算符"
      ],
      "metadata": {
        "id": "h9N7YatgKdv0"
      }
    },
    {
      "cell_type": "markdown",
      "source": [],
      "metadata": {
        "id": "PYha2HYyMhJn"
      }
    },
    {
      "cell_type": "markdown",
      "source": [
        "按元素（elementwise）运算。 它们将标准标量运算符应用于数组的每个元素。"
      ],
      "metadata": {
        "id": "6uT-wjbMK-_f"
      }
    },
    {
      "cell_type": "code",
      "source": [
        "x = torch.tensor([1.0, 2, 4, 8])\n",
        "y = torch.tensor([2, 2, 2, 2])\n",
        "# x + y, x - y, x * y, x / y, x ** y\n",
        "print(f\"x + y = {x+y}\")\n",
        "print(f\"x - y = {x-y}\")\n",
        "print(f\"x * y = {x*y}\")\n",
        "print(f\"x / y = {x/y}\")\n",
        "print(f\"x ** y = {x**y}\")\n",
        "#exp\n",
        "print(f\"exp(x) = {torch.exp(x)}\")"
      ],
      "metadata": {
        "colab": {
          "base_uri": "https://localhost:8080/"
        },
        "id": "GFcoo7CTKKIH",
        "outputId": "f919df4b-3443-4f79-9a4d-4711d4b927cb"
      },
      "execution_count": 24,
      "outputs": [
        {
          "output_type": "stream",
          "name": "stdout",
          "text": [
            "x + y = tensor([ 3.,  4.,  6., 10.])\n",
            "x - y = tensor([-1.,  0.,  2.,  6.])\n",
            "x * y = tensor([ 2.,  4.,  8., 16.])\n",
            "x / y = tensor([0.5000, 1.0000, 2.0000, 4.0000])\n",
            "x ** y = tensor([ 1.,  4., 16., 64.])\n",
            "exp(x) = tensor([2.7183e+00, 7.3891e+00, 5.4598e+01, 2.9810e+03])\n"
          ]
        }
      ]
    },
    {
      "cell_type": "markdown",
      "source": [
        "把多个张量连结（concatenate）在一起， 把它们端对端地叠起来形成一个更大的张量。"
      ],
      "metadata": {
        "id": "PBlSaGLqNgGk"
      }
    },
    {
      "cell_type": "code",
      "source": [
        "X = torch.arange(12,dtype=torch.float32).reshape((3,4))\n",
        "print(X)\n",
        "Y =torch.tensor([\n",
        "    [2.,1,4,3],\n",
        "    [1,2,3,4],\n",
        "    [4,3,2,1]\n",
        "])\n",
        "print(Y)\n",
        "\n",
        "print(f\"dim=0,按行连结\\n{torch.cat((X,Y),dim=0)}\")\n",
        "print(f\"dim=1,按列连结\\n{torch.cat((X,Y),dim=1)}\")\n"
      ],
      "metadata": {
        "colab": {
          "base_uri": "https://localhost:8080/"
        },
        "id": "5phbmZThMlt2",
        "outputId": "a8d44ab1-27b0-4d7f-df63-e25037e5f184"
      },
      "execution_count": 25,
      "outputs": [
        {
          "output_type": "stream",
          "name": "stdout",
          "text": [
            "tensor([[ 0.,  1.,  2.,  3.],\n",
            "        [ 4.,  5.,  6.,  7.],\n",
            "        [ 8.,  9., 10., 11.]])\n",
            "tensor([[2., 1., 4., 3.],\n",
            "        [1., 2., 3., 4.],\n",
            "        [4., 3., 2., 1.]])\n",
            "dim=0,按行连结\n",
            "tensor([[ 0.,  1.,  2.,  3.],\n",
            "        [ 4.,  5.,  6.,  7.],\n",
            "        [ 8.,  9., 10., 11.],\n",
            "        [ 2.,  1.,  4.,  3.],\n",
            "        [ 1.,  2.,  3.,  4.],\n",
            "        [ 4.,  3.,  2.,  1.]])\n",
            "dim=1,按列连结\n",
            "tensor([[ 0.,  1.,  2.,  3.,  2.,  1.,  4.,  3.],\n",
            "        [ 4.,  5.,  6.,  7.,  1.,  2.,  3.,  4.],\n",
            "        [ 8.,  9., 10., 11.,  4.,  3.,  2.,  1.]])\n"
          ]
        }
      ]
    },
    {
      "cell_type": "code",
      "source": [
        "print(f\"通过运算符构建二元张量\\n {X==Y}\")\n",
        "\n",
        "print(f\"求和\\n {X.sum()}\")"
      ],
      "metadata": {
        "colab": {
          "base_uri": "https://localhost:8080/"
        },
        "id": "FL1tI8ydOYOF",
        "outputId": "99d00e54-c0c2-41ea-dd74-4a1a7de9331e"
      },
      "execution_count": 26,
      "outputs": [
        {
          "output_type": "stream",
          "name": "stdout",
          "text": [
            "通过运算符构建二元张量\n",
            " tensor([[False,  True, False,  True],\n",
            "        [False, False, False, False],\n",
            "        [False, False, False, False]])\n",
            "求和\n",
            " 66.0\n"
          ]
        }
      ]
    },
    {
      "cell_type": "markdown",
      "source": [
        "## 广播机制\n",
        "在 Python 的数值计算库 NumPy 中，以及在深度学习库 PyTorch 中，广播 (Broadcasting) 是一种强大的机制，它允许对形状不完全相同的数组（或 tensors）进行算术运算。广播机制的核心思想是在运算过程中，NumPy 或 PyTorch 会自动“扩展”维度较小的数组，使其形状与维度较大的数组兼容，从而能够进行逐元素的操作。"
      ],
      "metadata": {
        "id": "CnCI_RhxOzmU"
      }
    },
    {
      "cell_type": "code",
      "source": [
        "a = torch.arange(3).reshape((3, 1))\n",
        "b = torch.arange(2).reshape((1, 2))\n",
        "a, b"
      ],
      "metadata": {
        "id": "mnFNrMdfOgT2",
        "colab": {
          "base_uri": "https://localhost:8080/"
        },
        "outputId": "dafce049-5cd1-470f-b9c2-3251d91404e0"
      },
      "execution_count": 27,
      "outputs": [
        {
          "output_type": "execute_result",
          "data": {
            "text/plain": [
              "(tensor([[0],\n",
              "         [1],\n",
              "         [2]]),\n",
              " tensor([[0, 1]]))"
            ]
          },
          "metadata": {},
          "execution_count": 27
        }
      ]
    },
    {
      "cell_type": "markdown",
      "source": [
        "由于a和b分别是 3x1 和 1x2 矩阵，如果让它们相加，它们的形状不匹配。 我们将两个矩阵广播为一个更大的 3x2 矩阵，如下所示：矩阵a将复制列， 矩阵b将复制行，然后再按元素相加。"
      ],
      "metadata": {
        "id": "Eh85-Z5IRvkK"
      }
    },
    {
      "cell_type": "code",
      "source": [
        "a + b"
      ],
      "metadata": {
        "colab": {
          "base_uri": "https://localhost:8080/"
        },
        "id": "KL44keWURlz4",
        "outputId": "7a62ee33-cb0a-4368-f8d1-4dbdc2556387"
      },
      "execution_count": 28,
      "outputs": [
        {
          "output_type": "execute_result",
          "data": {
            "text/plain": [
              "tensor([[0, 1],\n",
              "        [1, 2],\n",
              "        [2, 3]])"
            ]
          },
          "metadata": {},
          "execution_count": 28
        }
      ]
    },
    {
      "cell_type": "markdown",
      "source": [
        "## 索引和切片\n",
        "\n",
        "切片是左闭右开区间: 在Python和PyTorch中，使用 [start:stop] 进行切片时，表示从 start 位置开始，到 stop 位置之前结束，不包含 stop 位置的元素。"
      ],
      "metadata": {
        "id": "dGf-OZCRSJKN"
      }
    },
    {
      "cell_type": "code",
      "source": [
        "print(X)\n",
        "X[-1], X[1:3]"
      ],
      "metadata": {
        "colab": {
          "base_uri": "https://localhost:8080/"
        },
        "id": "Ik7Tkj2OSI2J",
        "outputId": "5797d777-a757-40dc-8808-956d86cfc1bf"
      },
      "execution_count": 30,
      "outputs": [
        {
          "output_type": "stream",
          "name": "stdout",
          "text": [
            "tensor([[ 0.,  1.,  2.,  3.],\n",
            "        [ 4.,  5.,  6.,  7.],\n",
            "        [ 8.,  9., 10., 11.]])\n"
          ]
        },
        {
          "output_type": "execute_result",
          "data": {
            "text/plain": [
              "(tensor([ 8.,  9., 10., 11.]),\n",
              " tensor([[ 4.,  5.,  6.,  7.],\n",
              "         [ 8.,  9., 10., 11.]]))"
            ]
          },
          "metadata": {},
          "execution_count": 30
        }
      ]
    },
    {
      "cell_type": "code",
      "source": [
        "print(f\"写入前\\n {X}\")\n",
        "X[1,2] = 9\n",
        "X"
      ],
      "metadata": {
        "colab": {
          "base_uri": "https://localhost:8080/"
        },
        "id": "4QTeiKRrS6kz",
        "outputId": "7b375226-9834-4327-d22d-7ac444598848"
      },
      "execution_count": 31,
      "outputs": [
        {
          "output_type": "stream",
          "name": "stdout",
          "text": [
            "写入前tensor([[ 0.,  1.,  2.,  3.],\n",
            "        [ 4.,  5.,  6.,  7.],\n",
            "        [ 8.,  9., 10., 11.]])\n"
          ]
        },
        {
          "output_type": "execute_result",
          "data": {
            "text/plain": [
              "tensor([[ 0.,  1.,  2.,  3.],\n",
              "        [ 4.,  5.,  9.,  7.],\n",
              "        [ 8.,  9., 10., 11.]])"
            ]
          },
          "metadata": {},
          "execution_count": 31
        }
      ]
    },
    {
      "cell_type": "code",
      "source": [
        "X[0:2, :] = 12 # [0:2, :]访问第1行和第2行，其中“:”代表沿轴1（列）的所有元素。\n",
        "X"
      ],
      "metadata": {
        "colab": {
          "base_uri": "https://localhost:8080/"
        },
        "id": "1VIXUc-nTQSh",
        "outputId": "3736c811-f894-443d-8fef-17bac2d86de5"
      },
      "execution_count": 32,
      "outputs": [
        {
          "output_type": "execute_result",
          "data": {
            "text/plain": [
              "tensor([[12., 12., 12., 12.],\n",
              "        [12., 12., 12., 12.],\n",
              "        [ 8.,  9., 10., 11.]])"
            ]
          },
          "metadata": {},
          "execution_count": 32
        }
      ]
    }
  ]
}