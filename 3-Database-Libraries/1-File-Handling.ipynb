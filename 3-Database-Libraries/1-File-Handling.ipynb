{
 "cells": [
  {
   "metadata": {},
   "cell_type": "markdown",
   "source": [
    "# File Handling\n",
    "## Basic Knowledge"
   ],
   "id": "2aebaf75c43cb1fb"
  },
  {
   "metadata": {},
   "cell_type": "markdown",
   "source": "可以通过file.read()来读取文件，该文件读取文件的整个内容。阅读文件后，我们可以使用File.Close()关闭文件后关闭文件后关闭文件，这是释放系统资源所必需的。",
   "id": "18420d577f03a92c"
  },
  {
   "cell_type": "code",
   "id": "6ca6909d",
   "metadata": {
    "ExecuteTime": {
     "end_time": "2025-03-14T04:55:30.076136Z",
     "start_time": "2025-03-14T04:55:30.063414Z"
    }
   },
   "source": [
    "file = open(\"geeks.txt\", \"r\")\n",
    "content = file.read()\n",
    "print(content)\n",
    "file.close()\n"
   ],
   "outputs": [
    {
     "name": "stdout",
     "output_type": "stream",
     "text": [
      "Hello world\n",
      "GeeksforGeeks\n",
      "123 456\n"
     ]
    }
   ],
   "execution_count": 4
  },
  {
   "metadata": {
    "ExecuteTime": {
     "end_time": "2025-03-14T04:58:04.372483Z",
     "start_time": "2025-03-14T04:58:04.359388Z"
    }
   },
   "cell_type": "code",
   "source": [
    "#二进制读取 Binary Mode\n",
    "file = open(\"geeks.txt\", \"rb\")\n",
    "content = file.read()\n",
    "print(content)\n",
    "file.close()\n"
   ],
   "id": "3231376fd042cf16",
   "outputs": [
    {
     "name": "stdout",
     "output_type": "stream",
     "text": [
      "b'Hello, World!time.struct_time(tm_year=2025, tm_mon=3, tm_mday=14, tm_hour=12, tm_min=58, tm_sec=2, tm_wday=4, tm_yday=73, tm_isdst=0)\\r\\n'\n"
     ]
    }
   ],
   "execution_count": 9
  },
  {
   "metadata": {},
   "cell_type": "markdown",
   "source": "file.write() 写入文件，将指定的字符串写入文件。如果文件存在，则将删除其内容。如果不存在，将创建一个新文件。",
   "id": "befab647d425d8fd"
  },
  {
   "metadata": {
    "ExecuteTime": {
     "end_time": "2025-03-14T04:58:02.772488Z",
     "start_time": "2025-03-14T04:58:02.768017Z"
    }
   },
   "cell_type": "code",
   "source": [
    "# 写入文件内容\n",
    "import time\n",
    "now = time.localtime()\n",
    "\n",
    "file = open(\"geeks.txt\", \"w\")\n",
    "file.write(\"Hello, World!\"+str(time.localtime()) +\"\\n\")\n",
    "file.close()\n"
   ],
   "id": "772e22b2b92662e3",
   "outputs": [],
   "execution_count": 8
  },
  {
   "metadata": {},
   "cell_type": "markdown",
   "source": "append则无需删除文件中的内容。",
   "id": "2c8598ca52922c2f"
  },
  {
   "metadata": {},
   "cell_type": "code",
   "outputs": [],
   "execution_count": null,
   "source": [
    "# Python code to illustrate append() mode\n",
    "file = open('geek.txt', 'a')\n",
    "file.write(\"This will add this line\")\n",
    "file.close()\n"
   ],
   "id": "2d2879135d2319d3"
  },
  {
   "metadata": {},
   "cell_type": "markdown",
   "source": [
    "使用with语句\n",
    "\n",
    "with statement is used for resource management. It ensures that file is **properly closed** after its suite finishes, even if an exception is raised. with open() as method automatically handles closing the file once the block of code is exited, even if an error occurs. This reduces the risk of file corruption and resource leakage."
   ],
   "id": "79102097e8125ddb"
  },
  {
   "metadata": {
    "ExecuteTime": {
     "end_time": "2025-03-14T05:40:23.830723Z",
     "start_time": "2025-03-14T05:40:23.823231Z"
    }
   },
   "cell_type": "code",
   "source": [
    "with open(\"geeks.txt\", \"r\") as file:\n",
    "    content = file.read()\n",
    "    print(content)\n"
   ],
   "id": "a47e0898b7d90c01",
   "outputs": [
    {
     "name": "stdout",
     "output_type": "stream",
     "text": [
      "Hello, World!time.struct_time(tm_year=2025, tm_mon=3, tm_mday=14, tm_hour=12, tm_min=58, tm_sec=2, tm_wday=4, tm_yday=73, tm_isdst=0)\n",
      "\n"
     ]
    }
   ],
   "execution_count": 10
  },
  {
   "metadata": {},
   "cell_type": "markdown",
   "source": "Handling Exceptions When Closing a File",
   "id": "8318cec8e4e78cf9"
  },
  {
   "metadata": {},
   "cell_type": "code",
   "outputs": [],
   "execution_count": null,
   "source": [
    "try:\n",
    "    file = open(\"geeks.txt\", \"r\")\n",
    "    content = file.read()\n",
    "    print(content)\n",
    "finally:\n",
    "    file.close()\n"
   ],
   "id": "14cfa734221f0926"
  },
  {
   "metadata": {
    "ExecuteTime": {
     "end_time": "2025-03-14T05:42:24.762677Z",
     "start_time": "2025-03-14T05:42:24.756008Z"
    }
   },
   "cell_type": "code",
   "source": [
    "# Open a file in read mode\n",
    "file = open('geeks.txt', 'r')\n",
    "\n",
    "# Read the first 10 characters\n",
    "content = file.read(10)\n",
    "print(content)\n",
    "\n",
    "# Check the current position of the file pointer\n",
    "position = file.tell()\n",
    "print(\"Current position:\", position)\n",
    "\n",
    "# Close the file\n",
    "file.close()"
   ],
   "id": "8048821238788dd2",
   "outputs": [
    {
     "name": "stdout",
     "output_type": "stream",
     "text": [
      "Hello, Wor\n",
      "Current position: 10\n"
     ]
    }
   ],
   "execution_count": 11
  },
  {
   "metadata": {},
   "cell_type": "markdown",
   "source": [
    "## Different File Mode in Python\n",
    "\n",
    "详细的参考[gfg网页](https://www.geeksforgeeks.org/file-mode-in-python/)\n"
   ],
   "id": "e88c10cbb62e0f4d"
  },
  {
   "metadata": {
    "ExecuteTime": {
     "end_time": "2025-03-14T05:47:18.037785Z",
     "start_time": "2025-03-14T05:47:18.032740Z"
    }
   },
   "cell_type": "code",
   "source": [
    "with open(\"geeks.txt\", \"r\") as file:\n",
    "    content = file.read()\n",
    "    print(content)\n"
   ],
   "id": "b2cad2d489b2f475",
   "outputs": [
    {
     "name": "stdout",
     "output_type": "stream",
     "text": [
      "This will add this line\n",
      "This is a new line.\n"
     ]
    }
   ],
   "execution_count": 21
  },
  {
   "metadata": {},
   "cell_type": "code",
   "outputs": [],
   "execution_count": null,
   "source": [
    "with open(\"geeks.txt\", \"w\") as file:\n",
    "    file.write(\"This will add this line\")\n",
    "    # not readable"
   ],
   "id": "dacbd7b6f861edd5"
  },
  {
   "metadata": {},
   "cell_type": "code",
   "outputs": [],
   "execution_count": null,
   "source": [
    "with open('geeks.txt', 'a') as file:\n",
    "    file.write('\\nThis is a new line.')"
   ],
   "id": "55c902e18fc5b503"
  },
  {
   "metadata": {
    "ExecuteTime": {
     "end_time": "2025-03-14T05:48:04.683896Z",
     "start_time": "2025-03-14T05:48:04.679491Z"
    }
   },
   "cell_type": "code",
   "source": [
    "with open('geeks.txt', 'rb') as file:\n",
    "    data = file.read()\n",
    "    print(data)\n",
    "    # Process the binary data\n"
   ],
   "id": "3004cbffdc016d47",
   "outputs": [
    {
     "name": "stdout",
     "output_type": "stream",
     "text": [
      "b'This will add this line\\r\\nThis is a new line.'\n"
     ]
    }
   ],
   "execution_count": 23
  },
  {
   "metadata": {},
   "cell_type": "markdown",
   "source": [
    "### 读写模式(r+)和写读模式(w+)\n",
    "1. r+ 模式（读写模式）\n",
    "* 描述: r+ 模式允许你以读写的方式打开文件。文件指针会放在文件的开头。如果文件不存在，会抛出 FileNotFoundError 异常。\n",
    "* 使用场景: 当你需要读取文件内容并在同一文件中进行修改时，可以使用 r+ 模式。\n",
    "2.  w+ 模式（写读模式）\n",
    "* 描述: w+ 模式允许你以读写的方式打开文件。如果文件存在，文件内容会被清空；如果文件不存在，会创建一个新文件。\n",
    "* 使用场景: 当你需要创建一个新文件或清空现有文件内容并进行读写操作时，可以使用 w+ 模式。"
   ],
   "id": "ce5de017b6c15694"
  },
  {
   "metadata": {
    "ExecuteTime": {
     "end_time": "2025-03-14T05:55:25.216441Z",
     "start_time": "2025-03-14T05:55:25.204599Z"
    }
   },
   "cell_type": "code",
   "source": [
    "# 打开文件进行读写\n",
    "with open('geeks.txt', 'r+') as file:\n",
    "    # 读取文件内容\n",
    "    content = file.read()\n",
    "    print(\"Original content:\\n\", content)\n",
    "\n",
    "    # 将文件指针移动到文件末尾\n",
    "    file.seek(0, 2)\n",
    "\n",
    "    # 写入新内容\n",
    "    file.write(\"\\nNew content added.\")\n",
    "\n",
    "    # 将文件指针移动到文件开头\n",
    "    file.seek(0)\n",
    "\n",
    "    # 再次读取文件内容\n",
    "    updated_content = file.read()\n",
    "    print(\"Updated content:\\n\", updated_content)\n",
    "\n"
   ],
   "id": "70cd31f046a39124",
   "outputs": [
    {
     "name": "stdout",
     "output_type": "stream",
     "text": [
      "Original content:\n",
      " This will add this line\n",
      "This is a new line.\n",
      "This is a new line.\n",
      "New content added.\n",
      "Updated content:\n",
      " This will add this line\n",
      "This is a new line.\n",
      "This is a new line.\n",
      "New content added.\n",
      "New content added.\n"
     ]
    }
   ],
   "execution_count": 26
  },
  {
   "metadata": {
    "ExecuteTime": {
     "end_time": "2025-03-14T06:01:06.011160Z",
     "start_time": "2025-03-14T06:01:06.006126Z"
    }
   },
   "cell_type": "code",
   "source": [
    "# 打开文件进行读写\n",
    "with open('geeks.txt', 'w+') as file:\n",
    "    # 写入新内容\n",
    "    file.write(\"This is new content.\\n\")\n",
    "    file.write(\"This is new content.\\n\")\n",
    "    # 将文件指针移动到文件开头\n",
    "    file.seek(0)\n",
    "\n",
    "    # 读取文件内容\n",
    "    content = file.read()\n",
    "    print(\"Content after writing:\", content)\n"
   ],
   "id": "9dff326cdb31948f",
   "outputs": [
    {
     "name": "stdout",
     "output_type": "stream",
     "text": [
      "Content after writing: This is new content.\n",
      "This is new content.\n",
      "\n"
     ]
    }
   ],
   "execution_count": 32
  },
  {
   "metadata": {},
   "cell_type": "markdown",
   "source": [
    "## Read Files\n",
    "\n",
    "| 读取方式                  | 适用场景                           | 关键方法/模块          |\n",
    "|---------------------------|------------------------------------|------------------------|\n",
    "| 逐行读取文件              | 处理大文件或需要逐行处理文本       | `for line in file`     |\n",
    "| 读取二进制文件            | 处理图片、音频、视频等二进制文件   | `open(file, 'rb')`     |\n",
    "| 读取文件的特定部分        | 只读取文件的某一部分               | `file.seek()`          |\n",
    "| 读取CSV文件               | 处理结构化数据（表格数据）         | `csv.reader()`         |\n",
    "| 读取JSON文件              | 处理JSON格式的配置文件或API响应    | `json.load()`          |\n",
    "\n",
    "### 最基本的读取\n"
   ],
   "id": "52bcbf3744dc7bf8"
  },
  {
   "metadata": {
    "ExecuteTime": {
     "end_time": "2025-03-14T05:58:04.655434Z",
     "start_time": "2025-03-14T05:58:04.649402Z"
    }
   },
   "cell_type": "code",
   "source": [
    "# Open the file in read mode\n",
    "file = open(\"geeks.txt\", \"r\")\n",
    "# Read the entire content of the file\n",
    "content = file.read()\n",
    "# Print the content\n",
    "print(content)\n",
    "# Close the file\n",
    "file.close()\n"
   ],
   "id": "b159a35c10e57382",
   "outputs": [
    {
     "name": "stdout",
     "output_type": "stream",
     "text": [
      "This is new content.\n"
     ]
    }
   ],
   "execution_count": 29
  },
  {
   "metadata": {},
   "cell_type": "markdown",
   "source": "### 逐行读取文件 (Line-by-Line Reading)",
   "id": "a88f9f5929ea8fbe"
  },
  {
   "metadata": {
    "ExecuteTime": {
     "end_time": "2025-03-14T06:01:08.317557Z",
     "start_time": "2025-03-14T06:01:08.306371Z"
    }
   },
   "cell_type": "code",
   "source": [
    "# 打开文件并逐行读取\n",
    "with open('geeks.txt', 'r') as file:\n",
    "    for line in file:\n",
    "        print(line.strip())  # line.strip()：去除每行末尾的换行符（\\n）和空白字符。\n"
   ],
   "id": "8bded111cb2381c7",
   "outputs": [
    {
     "name": "stdout",
     "output_type": "stream",
     "text": [
      "This is new content.\n",
      "This is new content.\n"
     ]
    }
   ],
   "execution_count": 33
  },
  {
   "metadata": {
    "ExecuteTime": {
     "end_time": "2025-03-14T06:09:02.339114Z",
     "start_time": "2025-03-14T06:09:02.332589Z"
    }
   },
   "cell_type": "code",
   "source": [
    "# Open the file in read mode and use file.readline() method\n",
    "file = open(\"geeks.txt\", \"r\")\n",
    "# Read the first line\n",
    "line = file.readline()\n",
    "while line:\n",
    "    print(line.strip())\n",
    "    line = file.readline()  # Read the next line\n",
    "# Close the file\n",
    "file.close()\n"
   ],
   "id": "e24a003f9196d7df",
   "outputs": [
    {
     "name": "stdout",
     "output_type": "stream",
     "text": [
      "This is new content.\n",
      "This is new content.\n"
     ]
    }
   ],
   "execution_count": 44
  },
  {
   "metadata": {},
   "cell_type": "markdown",
   "source": "### 读取二进制文件 (Reading Binary Files)",
   "id": "9fbb197eb3d99b5a"
  },
  {
   "metadata": {
    "ExecuteTime": {
     "end_time": "2025-03-14T06:02:14.694441Z",
     "start_time": "2025-03-14T06:02:14.689030Z"
    }
   },
   "cell_type": "code",
   "source": [
    "# 打开二进制文件并读取内容\n",
    "with open('geeks.txt', 'rb') as file:\n",
    "    binary_data = file.read()  # 读取整个文件内容\n",
    "    print(binary_data)  # 输出二进制数据\n"
   ],
   "id": "fb615aa1bf6921c9",
   "outputs": [
    {
     "name": "stdout",
     "output_type": "stream",
     "text": [
      "b'This is new content.\\r\\nThis is new content.\\r\\n'\n"
     ]
    }
   ],
   "execution_count": 35
  },
  {
   "metadata": {},
   "cell_type": "markdown",
   "source": "### 读取文件的特定部分 (Reading Specific Parts of a File)",
   "id": "ad9c33b4617c2f3f"
  },
  {
   "metadata": {
    "ExecuteTime": {
     "end_time": "2025-03-14T06:03:05.025416Z",
     "start_time": "2025-03-14T06:03:05.021482Z"
    }
   },
   "cell_type": "code",
   "source": [
    "# 打开文件并读取特定部分\n",
    "with open('geeks.txt', 'r') as file:\n",
    "    file.seek(10)  # 将文件指针移动到第10个字节\n",
    "    data = file.read(20)  # 读取接下来的20个字节\n",
    "    print(data)\n"
   ],
   "id": "802bc6cfbc1af1ae",
   "outputs": [
    {
     "name": "stdout",
     "output_type": "stream",
     "text": [
      "This is new content.\n"
     ]
    }
   ],
   "execution_count": 37
  },
  {
   "metadata": {},
   "cell_type": "markdown",
   "source": "### 读取CSV文件 (Reading CSV Files)",
   "id": "deff68a806180801"
  },
  {
   "metadata": {
    "ExecuteTime": {
     "end_time": "2025-03-14T06:06:25.576330Z",
     "start_time": "2025-03-14T06:06:25.569104Z"
    }
   },
   "cell_type": "code",
   "source": [
    "import csv\n",
    "\n",
    "# 读取CSV文件\n",
    "with open('example.csv', 'r') as file:\n",
    "    csv_reader = csv.reader(file)\n",
    "    for row in csv_reader:\n",
    "        print(row)  # 每一行是一个列表\n",
    "print(\"-----------------------\")\n",
    "# 读取带标题的CSV文件\n",
    "with open('example.csv', 'r') as file:\n",
    "    csv_reader = csv.DictReader(file)\n",
    "    for row in csv_reader:\n",
    "        print(row)  # 每一行是一个字典，键是标题\n",
    "\n"
   ],
   "id": "495943e46b7c4b3a",
   "outputs": [
    {
     "name": "stdout",
     "output_type": "stream",
     "text": [
      "['name', 'number']\n",
      "['Alan', '1']\n",
      "['Mike', '2']\n",
      "-----------------------\n",
      "{'name': 'Alan', 'number': '1'}\n",
      "{'name': 'Mike', 'number': '2'}\n"
     ]
    }
   ],
   "execution_count": 42
  },
  {
   "metadata": {},
   "cell_type": "markdown",
   "source": "### 读取JSON文件 (Reading JSON Files)",
   "id": "6d7ac7369e5cee6b"
  },
  {
   "metadata": {
    "ExecuteTime": {
     "end_time": "2025-03-14T06:07:40.281078Z",
     "start_time": "2025-03-14T06:07:40.276149Z"
    }
   },
   "cell_type": "code",
   "source": [
    "import json\n",
    "\n",
    "# 读取JSON文件\n",
    "with open('example.json', 'r') as file:\n",
    "    data = json.load(file)  # 将JSON文件解析为Python对象\n",
    "    print(data)\n"
   ],
   "id": "dac585a251e6149c",
   "outputs": [
    {
     "name": "stdout",
     "output_type": "stream",
     "text": [
      "{'name': 'Alice', 'age': 25, 'hobbies': ['reading', 'coding']}\n"
     ]
    }
   ],
   "execution_count": 43
  },
  {
   "metadata": {},
   "cell_type": "markdown",
   "source": "",
   "id": "6a9c92442dcf0204"
  },
  {
   "metadata": {},
   "cell_type": "markdown",
   "source": [
    "## Write File\n",
    "\n",
    "* Write (“w”) Mode: This mode creates a new file if it doesn’t exist. If the file already exists, it truncates the file (i.e., deletes the existing content) and starts fresh.\n",
    "* Append (“a”) Mode: This mode creates a new file if it doesn’t exist. If the file exists, it appends new content at the end without modifying the existing data.\n",
    "* Exclusive Creation (“x”) Mode: This mode creates a new file only if it doesn’t already exist. If the file already exists, it raises a FileExistsError."
   ],
   "id": "d974f09fd43aa859"
  },
  {
   "metadata": {
    "ExecuteTime": {
     "end_time": "2025-03-14T06:19:15.164379Z",
     "start_time": "2025-03-14T06:19:15.143869Z"
    }
   },
   "cell_type": "code",
   "source": [
    "# Write mode: Creates a new file or truncates an existing file\n",
    "\n",
    "with open(\"file.txt\", \"w\") as f:\n",
    "    f.write(\"Created using write mode.\")\n",
    "\n",
    "f = open(\"file.txt\",\"r\")\n",
    "print(f.read())\n",
    "\n",
    "# Append mode: Creates a new file or appends to an existing file\n",
    "\n",
    "with open(\"file.txt\", \"a\") as f:\n",
    "    f.write(\"Content appended to the file.\")\n",
    "\n",
    "f = open(\"file.txt\",\"r\")\n",
    "print(f.read())\n",
    "\n",
    "# Exclusive creation mode: Creates a new file, raises error if file exists\n",
    "\n",
    "try:\n",
    "    with open(\"file.txt\", \"x\") as f:\n",
    "        f.write(\"Created using exclusive mode.\")\n",
    "except FileExistsError:\n",
    "    print(\"Already exists.\")\n"
   ],
   "id": "9e735d5546cc4dd1",
   "outputs": [
    {
     "name": "stdout",
     "output_type": "stream",
     "text": [
      "Created using write mode.\n",
      "Created using write mode.Content appended to the file.\n",
      "Already exists.\n"
     ]
    }
   ],
   "execution_count": 45
  },
  {
   "metadata": {},
   "cell_type": "markdown",
   "source": [
    "### 往已经存在的文件里写入\n",
    "\n",
    "可以采用以下两种写法\n",
    "\n",
    "write mode (“w”): This will overwrite any existing content,\n",
    "\n",
    "writelines(): Allows us to write a list of string to the file in a single call.\n"
   ],
   "id": "9a01e4e04c26517e"
  },
  {
   "metadata": {
    "ExecuteTime": {
     "end_time": "2025-03-14T06:20:36.421709Z",
     "start_time": "2025-03-14T06:20:36.402843Z"
    }
   },
   "cell_type": "code",
   "source": [
    "# Writing to an existing file (content will be overwritten)\n",
    "with open(\"file1.txt\", \"w\") as f:\n",
    "    f.write(\"Written to the file.\")\n",
    "\n",
    "f = open(\"file1.txt\",\"r\")\n",
    "print(f.read())\n",
    "\n",
    "# Writing multiple lines to an existing file using writelines()\n",
    "s = [\"First line of text.\\n\", \"Second line of text.\\n\", \"Third line of text.\\n\"]\n",
    "\n",
    "with open(\"file1.txt\", \"w\") as f:\n",
    "    f.writelines(s)\n",
    "\n",
    "f = open(\"file1.txt\",\"r\")\n",
    "print(f.read())\n"
   ],
   "id": "41550a2593451cd3",
   "outputs": [
    {
     "name": "stdout",
     "output_type": "stream",
     "text": [
      "Written to the file.\n",
      "First line of text.\n",
      "Second line of text.\n",
      "Third line of text.\n",
      "\n"
     ]
    }
   ],
   "execution_count": 46
  },
  {
   "metadata": {},
   "cell_type": "markdown",
   "source": "### 写入二进制文件",
   "id": "117069bba73d04d"
  },
  {
   "metadata": {
    "ExecuteTime": {
     "end_time": "2025-03-14T06:21:31.716960Z",
     "start_time": "2025-03-14T06:21:31.704977Z"
    }
   },
   "cell_type": "code",
   "source": [
    "# Writing binary data to a file\n",
    "bin = b'\\x00\\x01\\x02\\x03\\x04'\n",
    "\n",
    "with open(\"file.bin\", \"wb\") as f:\n",
    "    f.write(bin)\n",
    "\n",
    "f = open(\"file.bin\",\"r\")\n",
    "print(f.read())\n"
   ],
   "id": "e7bceded338845fb",
   "outputs": [
    {
     "name": "stdout",
     "output_type": "stream",
     "text": [
      "\u0000\u0001\u0002\u0003\u0004\n"
     ]
    }
   ],
   "execution_count": 47
  },
  {
   "metadata": {},
   "cell_type": "markdown",
   "source": [
    "# OS Module\n",
    "Python中的OS模块提供了与操作系统交互的功能。 OS属于Python的标准实用程序模块。该模块提供了使用操作系统依赖性功能的便携式方法。\n",
    "## 文件和目录操作"
   ],
   "id": "532a34aea5c6a795"
  },
  {
   "metadata": {},
   "cell_type": "code",
   "outputs": [],
   "execution_count": null,
   "source": "",
   "id": "683db9ada4584954"
  }
 ],
 "metadata": {
  "kernelspec": {
   "display_name": "Python 3 (ipykernel)",
   "language": "python",
   "name": "python3"
  },
  "language_info": {
   "codemirror_mode": {
    "name": "ipython",
    "version": 3
   },
   "file_extension": ".py",
   "mimetype": "text/x-python",
   "name": "python",
   "nbconvert_exporter": "python",
   "pygments_lexer": "ipython3",
   "version": "3.10.16"
  }
 },
 "nbformat": 4,
 "nbformat_minor": 5
}
