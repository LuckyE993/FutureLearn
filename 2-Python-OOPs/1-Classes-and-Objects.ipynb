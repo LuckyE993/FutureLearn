{
 "cells": [
  {
   "metadata": {},
   "cell_type": "markdown",
   "source": [
    "面向对象的编程（Object Oriented Programming）是Python中的一个基本概念，使开发人员能够构建模块化，可维护和可扩展的应用程序。通过了解核心OOP原理（类，对象，继承，封装，多态性和抽象），程序员可以利用Python OOP功能的全部潜力，以设计优雅有效的解决方案，以解决复杂问题。\n",
    "\n",
    "OOPS是一种组织代码的方式，该代码使用对象和类代表现实世界实体及其行为。在OOPS中，对象具有具有特定数据的属性，并且可以使用方法执行某些操作。\n",
    "\n",
    "OOPs Concepts in Python\n",
    "* Class in Python 类\n",
    "* Objects in Python 对象\n",
    "* Polymorphism in Python 多态\n",
    "* Encapsulation in Python 封装\n",
    "* Inheritance in Python 继承\n",
    "* Data Abstraction in Python 数据抽象"
   ],
   "id": "abb592fd15ce84e7"
  },
  {
   "metadata": {},
   "cell_type": "markdown",
   "source": [
    "# Python Classes and Objects\n",
    "\n"
   ],
   "id": "dcfb3873e5124fe7"
  },
  {
   "cell_type": "code",
   "id": "initial_id",
   "metadata": {
    "collapsed": true,
    "ExecuteTime": {
     "end_time": "2025-02-16T14:13:52.236603Z",
     "start_time": "2025-02-16T14:13:52.226988Z"
    }
   },
   "source": [
    "# define a class\n",
    "class Dog:\n",
    "    sound = \"bark\"  # class attribute\n",
    "\n",
    "\n",
    "# Create an object from the class\n",
    "dog1 = Dog()\n",
    "\n",
    "# Access the class attribute\n",
    "print(dog1.sound)"
   ],
   "outputs": [
    {
     "name": "stdout",
     "output_type": "stream",
     "text": [
      "bark\n"
     ]
    }
   ],
   "execution_count": 2
  },
  {
   "metadata": {
    "ExecuteTime": {
     "end_time": "2025-02-16T14:22:31.209789Z",
     "start_time": "2025-02-16T14:22:31.200530Z"
    }
   },
   "cell_type": "code",
   "source": [
    "# Initiate Object with __init__\n",
    "class Dog:\n",
    "    species = \"Canine\"  # Class attribute\n",
    "\n",
    "    def __init__(self, name, age):\n",
    "        self.name = name  # Instance attribute\n",
    "        self.age = age  # Instance attribute\n",
    "\n",
    "\n",
    "# Creating an object of the Dog class\n",
    "dog1 = Dog(\"Buddy\", 3)\n",
    "\n",
    "print(dog1.name)  # Output: Buddy\n",
    "print(dog1.species)  # Output: Canine\n"
   ],
   "id": "1ba42c423be8ca68",
   "outputs": [
    {
     "name": "stdout",
     "output_type": "stream",
     "text": [
      "Buddy\n",
      "Canine\n"
     ]
    }
   ],
   "execution_count": 6
  },
  {
   "metadata": {},
   "cell_type": "markdown",
   "source": "## ```__str__``` Method",
   "id": "9fde7a8d291e12b8"
  },
  {
   "metadata": {
    "ExecuteTime": {
     "end_time": "2025-02-16T14:25:05.692831Z",
     "start_time": "2025-02-16T14:25:05.682371Z"
    }
   },
   "cell_type": "code",
   "source": [
    "class Dog:\n",
    "    def __init__(self, name, age):\n",
    "        self.name = name\n",
    "        self.age = age\n",
    "\n",
    "    def __str__(self):\n",
    "        return f\"{self.name} is {self.age} years old.\"  # Correct: Returning a string\n",
    "      \n",
    "dog1 = Dog(\"Buddy\", 3)\n",
    "dog2 = Dog(\"Charlie\", 5)\n",
    "\n",
    "print(dog1)  \n",
    "print(dog2)  \n"
   ],
   "id": "5cb5518973df821",
   "outputs": [
    {
     "name": "stdout",
     "output_type": "stream",
     "text": [
      "Buddy is 3 years old.\n",
      "Charlie is 5 years old.\n"
     ]
    }
   ],
   "execution_count": 7
  },
  {
   "metadata": {},
   "cell_type": "markdown",
   "source": [
    "## Class and Instance Variables in Python\n",
    "- 类变量:这些是在类的所有实例中共享的变量。它在班级级别定义，在任何方法之外。除非对象中明确覆盖，否则类的所有对象都共享类变量的相同值。\n",
    "\n",
    "- 实例变量:类是类的每个实例（对象）唯一的变量。这些是在__init__方法或其他实例方法中定义的。每个对象都保持自己的实例变量的副本，而与其他对象无关。"
   ],
   "id": "82e6138131d4a3e8"
  },
  {
   "metadata": {
    "ExecuteTime": {
     "end_time": "2025-02-16T14:30:06.555738Z",
     "start_time": "2025-02-16T14:30:06.541641Z"
    }
   },
   "cell_type": "code",
   "source": [
    "class Dog:\n",
    "    # Class variable\n",
    "    species = \"Canine\"\n",
    "\n",
    "    def __init__(self, name, age):\n",
    "        # Instance variables\n",
    "        self.name = name\n",
    "        self.age = age\n",
    "\n",
    "# Create objects\n",
    "dog1 = Dog(\"Buddy\", 3)\n",
    "dog2 = Dog(\"Charlie\", 5)\n",
    "\n",
    "# Access class and instance variables\n",
    "print(\"dog1 species \"+dog1.species)  # (Class variable)\n",
    "print(\"dog1 name \"+dog1.name)     # (Instance variable)\n",
    "print(\"dog2 name \"+dog2.name)     # (Instance variable)\n",
    "\n",
    "# Modify instance variables\n",
    "dog1.name = \"Max\"\n",
    "print(\"dog1 name \"+dog1.name)     # (Updated instance variable)\n",
    "\n",
    "dog1.species = \"Buddy\"\n",
    "print(\"Change dog1 species \"+dog1.species)\n",
    "\n",
    "# Modify class variable\n",
    "Dog.species = \"Feline\"\n",
    "print(\"dog1 species \"+dog1.species)  \n",
    "print(\"dog2 species \"+dog2.species)  \n"
   ],
   "id": "92ee8ffd5362c801",
   "outputs": [
    {
     "name": "stdout",
     "output_type": "stream",
     "text": [
      "dog1 species Canine\n",
      "dog1 name Buddy\n",
      "dog2 name Charlie\n",
      "dog1 name Max\n",
      "Change dog1 species Buddy\n",
      "dog1 species Buddy\n",
      "dog2 species Feline\n"
     ]
    }
   ],
   "execution_count": 10
  },
  {
   "metadata": {},
   "cell_type": "markdown",
   "source": [
    "## 实例方法、类方法、静态方法\n",
    "- 实例方法：操作实例属性，第一个参数为 self。\n",
    "\n",
    "- 类方法：操作类属性，使用 @classmethod 装饰器，参数为 cls。\n",
    "\n",
    "- 静态方法：与类和实例无关，使用 @staticmethod 装饰器。"
   ],
   "id": "5449d1ccfca85c7e"
  },
  {
   "metadata": {
    "ExecuteTime": {
     "end_time": "2025-02-16T14:32:12.369168Z",
     "start_time": "2025-02-16T14:32:12.358216Z"
    }
   },
   "cell_type": "code",
   "source": [
    "class Dog:\n",
    "    species = \"Canis familiaris\"\n",
    "\n",
    "    def __init__(self, name):\n",
    "        self.name = name\n",
    "\n",
    "    # 实例方法\n",
    "    def bark(self):\n",
    "        print(f\"{self.name} 在叫！\")\n",
    "\n",
    "    # 类方法\n",
    "    @classmethod\n",
    "    def get_species(cls):\n",
    "        return cls.species\n",
    "\n",
    "    # 静态方法\n",
    "    @staticmethod\n",
    "    def info():\n",
    "        print(\"这是 Dog 类。\")\n",
    "\n",
    "# 调用类方法\n",
    "print(Dog.get_species())  # 输出: Canis familiaris\n",
    "\n",
    "# 调用静态方法\n",
    "Dog.info()  # 输出: 这是 Dog 类。"
   ],
   "id": "d027257e3b7d9602",
   "outputs": [
    {
     "name": "stdout",
     "output_type": "stream",
     "text": [
      "Canis familiaris\n",
      "这是 Dog 类。\n"
     ]
    }
   ],
   "execution_count": 13
  },
  {
   "metadata": {},
   "cell_type": "code",
   "outputs": [],
   "execution_count": null,
   "source": "",
   "id": "d3bdf6ad82983984"
  }
 ],
 "metadata": {
  "kernelspec": {
   "display_name": "Python 3",
   "language": "python",
   "name": "python3"
  },
  "language_info": {
   "codemirror_mode": {
    "name": "ipython",
    "version": 2
   },
   "file_extension": ".py",
   "mimetype": "text/x-python",
   "name": "python",
   "nbconvert_exporter": "python",
   "pygments_lexer": "ipython2",
   "version": "2.7.6"
  }
 },
 "nbformat": 4,
 "nbformat_minor": 5
}
