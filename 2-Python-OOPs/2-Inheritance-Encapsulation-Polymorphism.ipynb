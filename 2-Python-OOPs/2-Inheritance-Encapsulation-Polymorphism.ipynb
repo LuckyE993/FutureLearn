{
 "cells": [
  {
   "metadata": {},
   "cell_type": "markdown",
   "source": [
    "# Inheritance in Python\n",
    "继承是面向对象的编程（OOP）中的一个基本概念，它允许类（称为child或派生的类）从另一类（称为父级或base类）继承属性和方法。这促进了代码重用，模块化和分层类结构。在本文中，我们将探讨Python的继承。"
   ],
   "id": "512be71be11e6906"
  },
  {
   "metadata": {
    "ExecuteTime": {
     "end_time": "2025-02-16T14:36:36.936395Z",
     "start_time": "2025-02-16T14:36:36.917311Z"
    }
   },
   "cell_type": "code",
   "source": [
    "# Parent class\n",
    "class Animal:\n",
    "    def __init__(self, name):\n",
    "        self.name = name  # Initialize the name attribute\n",
    "\n",
    "    def speak(self):\n",
    "        pass  # Placeholder method to be overridden by child classes\n",
    "\n",
    "\n",
    "# Child class inheriting from Animal\n",
    "class Dog(Animal):\n",
    "    def speak(self):\n",
    "        return f\"{self.name} barks!\"  # Override the speak method\n",
    "\n",
    "\n",
    "# Creating an instance of Dog\n",
    "dog = Dog(\"Buddy\")\n",
    "print(dog.speak())  # Output: Buddy says Woof!\n"
   ],
   "id": "8de2b7e7a8f126",
   "outputs": [
    {
     "name": "stdout",
     "output_type": "stream",
     "text": [
      "Buddy barks!\n"
     ]
    }
   ],
   "execution_count": 1
  },
  {
   "metadata": {},
   "cell_type": "markdown",
   "source": [
    "## Syntax for Inheritance\n",
    "```\n",
    "class ParentClass:\n",
    "\n",
    "\n",
    "    # Parent class code here\n",
    "\n",
    "\n",
    "    pass\n",
    "\n",
    "\n",
    "class ChildClass(ParentClass):\n",
    "\n",
    "\n",
    "    # Child class code here\n",
    "\n",
    "\n",
    "    pass\n",
    "\n",
    "```\n",
    "\n"
   ],
   "id": "3084f4ced6d5ae46"
  },
  {
   "metadata": {},
   "cell_type": "markdown",
   "source": [
    "## ```__init__()``` Function\n",
    "### ```super()``` Function\n",
    "```super()``` 函数用于调用父类的方法。特别是，它通常在 child 类的```__init__```方法中用于初始化继承的属性。这样，子类可以利用父类的功能。"
   ],
   "id": "9348d78d274de749"
  },
  {
   "metadata": {},
   "cell_type": "code",
   "outputs": [],
   "execution_count": null,
   "source": [
    "# Parent Class: Person\n",
    "class Person:\n",
    "    def __init__(self, name, id_number):\n",
    "        self.name = name\n",
    "        self.id_number = id_number\n",
    "\n",
    "\n",
    "# Child Class: Employee\n",
    "class Employee(Person):\n",
    "    def __init__(self, name, id_number, salary, post):\n",
    "        super().__init__(name, id_number)  # Calls Person's __init__()\n",
    "        self.salary = salary\n",
    "        self.post = post\n"
   ],
   "id": "641e0d9e0408a3c8"
  },
  {
   "metadata": {},
   "cell_type": "markdown",
   "source": [
    "## 封装与访问控制\n",
    "(1) 私有属性与方法\n",
    "约定：以单下划线 _ 或双下划线 __ 开头表示非公开成员。\n",
    "\n",
    "双下划线：名称修饰（Name Mangling），防止被子类意外覆盖。"
   ],
   "id": "60378fccac248b42"
  },
  {
   "metadata": {
    "ExecuteTime": {
     "end_time": "2025-02-16T14:53:03.340493Z",
     "start_time": "2025-02-16T14:53:03.326061Z"
    }
   },
   "cell_type": "code",
   "source": [
    "class BankAccount:\n",
    "    def __init__(self, balance):\n",
    "        self.__balance = balance  # __balance 私有属性 \n",
    "\n",
    "    def deposit(self, amount):\n",
    "        self.__balance += amount\n",
    "\n",
    "    def get_balance(self):  # 公开方法访问私有属性\n",
    "        return self.__balance\n",
    "\n",
    "\n",
    "account = BankAccount(1000)\n",
    "# print(account.__balance)  # 报错：AttributeError\n",
    "print(account.get_balance())  # 输出: 1000"
   ],
   "id": "cd8e3c9d64cb7bd3",
   "outputs": [
    {
     "name": "stdout",
     "output_type": "stream",
     "text": [
      "1000\n"
     ]
    }
   ],
   "execution_count": 4
  },
  {
   "metadata": {},
   "cell_type": "code",
   "outputs": [],
   "execution_count": null,
   "source": "",
   "id": "ed7bb2c09f60274d"
  },
  {
   "metadata": {},
   "cell_type": "markdown",
   "source": "",
   "id": "c5394db0bde1d124"
  },
  {
   "metadata": {},
   "cell_type": "markdown",
   "source": [
    "## Types of Python Inheritance\n",
    "\n",
    "1. **Single Inheritance**: A child class inherits from one parent class.  \n",
    "   *单继承*：一个子类从一个父类继承。\n",
    "\n",
    "2. **Multiple Inheritance**: A child class inherits from more than one parent class.  \n",
    "   *多重继承*：一个子类从多个父类继承。\n",
    "\n",
    "3. **Multilevel Inheritance**: A class is derived from a class which is also derived from another class.  \n",
    "   *多级继承*：类是从另一个类派生的类派生的。\n",
    "\n",
    "4. **Hierarchical Inheritance**: Multiple classes inherit from a single parent class.  \n",
    "   *层次继承*：多个类从单个父类继承。\n",
    "\n",
    "5. **Hybrid Inheritance**: A combination of more than one type of inheritance.  \n",
    "   *混合继承*：一种以上继承类型的组合。"
   ],
   "id": "8680bc45279d58fa"
  },
  {
   "metadata": {
    "ExecuteTime": {
     "end_time": "2025-02-16T14:51:59.596516Z",
     "start_time": "2025-02-16T14:48:22.808952Z"
    }
   },
   "cell_type": "code",
   "source": [
    "# 1. Single Inheritance\n",
    "class Person:\n",
    "    def __init__(self, name):\n",
    "        self.name = name\n",
    "\n",
    "\n",
    "class Employee(Person):  # Employee inherits from Person\n",
    "    def __init__(self, name, salary):\n",
    "        super().__init__(name)\n",
    "        self.salary = salary\n",
    "\n",
    "\n",
    "# 2. Multiple Inheritance\n",
    "class Job:\n",
    "    def __init__(self, salary):\n",
    "        self.salary = salary\n",
    "\n",
    "\n",
    "class EmployeePersonJob(Employee, Job):  # Inherits from both Employee and Job\n",
    "    def __init__(self, name, salary):\n",
    "        Employee.__init__(self, name, salary)  # Initialize Employee\n",
    "        Job.__init__(self, salary)  # Initialize Job\n",
    "\n",
    "\n",
    "# 3. Multilevel Inheritance\n",
    "class Manager(EmployeePersonJob):  # Inherits from EmployeePersonJob\n",
    "    def __init__(self, name, salary, department):\n",
    "        EmployeePersonJob.__init__(self, name, salary)  # Explicitly initialize EmployeePersonJob\n",
    "        self.department = department\n",
    "\n",
    "\n",
    "# 4. Hierarchical Inheritance\n",
    "class AssistantManager(EmployeePersonJob):  # Inherits from EmployeePersonJob\n",
    "    def __init__(self, name, salary, team_size):\n",
    "        EmployeePersonJob.__init__(self, name, salary)  # Explicitly initialize EmployeePersonJob\n",
    "        self.team_size = team_size\n",
    "\n",
    "\n",
    "# 5. Hybrid Inheritance (Multiple + Multilevel)\n",
    "class SeniorManager(Manager, AssistantManager):  # Inherits from both Manager and AssistantManager\n",
    "    def __init__(self, name, salary, department, team_size):\n",
    "        Manager.__init__(self, name, salary, department)  # Initialize Manager\n",
    "        AssistantManager.__init__(self, name, salary, team_size)  # Initialize AssistantManager\n",
    "\n",
    "\n",
    "# Creating objects to show inheritance\n",
    "\n",
    "# Single Inheritance\n",
    "emp = Employee(\"John\", 40000)\n",
    "print(emp.name, emp.salary)\n",
    "\n",
    "# Multiple Inheritance\n",
    "emp2 = EmployeePersonJob(\"Alice\", 50000)\n",
    "print(emp2.name, emp2.salary)\n",
    "\n",
    "# Multilevel Inheritance\n",
    "mgr = Manager(\"Bob\", 60000, \"HR\")\n",
    "print(mgr.name, mgr.salary, mgr.department)\n",
    "\n",
    "# Hierarchical Inheritance\n",
    "asst_mgr = AssistantManager(\"Charlie\", 45000, 10)\n",
    "print(asst_mgr.name, asst_mgr.salary, asst_mgr.team_size)\n",
    "\n",
    "# Hybrid Inheritance\n",
    "sen_mgr = SeniorManager(\"David\", 70000, \"Finance\", 20)\n",
    "print(sen_mgr.name, sen_mgr.salary, sen_mgr.department, sen_mgr.team_size)\n"
   ],
   "id": "854331fdaeead008",
   "outputs": [
    {
     "name": "stdout",
     "output_type": "stream",
     "text": [
      "John 40000\n"
     ]
    },
    {
     "ename": "KeyboardInterrupt",
     "evalue": "",
     "output_type": "error",
     "traceback": [
      "\u001B[0;31m---------------------------------------------------------------------------\u001B[0m",
      "\u001B[0;31mKeyboardInterrupt\u001B[0m                         Traceback (most recent call last)",
      "Cell \u001B[0;32mIn[3], line 46\u001B[0m\n\u001B[1;32m     43\u001B[0m \u001B[38;5;28mprint\u001B[39m(emp\u001B[38;5;241m.\u001B[39mname, emp\u001B[38;5;241m.\u001B[39msalary)\n\u001B[1;32m     45\u001B[0m \u001B[38;5;66;03m# Multiple Inheritance\u001B[39;00m\n\u001B[0;32m---> 46\u001B[0m emp2 \u001B[38;5;241m=\u001B[39m \u001B[43mEmployeePersonJob\u001B[49m(\u001B[38;5;124m\"\u001B[39m\u001B[38;5;124mAlice\u001B[39m\u001B[38;5;124m\"\u001B[39m, \u001B[38;5;241m50000\u001B[39m)\n\u001B[1;32m     47\u001B[0m \u001B[38;5;28mprint\u001B[39m(emp2\u001B[38;5;241m.\u001B[39mname, emp2\u001B[38;5;241m.\u001B[39msalary)\n\u001B[1;32m     49\u001B[0m \u001B[38;5;66;03m# Multilevel Inheritance\u001B[39;00m\n",
      "Cell \u001B[0;32mIn[3], line 46\u001B[0m\n\u001B[1;32m     43\u001B[0m \u001B[38;5;28mprint\u001B[39m(emp\u001B[38;5;241m.\u001B[39mname, emp\u001B[38;5;241m.\u001B[39msalary)\n\u001B[1;32m     45\u001B[0m \u001B[38;5;66;03m# Multiple Inheritance\u001B[39;00m\n\u001B[0;32m---> 46\u001B[0m emp2 \u001B[38;5;241m=\u001B[39m \u001B[43mEmployeePersonJob\u001B[49m(\u001B[38;5;124m\"\u001B[39m\u001B[38;5;124mAlice\u001B[39m\u001B[38;5;124m\"\u001B[39m, \u001B[38;5;241m50000\u001B[39m)\n\u001B[1;32m     47\u001B[0m \u001B[38;5;28mprint\u001B[39m(emp2\u001B[38;5;241m.\u001B[39mname, emp2\u001B[38;5;241m.\u001B[39msalary)\n\u001B[1;32m     49\u001B[0m \u001B[38;5;66;03m# Multilevel Inheritance\u001B[39;00m\n",
      "File \u001B[0;32m_pydevd_bundle\\\\pydevd_cython.pyx:1697\u001B[0m, in \u001B[0;36m_pydevd_bundle.pydevd_cython.SafeCallWrapper.__call__\u001B[0;34m()\u001B[0m\n",
      "File \u001B[0;32m_pydevd_bundle\\\\pydevd_cython.pyx:634\u001B[0m, in \u001B[0;36m_pydevd_bundle.pydevd_cython.PyDBFrame.trace_dispatch\u001B[0;34m()\u001B[0m\n",
      "File \u001B[0;32m_pydevd_bundle\\\\pydevd_cython.pyx:1112\u001B[0m, in \u001B[0;36m_pydevd_bundle.pydevd_cython.PyDBFrame.trace_dispatch\u001B[0;34m()\u001B[0m\n",
      "File \u001B[0;32m_pydevd_bundle\\\\pydevd_cython.pyx:1090\u001B[0m, in \u001B[0;36m_pydevd_bundle.pydevd_cython.PyDBFrame.trace_dispatch\u001B[0;34m()\u001B[0m\n",
      "File \u001B[0;32m_pydevd_bundle\\\\pydevd_cython.pyx:494\u001B[0m, in \u001B[0;36m_pydevd_bundle.pydevd_cython.PyDBFrame.do_wait_suspend\u001B[0;34m()\u001B[0m\n",
      "File \u001B[0;32m~/miniconda3/envs/pylearn/lib/python3.10/site-packages/debugpy/_vendored/pydevd/pydevd.py:2185\u001B[0m, in \u001B[0;36mPyDB.do_wait_suspend\u001B[0;34m(self, thread, frame, event, arg, exception_type)\u001B[0m\n\u001B[1;32m   2182\u001B[0m             from_this_thread\u001B[38;5;241m.\u001B[39mappend(frame_custom_thread_id)\n\u001B[1;32m   2184\u001B[0m     \u001B[38;5;28;01mwith\u001B[39;00m \u001B[38;5;28mself\u001B[39m\u001B[38;5;241m.\u001B[39m_threads_suspended_single_notification\u001B[38;5;241m.\u001B[39mnotify_thread_suspended(thread_id, thread, stop_reason):\n\u001B[0;32m-> 2185\u001B[0m         keep_suspended \u001B[38;5;241m=\u001B[39m \u001B[38;5;28;43mself\u001B[39;49m\u001B[38;5;241;43m.\u001B[39;49m\u001B[43m_do_wait_suspend\u001B[49m\u001B[43m(\u001B[49m\u001B[43mthread\u001B[49m\u001B[43m,\u001B[49m\u001B[43m \u001B[49m\u001B[43mframe\u001B[49m\u001B[43m,\u001B[49m\u001B[43m \u001B[49m\u001B[43mevent\u001B[49m\u001B[43m,\u001B[49m\u001B[43m \u001B[49m\u001B[43marg\u001B[49m\u001B[43m,\u001B[49m\u001B[43m \u001B[49m\u001B[43mtrace_suspend_type\u001B[49m\u001B[43m,\u001B[49m\u001B[43m \u001B[49m\u001B[43mfrom_this_thread\u001B[49m\u001B[43m,\u001B[49m\u001B[43m \u001B[49m\u001B[43mframes_tracker\u001B[49m\u001B[43m)\u001B[49m\n\u001B[1;32m   2187\u001B[0m frames_list \u001B[38;5;241m=\u001B[39m \u001B[38;5;28;01mNone\u001B[39;00m\n\u001B[1;32m   2189\u001B[0m \u001B[38;5;28;01mif\u001B[39;00m keep_suspended:\n\u001B[1;32m   2190\u001B[0m     \u001B[38;5;66;03m# This means that we should pause again after a set next statement.\u001B[39;00m\n",
      "File \u001B[0;32m~/miniconda3/envs/pylearn/lib/python3.10/site-packages/debugpy/_vendored/pydevd/pydevd.py:2254\u001B[0m, in \u001B[0;36mPyDB._do_wait_suspend\u001B[0;34m(self, thread, frame, event, arg, trace_suspend_type, from_this_thread, frames_tracker)\u001B[0m\n\u001B[1;32m   2251\u001B[0m                 queue\u001B[38;5;241m.\u001B[39mput(internal_cmd)\n\u001B[1;32m   2252\u001B[0m                 wait_timeout \u001B[38;5;241m=\u001B[39m TIMEOUT_FAST\n\u001B[0;32m-> 2254\u001B[0m         \u001B[43mnotify_event\u001B[49m\u001B[38;5;241;43m.\u001B[39;49m\u001B[43mwait\u001B[49m\u001B[43m(\u001B[49m\u001B[43mwait_timeout\u001B[49m\u001B[43m)\u001B[49m\n\u001B[1;32m   2255\u001B[0m         notify_event\u001B[38;5;241m.\u001B[39mclear()\n\u001B[1;32m   2257\u001B[0m \u001B[38;5;28;01mfinally\u001B[39;00m:\n",
      "File \u001B[0;32m~/miniconda3/envs/pylearn/lib/python3.10/threading.py:607\u001B[0m, in \u001B[0;36mEvent.wait\u001B[0;34m(self, timeout)\u001B[0m\n\u001B[1;32m    605\u001B[0m signaled \u001B[38;5;241m=\u001B[39m \u001B[38;5;28mself\u001B[39m\u001B[38;5;241m.\u001B[39m_flag\n\u001B[1;32m    606\u001B[0m \u001B[38;5;28;01mif\u001B[39;00m \u001B[38;5;129;01mnot\u001B[39;00m signaled:\n\u001B[0;32m--> 607\u001B[0m     signaled \u001B[38;5;241m=\u001B[39m \u001B[38;5;28;43mself\u001B[39;49m\u001B[38;5;241;43m.\u001B[39;49m\u001B[43m_cond\u001B[49m\u001B[38;5;241;43m.\u001B[39;49m\u001B[43mwait\u001B[49m\u001B[43m(\u001B[49m\u001B[43mtimeout\u001B[49m\u001B[43m)\u001B[49m\n\u001B[1;32m    608\u001B[0m \u001B[38;5;28;01mreturn\u001B[39;00m signaled\n",
      "File \u001B[0;32m~/miniconda3/envs/pylearn/lib/python3.10/threading.py:324\u001B[0m, in \u001B[0;36mCondition.wait\u001B[0;34m(self, timeout)\u001B[0m\n\u001B[1;32m    322\u001B[0m \u001B[38;5;28;01melse\u001B[39;00m:\n\u001B[1;32m    323\u001B[0m     \u001B[38;5;28;01mif\u001B[39;00m timeout \u001B[38;5;241m>\u001B[39m \u001B[38;5;241m0\u001B[39m:\n\u001B[0;32m--> 324\u001B[0m         gotit \u001B[38;5;241m=\u001B[39m \u001B[43mwaiter\u001B[49m\u001B[38;5;241;43m.\u001B[39;49m\u001B[43macquire\u001B[49m\u001B[43m(\u001B[49m\u001B[38;5;28;43;01mTrue\u001B[39;49;00m\u001B[43m,\u001B[49m\u001B[43m \u001B[49m\u001B[43mtimeout\u001B[49m\u001B[43m)\u001B[49m\n\u001B[1;32m    325\u001B[0m     \u001B[38;5;28;01melse\u001B[39;00m:\n\u001B[1;32m    326\u001B[0m         gotit \u001B[38;5;241m=\u001B[39m waiter\u001B[38;5;241m.\u001B[39macquire(\u001B[38;5;28;01mFalse\u001B[39;00m)\n",
      "\u001B[0;31mKeyboardInterrupt\u001B[0m: "
     ]
    }
   ],
   "execution_count": 3
  },
  {
   "metadata": {},
   "cell_type": "markdown",
   "source": [
    "# Inheritance\n",
    "## 继承与方法重写（最常见形式）"
   ],
   "id": "4813730816c97acb"
  },
  {
   "metadata": {
    "ExecuteTime": {
     "end_time": "2025-02-16T14:58:45.228193Z",
     "start_time": "2025-02-16T14:58:45.212502Z"
    }
   },
   "cell_type": "code",
   "source": [
    "class Shape:\n",
    "    def area(self):\n",
    "        return \"Undefined\"\n",
    "\n",
    "\n",
    "class Rectangle(Shape):\n",
    "    def __init__(self, length, width):\n",
    "        self.length = length\n",
    "        self.width = width\n",
    "\n",
    "    def area(self):  # Override the parent function\n",
    "        return self.length * self.width\n",
    "\n",
    "\n",
    "class Circle(Shape):\n",
    "    def __init__(self, radius):\n",
    "        self.radius = radius\n",
    "\n",
    "    def area(self):\n",
    "        return 3.14 * self.radius ** 2\n",
    "\n",
    "\n",
    "shapes = [Rectangle(2, 3), Circle(5)]\n",
    "for shape in shapes:\n",
    "    print(f\"Area: {shape.area()}\")\n"
   ],
   "id": "a9beeaf9c22c8004",
   "outputs": [
    {
     "name": "stdout",
     "output_type": "stream",
     "text": [
      "Area: 6\n",
      "Area: 78.5\n"
     ]
    }
   ],
   "execution_count": 2
  },
  {
   "metadata": {},
   "cell_type": "markdown",
   "source": [
    "## 鸭子类型（Duck Typing）\n",
    "Python 特有机制：不关注对象类型，只关注对象是否具备所需方法"
   ],
   "id": "7e7102a09ee89109"
  },
  {
   "metadata": {
    "ExecuteTime": {
     "end_time": "2025-02-16T15:06:15.881121Z",
     "start_time": "2025-02-16T15:06:15.872040Z"
    }
   },
   "cell_type": "code",
   "source": [
    "class Dog:\n",
    "    def speak(self):\n",
    "        return \"Dog: 汪汪！\"\n",
    "\n",
    "\n",
    "class Duck:\n",
    "    def speak(self):  # 非继承关系但同名方法\n",
    "        return \"Duck: 嘎嘎！\"\n",
    "\n",
    "\n",
    "def make_sound(obj):\n",
    "    print(obj.speak())  # 只要具备 speak 方法即可\n",
    "\n",
    "\n",
    "make_sound(Dog())  # Dog: 汪汪！\n",
    "make_sound(Duck())  # Duck: 嘎嘎！\n"
   ],
   "id": "101b579153e63dc4",
   "outputs": [
    {
     "name": "stdout",
     "output_type": "stream",
     "text": [
      "Dog: 汪汪！\n",
      "Duck: 嘎嘎！\n"
     ]
    }
   ],
   "execution_count": 3
  },
  {
   "metadata": {},
   "cell_type": "markdown",
   "source": [
    "## 抽象基类规范（abc模块）\n",
    "强制要求子类必须实现特定方法"
   ],
   "id": "f777664ab61233c1"
  },
  {
   "metadata": {
    "jupyter": {
     "is_executing": true
    }
   },
   "cell_type": "code",
   "source": [
    "from abc import ABC, abstractmethod\n",
    "\n",
    "\n",
    "class Shape(ABC):\n",
    "    @abstractmethod\n",
    "    def area(self):\n",
    "        pass\n",
    "\n",
    "\n",
    "class Circle(Shape):\n",
    "    def __init__(self, radius):\n",
    "        self.radius = radius\n",
    "\n",
    "    def area(self):  # 必须实现抽象方法\n",
    "        return 3.14 * self.radius ** 2\n",
    "\n",
    "\n",
    "class Square(Shape):\n",
    "    def __init__(self, side):\n",
    "        self.side = side\n",
    "\n",
    "    def area(self):  # 必须实现抽象方法\n",
    "        return self.side ** 2\n",
    "\n",
    "\n",
    "def show_area(shape):\n",
    "    print(f\"面积：{shape.area()}\")\n",
    "\n",
    "\n",
    "show_area(Circle(5))  # 面积：78.5\n",
    "show_area(Square(4))  # 面积：16\n"
   ],
   "id": "2f874fe4a7253aab",
   "outputs": [],
   "execution_count": null
  },
  {
   "metadata": {},
   "cell_type": "markdown",
   "source": [
    "# Encapsulation in Python\n",
    "封装是面向对象编程的三大特性之一，核心思想是 隐藏对象内部细节，通过公共接口控制访问权限。主要目标：\n",
    "\n",
    "- 保护数据完整性：防止外部直接修改敏感数据\n",
    "- 降低耦合度：内部实现修改不影响外部调用\n",
    "- 简化使用：暴露必要操作，隐藏复杂实现"
   ],
   "id": "3e3ff1dc2499ee0f"
  },
  {
   "metadata": {},
   "cell_type": "markdown",
   "source": "## 使用 单下划线 和 双下划线 实现伪私有化：",
   "id": "e7a196c89a93f102"
  },
  {
   "metadata": {
    "ExecuteTime": {
     "end_time": "2025-02-17T08:31:19.283729Z",
     "start_time": "2025-02-17T08:31:19.273194Z"
    }
   },
   "cell_type": "code",
   "source": [
    "class BankAccount:\n",
    "    def __init__(self, balance):\n",
    "        self._balance = balance  # 受保护属性（约定）\n",
    "        self.__secret_code = 1234  # 私有属性（名称修饰）\n",
    "\n",
    "    def get_balance(self):  # 公共方法\n",
    "        return self._balance\n",
    "\n",
    "\n",
    "acc = BankAccount(1000)\n",
    "print(acc.get_balance())  # 正常访问 → 1000\n",
    "print(acc._balance)  # 仍可访问（不推荐）→ 1000\n",
    "# print(acc.__secret_code) # 报错：AttributeError\n",
    "print(acc._BankAccount__secret_code)  # 强制访问 → 1234\n"
   ],
   "id": "edb510ccc039897d",
   "outputs": [
    {
     "name": "stdout",
     "output_type": "stream",
     "text": [
      "1000\n",
      "1000\n",
      "1234\n"
     ]
    }
   ],
   "execution_count": 2
  },
  {
   "metadata": {},
   "cell_type": "markdown",
   "source": [
    " ## 属性装饰器（推荐方式）\n",
    "`@property`：将方法转为只读属性。\n",
    "\n",
    "`@<property_name>.setter`：定义属性的设置逻辑。\n",
    "\n",
    "`@<property_name>.deleter`：定义属性的删除逻辑。"
   ],
   "id": "fc4e8f54cd14a0d9"
  },
  {
   "metadata": {},
   "cell_type": "code",
   "outputs": [],
   "execution_count": null,
   "source": [
    "class Temperature:\n",
    "    def __init__(self, celsius):\n",
    "        self._celsius = celsius\n",
    "\n",
    "    @property\n",
    "    def celsius(self):  # Getter\n",
    "        return self._celsius\n",
    "\n",
    "    @celsius.setter\n",
    "    def celsius(self, value):  # Setter\n",
    "        if value < -273.15:\n",
    "            raise ValueError(\"温度不能低于绝对零度\")\n",
    "        self._celsius = value\n",
    "\n",
    "    @celsius.getter\n",
    "    def celsius(self):\n",
    "        return self._celsius\n",
    "\n",
    "    @property\n",
    "    def fahrenheit(self):  # 计算属性\n",
    "        return self._celsius * 9 / 5 + 32\n",
    "\n",
    "\n",
    "t = Temperature(25)\n",
    "print(t.celsius)  # 25\n",
    "t.celsius = 30  # 通过setter修改\n",
    "print(t.fahrenheit)  # 86.0\n",
    "# t.celsius = -300     # 触发ValueError\n"
   ],
   "id": "b95f74888ab47ecc"
  },
  {
   "metadata": {},
   "cell_type": "markdown",
   "source": "## 方法封装（操作隔离）",
   "id": "7763bd100f351511"
  },
  {
   "metadata": {
    "ExecuteTime": {
     "end_time": "2025-02-17T08:39:06.875626Z",
     "start_time": "2025-02-17T08:39:06.864882Z"
    }
   },
   "cell_type": "code",
   "source": [
    "class EmailSender:\n",
    "    def __init__(self, smtp_server):\n",
    "        self._smtp_server = smtp_server\n",
    "\n",
    "    def _connect(self):  # 私有方法\n",
    "        print(f\"连接到 {self._smtp_server}...\")\n",
    "\n",
    "    def _authenticate(self):\n",
    "        print(\"身份验证...\")\n",
    "\n",
    "    def send_email(self, to, content):  # 公共接口\n",
    "        self._connect()\n",
    "        self._authenticate()\n",
    "        print(f\"发送邮件到 {to}: {content[:20]}...\")\n",
    "\n",
    "sender = EmailSender(\"smtp.example.com\")\n",
    "sender.send_email(\"user@test.com\", \"这是一封重要邮件的内容\")\n",
    "# sender._connect()  # 仍可访问（不推荐）\n"
   ],
   "id": "1a0278ea8e15c768",
   "outputs": [
    {
     "name": "stdout",
     "output_type": "stream",
     "text": [
      "连接到 smtp.example.com...\n",
      "身份验证...\n",
      "发送邮件到 user@test.com: 这是一封重要邮件的内容...\n"
     ]
    }
   ],
   "execution_count": 3
  },
  {
   "metadata": {},
   "cell_type": "markdown",
   "source": [
    "## 高级封装（slots）\n",
    "限制对象属性，提升内存效率："
   ],
   "id": "2fd8e415ac4e7317"
  },
  {
   "metadata": {
    "ExecuteTime": {
     "end_time": "2025-02-17T08:40:53.094723Z",
     "start_time": "2025-02-17T08:40:53.061754Z"
    }
   },
   "cell_type": "code",
   "source": [
    "class ImmutablePoint:\n",
    "    __slots__ = ['x', 'y']  # 固定允许的属性\n",
    "\n",
    "    def __init__(self, x, y):\n",
    "        self.x = x\n",
    "        self.y = y\n",
    "        # self.z = 2 # AttributeError: 'ImmutablePoint' object has no attribute 'z'\n",
    "\n",
    "p = ImmutablePoint(3, 4)\n",
    "print(p.x, p.y)  # 3 4\n",
    "# p.z = 5       # 报错：AttributeError\n"
   ],
   "id": "5ae4425552280047",
   "outputs": [
    {
     "ename": "AttributeError",
     "evalue": "'ImmutablePoint' object has no attribute 'z'",
     "output_type": "error",
     "traceback": [
      "\u001B[0;31m---------------------------------------------------------------------------\u001B[0m",
      "\u001B[0;31mAttributeError\u001B[0m                            Traceback (most recent call last)",
      "Cell \u001B[0;32mIn[5], line 9\u001B[0m\n\u001B[1;32m      6\u001B[0m         \u001B[38;5;28mself\u001B[39m\u001B[38;5;241m.\u001B[39my \u001B[38;5;241m=\u001B[39m y\n\u001B[1;32m      7\u001B[0m         \u001B[38;5;28mself\u001B[39m\u001B[38;5;241m.\u001B[39mz \u001B[38;5;241m=\u001B[39m \u001B[38;5;241m2\u001B[39m\n\u001B[0;32m----> 9\u001B[0m p \u001B[38;5;241m=\u001B[39m \u001B[43mImmutablePoint\u001B[49m\u001B[43m(\u001B[49m\u001B[38;5;241;43m3\u001B[39;49m\u001B[43m,\u001B[49m\u001B[43m \u001B[49m\u001B[38;5;241;43m4\u001B[39;49m\u001B[43m)\u001B[49m\n\u001B[1;32m     10\u001B[0m \u001B[38;5;28mprint\u001B[39m(p\u001B[38;5;241m.\u001B[39mx, p\u001B[38;5;241m.\u001B[39my)\n",
      "Cell \u001B[0;32mIn[5], line 7\u001B[0m, in \u001B[0;36mImmutablePoint.__init__\u001B[0;34m(self, x, y)\u001B[0m\n\u001B[1;32m      5\u001B[0m \u001B[38;5;28mself\u001B[39m\u001B[38;5;241m.\u001B[39mx \u001B[38;5;241m=\u001B[39m x\n\u001B[1;32m      6\u001B[0m \u001B[38;5;28mself\u001B[39m\u001B[38;5;241m.\u001B[39my \u001B[38;5;241m=\u001B[39m y\n\u001B[0;32m----> 7\u001B[0m \u001B[38;5;28mself\u001B[39m\u001B[38;5;241m.\u001B[39mz \u001B[38;5;241m=\u001B[39m \u001B[38;5;241m2\u001B[39m\n",
      "\u001B[0;31mAttributeError\u001B[0m: 'ImmutablePoint' object has no attribute 'z'"
     ]
    }
   ],
   "execution_count": 5
  },
  {
   "metadata": {},
   "cell_type": "markdown",
   "source": [
    "## 高级封装技巧\n",
    "### 上下文管理器封装资源"
   ],
   "id": "ce04bf9aa6ab3e77"
  },
  {
   "metadata": {
    "ExecuteTime": {
     "end_time": "2025-02-17T08:43:16.242649Z",
     "start_time": "2025-02-17T08:43:16.231173Z"
    }
   },
   "cell_type": "code",
   "source": [
    "class DatabaseConnection:\n",
    "    def __enter__(self):\n",
    "        self._connect()\n",
    "        return self\n",
    "    \n",
    "    def __init__(self):\n",
    "        pass\n",
    "    \n",
    "    def __exit__(self, exc_type, exc_val, exc_tb):\n",
    "        self._close()\n",
    "\n",
    "    def _connect(self):\n",
    "        print(\"建立数据库连接\")\n",
    "\n",
    "    def _close(self):\n",
    "        print(\"关闭数据库连接\")\n",
    "\n",
    "    def execute_query(self, sql):\n",
    "        print(f\"执行SQL: {sql[:20]}...\")\n",
    "\n",
    "# 使用示例\n",
    "with DatabaseConnection() as conn:\n",
    "    conn.execute_query(\"SELECT * FROM users WHERE age > 18\")\n",
    "# 自动调用_close() 优点\n"
   ],
   "id": "ddcd3ca25c97d778",
   "outputs": [
    {
     "name": "stdout",
     "output_type": "stream",
     "text": [
      "建立数据库连接\n",
      "执行SQL: SELECT * FROM users ...\n",
      "关闭数据库连接\n"
     ]
    }
   ],
   "execution_count": 7
  },
  {
   "metadata": {},
   "cell_type": "markdown",
   "source": "### 数据类封装（Python 3.7+）",
   "id": "49840defe1a5904f"
  },
  {
   "metadata": {},
   "cell_type": "code",
   "outputs": [],
   "execution_count": null,
   "source": [
    "from dataclasses import dataclass\n",
    "\n",
    "@dataclass(frozen=True)  # 不可变对象\n",
    "class Product:\n",
    "    name: str\n",
    "    price: float\n",
    "    _stock: int = 0  # 受保护属性\n",
    "\n",
    "    def restock(self, quantity):\n",
    "        if quantity <= 0:\n",
    "            raise ValueError(\"数量必须为正数\")\n",
    "        self._stock += quantity\n",
    "\n",
    "    @property\n",
    "    def stock_info(self):\n",
    "        return f\"库存：{self._stock}件\"\n",
    "\n",
    "phone = Product(\"智能手机\", 2999.0)\n",
    "phone.restock(100)\n",
    "print(phone.stock_info)  # 库存：100件\n",
    "# phone.price = 1999.0   # 报错（frozen=True）\n"
   ],
   "id": "25a722384e98e6bc"
  },
  {
   "metadata": {},
   "cell_type": "markdown",
   "source": [
    "封装的优势对比表\n",
    "| 特性 | 无封装 | 良好封装 |\n",
    "|-------|--------|----------|\n",
    "| 数据安全 | 可直接修改 | 通过方法验证 |\n",
    "| 实现修改 | 影响所有使用者 | 内部修改透明 |\n",
    "| 使用复杂度 | 需要了解实现细节 | 只需知道接口 |\n",
    "| 错误排查 | 难以定位 | 错误范围明确 |\n",
    "\n",
    "## 最佳实践建议\n",
    "1. **最小暴露原则**：只暴露必要的属性和方法\n",
    "2. **防御性编程**：在setter中进行数据验证\n",
    "3. **文档注释**：为公共接口添加详细文档\n",
    "4. **单元测试**：重点测试公共接口行为"
   ],
   "id": "2b9d217b5687c0e2"
  },
  {
   "metadata": {
    "ExecuteTime": {
     "end_time": "2025-02-17T08:46:06.648299Z",
     "start_time": "2025-02-17T08:46:06.637777Z"
    }
   },
   "cell_type": "code",
   "source": [
    "# 综合示例：安全计数器\n",
    "class SafeCounter:\n",
    "    def __init__(self):\n",
    "        self._count = 0\n",
    "        self._max_limit = 100\n",
    "\n",
    "    @property\n",
    "    def count(self):\n",
    "        return self._count\n",
    "\n",
    "    def increment(self):\n",
    "        if self._count >= self._max_limit:\n",
    "            raise ValueError(\"超过最大计数值\")\n",
    "        self._count += 1\n",
    "\n",
    "    def reset(self):\n",
    "        self._count = 0\n",
    "        print(\"计数器已重置\")\n",
    "\n",
    "counter = SafeCounter()\n",
    "for _ in range(5):\n",
    "    counter.increment()\n",
    "print(counter.count)  # 5\n",
    "# counter.count = 10  # 报错（无setter）\n"
   ],
   "id": "676f004a429f53b4",
   "outputs": [
    {
     "name": "stdout",
     "output_type": "stream",
     "text": [
      "5\n"
     ]
    }
   ],
   "execution_count": 8
  }
 ],
 "metadata": {
  "kernelspec": {
   "display_name": "Python 3",
   "language": "python",
   "name": "python3"
  },
  "language_info": {
   "codemirror_mode": {
    "name": "ipython",
    "version": 2
   },
   "file_extension": ".py",
   "mimetype": "text/x-python",
   "name": "python",
   "nbconvert_exporter": "python",
   "pygments_lexer": "ipython2",
   "version": "2.7.6"
  }
 },
 "nbformat": 4,
 "nbformat_minor": 5
}
