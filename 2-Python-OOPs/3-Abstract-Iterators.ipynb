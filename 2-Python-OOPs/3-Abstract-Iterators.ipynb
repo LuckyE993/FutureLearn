{
 "cells": [
  {
   "metadata": {},
   "cell_type": "markdown",
   "source": [
    "# Abstract\n",
    "1. **什么是抽象**  \n",
    "   抽象是 OOP 的核心概念之一，它隐藏复杂的实现细节，只暴露必要的接口。通过抽象，你可以定义一个类的“骨架”，强制子类实现特定的方法。\n",
    "\n",
    "2. **抽象基类（Abstract Base Class, ABC）**  \n",
    "   在 Python 中，使用 `abc` 模块中的 `ABC` 类和 `abstractmethod` 装饰器定义抽象基类：\n",
    "   - 抽象类不能被实例化。\n",
    "   - 抽象方法必须在子类中实现。\n",
    "\n",
    "3. **使用场景**  \n",
    "   当多个类有共同的行为但具体实现不同时，抽象基类可以强制统一接口。"
   ],
   "id": "ef7b1c86851c9748"
  },
  {
   "cell_type": "code",
   "id": "initial_id",
   "metadata": {
    "collapsed": true,
    "ExecuteTime": {
     "end_time": "2025-02-17T08:55:12.044543Z",
     "start_time": "2025-02-17T08:55:12.011549Z"
    }
   },
   "source": [
    "from abc import ABC, abstractmethod\n",
    "\n",
    "# Define an abstract class\n",
    "class Animal(ABC):\n",
    "    \n",
    "    @abstractmethod\n",
    "    def sound(self):\n",
    "        pass  # This is an abstract method, no implementation here.\n",
    "\n",
    "# Concrete subclass of Animal\n",
    "class Dog(Animal):\n",
    "    \n",
    "    def sound(self):\n",
    "        return \"Bark\"  # Providing the implementation of the abstract method\n",
    "\n",
    "# Create an instance of Dog\n",
    "dog = Dog()\n",
    "print(dog.sound())  # Output: Bark\n"
   ],
   "outputs": [
    {
     "name": "stdout",
     "output_type": "stream",
     "text": [
      "Bark\n"
     ]
    }
   ],
   "execution_count": 1
  },
  {
   "metadata": {},
   "cell_type": "markdown",
   "source": [
    "**抽象基类**：`Animal` 是一个继承自 `ABC`（抽象基类）的抽象类。这个类不能直接实例化，因为它包含一个抽象方法 `sound()`。`@abstractmethod` 装饰器用于将 `sound()` 标记为抽象方法。这意味着任何子类都必须实现这个方法才能被实例化。\n",
    "\n",
    "**具体子类**：`Dog` 是 `Animal` 的一个子类，它为 `sound()` 方法提供了具体实现。这使得 `Dog` 类可以被实例化并使用。\n",
    "\n",
    "**实例化**：我们创建了一个 `Dog` 的实例，并调用了 `sound()` 方法，该方法返回了“Bark”。\n"
   ],
   "id": "807b42bc6fa35605"
  },
  {
   "metadata": {
    "ExecuteTime": {
     "end_time": "2025-02-17T09:00:25.857775Z",
     "start_time": "2025-02-17T09:00:24.784194Z"
    }
   },
   "cell_type": "code",
   "source": [
    "# Abstract Properties\n",
    "from abc import ABC, abstractmethod\n",
    "\n",
    "class Animal(ABC):\n",
    "    @property\n",
    "    @abstractmethod\n",
    "    def species(self):\n",
    "        pass  # Abstract property, must be implemented by subclasses\n",
    "\n",
    "class Dog(Animal):\n",
    "    @property\n",
    "    def species(self):\n",
    "        return \"Canine\"\n",
    "\n",
    "# animal = Animal()\n",
    "# animal.species # TypeError: Can't instantiate abstract class Animal with abstract method species\n",
    "# Instantiate the concrete subclass\n",
    "dog = Dog()\n",
    "print(dog.species)\n"
   ],
   "id": "38b023a02966aa02",
   "outputs": [
    {
     "name": "stdout",
     "output_type": "stream",
     "text": [
      "Canine\n"
     ]
    }
   ],
   "execution_count": 6
  },
  {
   "metadata": {},
   "cell_type": "markdown",
   "source": "# Iterators ",
   "id": "bcd08ce403f474b6"
  },
  {
   "metadata": {
    "ExecuteTime": {
     "end_time": "2025-02-17T09:01:22.229221Z",
     "start_time": "2025-02-17T09:01:22.145763Z"
    }
   },
   "cell_type": "code",
   "source": [
    "s = \"GFG\"\n",
    "it = iter(s)\n",
    "\n",
    "print(next(it))\n",
    "print(next(it))\n",
    "print(next(it))\n"
   ],
   "id": "b4af2086b6d0569e",
   "outputs": [
    {
     "name": "stdout",
     "output_type": "stream",
     "text": [
      "G\n",
      "F\n",
      "G\n"
     ]
    }
   ],
   "execution_count": 7
  },
  {
   "metadata": {
    "ExecuteTime": {
     "end_time": "2025-02-17T09:02:00.633633Z",
     "start_time": "2025-02-17T09:01:59.446355Z"
    }
   },
   "cell_type": "code",
   "source": [
    "class EvenNumbers:\n",
    "    def __iter__(self):\n",
    "        self.n = 2  # Start from the first even number\n",
    "        return self\n",
    "\n",
    "    def __next__(self):\n",
    "        x = self.n\n",
    "        self.n += 2  # Increment by 2 to get the next even number\n",
    "        return x\n",
    "\n",
    "# Create an instance of EvenNumbers\n",
    "even = EvenNumbers()\n",
    "it = iter(even)\n",
    "\n",
    "# Print the first five even numbers\n",
    "print(next(it))  \n",
    "print(next(it)) \n",
    "print(next(it))  \n",
    "print(next(it)) \n",
    "print(next(it))  \n"
   ],
   "id": "d4bedf3ef7a2c068",
   "outputs": [
    {
     "name": "stdout",
     "output_type": "stream",
     "text": [
      "2\n",
      "4\n",
      "6\n",
      "8\n",
      "10\n"
     ]
    }
   ],
   "execution_count": 8
  },
  {
   "metadata": {
    "ExecuteTime": {
     "end_time": "2025-02-17T09:02:45.123407Z",
     "start_time": "2025-02-17T09:02:45.111340Z"
    }
   },
   "cell_type": "code",
   "source": [
    "li = [100, 200, 300]\n",
    "it = iter(li)\n",
    "\n",
    "# Iterate until StopIteration is raised\n",
    "while True:\n",
    "    try:\n",
    "        print(next(it))\n",
    "    except StopIteration:\n",
    "        print(\"End of iteration\")\n",
    "        break\n"
   ],
   "id": "89323938ac7cb19c",
   "outputs": [
    {
     "name": "stdout",
     "output_type": "stream",
     "text": [
      "100\n",
      "200\n",
      "300\n",
      "End of iteration\n"
     ]
    }
   ],
   "execution_count": 9
  }
 ],
 "metadata": {
  "kernelspec": {
   "display_name": "Python 3",
   "language": "python",
   "name": "python3"
  },
  "language_info": {
   "codemirror_mode": {
    "name": "ipython",
    "version": 2
   },
   "file_extension": ".py",
   "mimetype": "text/x-python",
   "name": "python",
   "nbconvert_exporter": "python",
   "pygments_lexer": "ipython2",
   "version": "2.7.6"
  }
 },
 "nbformat": 4,
 "nbformat_minor": 5
}
