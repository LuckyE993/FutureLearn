{
 "cells": [
  {
   "metadata": {},
   "cell_type": "markdown",
   "source": [
    "# 高级特性\n",
    "## 1. 切片\n"
   ],
   "id": "ff7dac8c5a012eb"
  },
  {
   "cell_type": "code",
   "id": "initial_id",
   "metadata": {
    "collapsed": true
   },
   "source": "L = ['Michael', 'Sarah', 'Tracy', 'Bob', 'Jack']",
   "outputs": [],
   "execution_count": null
  },
  {
   "metadata": {},
   "cell_type": "code",
   "source": [
    "print(L[0:3])  # ['Michael', 'Sarah', 'Tracy']\n",
    "print(L[:3])  # ['Michael', 'Sarah', 'Tracy']"
   ],
   "id": "d5775c5f2056b574",
   "outputs": [],
   "execution_count": null
  },
  {
   "metadata": {},
   "cell_type": "code",
   "source": [
    "# 倒数第一个元素的索引是-1\n",
    "print(L[-2:])  # ['Bob', 'Jack']\n",
    "print(L[-2:-1])  # ['Bob']"
   ],
   "id": "d53ec965d76b5086",
   "outputs": [],
   "execution_count": null
  },
  {
   "metadata": {},
   "cell_type": "code",
   "source": [
    "# 利用切片操作，实现一个trim()函数，去除字符串首尾的空格，注意不要调用str的strip()方法：\n",
    "def trim(s):\n",
    "    if s == '':\n",
    "        return ''\n",
    "    i = 0\n",
    "    while i < len(s):\n",
    "        if s[i] != ' ':\n",
    "            break\n",
    "        i += 1\n",
    "\n",
    "    if i == len(s):\n",
    "        return ''\n",
    "\n",
    "    j = len(s) - 1\n",
    "\n",
    "    while j >= 0:\n",
    "        if s[j] != ' ':\n",
    "            break\n",
    "        j -= 1\n",
    "\n",
    "    return s[i:j + 1]\n",
    "\n",
    "\n",
    "# 测试:\n",
    "if trim('hello  ') != 'hello':\n",
    "    print('测试失败!')\n",
    "elif trim('  hello') != 'hello':\n",
    "    print('测试失败!')\n",
    "elif trim('  hello  ') != 'hello':\n",
    "    print('测试失败!')\n",
    "elif trim('  hello  world  ') != 'hello  world':\n",
    "    print('测试失败!')\n",
    "elif trim('') != '':\n",
    "    print('测试失败!')\n",
    "elif trim('    ') != '':\n",
    "    print('测试失败!')\n",
    "else:\n",
    "    print('测试成功!')\n"
   ],
   "id": "826540497621b5cc",
   "outputs": [],
   "execution_count": null
  },
  {
   "metadata": {},
   "cell_type": "markdown",
   "source": "## 2. 迭代",
   "id": "4f04ae6f634879f8"
  },
  {
   "metadata": {},
   "cell_type": "code",
   "source": "d = {'a': 1, 'b': 2, 'c': 3}",
   "id": "b5fc1da8e3ee63cf",
   "outputs": [],
   "execution_count": null
  },
  {
   "metadata": {},
   "cell_type": "code",
   "source": [
    "for k, v in d.items():\n",
    "    print(k, v)"
   ],
   "id": "885a0a9f1af041c5",
   "outputs": [],
   "execution_count": null
  },
  {
   "metadata": {},
   "cell_type": "code",
   "source": [
    "for ch in 'ABC':\n",
    "    print(ch)"
   ],
   "id": "81c21d34d1654195",
   "outputs": [],
   "execution_count": null
  },
  {
   "metadata": {},
   "cell_type": "code",
   "source": [
    "from collections.abc import Iterable\n",
    "\n",
    "print(isinstance('abc', Iterable))  # str是否可迭代\n",
    "print(isinstance([1, 2, 3], Iterable))  # list是否可迭代\n",
    "print(isinstance(123, Iterable))  # 整数是否可迭代"
   ],
   "id": "169a9b2e79b53d2c",
   "outputs": [],
   "execution_count": null
  },
  {
   "metadata": {
    "ExecuteTime": {
     "end_time": "2025-04-07T06:45:46.763685Z",
     "start_time": "2025-04-07T06:45:46.758976Z"
    }
   },
   "cell_type": "code",
   "source": [
    "# 对list实现下标循环\n",
    "for i, value in enumerate([1, 2, 3]):\n",
    "    print(i, value)"
   ],
   "id": "65630fdfd40f74ad",
   "outputs": [
    {
     "name": "stdout",
     "output_type": "stream",
     "text": [
      "0 1\n",
      "1 2\n",
      "2 3\n"
     ]
    }
   ],
   "execution_count": 13
  },
  {
   "metadata": {
    "ExecuteTime": {
     "end_time": "2025-04-07T06:48:46.002061Z",
     "start_time": "2025-04-07T06:48:45.995061Z"
    }
   },
   "cell_type": "code",
   "source": [
    "def findMinAndMax(L):\n",
    "    if len(L) == 0:\n",
    "        return (None, None)\n",
    "    min = max = L[0]\n",
    "    for item in L:\n",
    "        if min > item:\n",
    "            min = item\n",
    "        if max < item:\n",
    "            max = item\n",
    "    return (min, max)\n",
    "\n",
    "\n",
    "# 测试\n",
    "if findMinAndMax([]) != (None, None):\n",
    "    print('测试失败!')\n",
    "elif findMinAndMax([7]) != (7, 7):\n",
    "    print('测试失败!')\n",
    "elif findMinAndMax([7, 1]) != (1, 7):\n",
    "    print('测试失败!')\n",
    "elif findMinAndMax([7, 1, 3, 9, 5]) != (1, 9):\n",
    "    print('测试失败!')\n",
    "else:\n",
    "    print('测试成功!')\n"
   ],
   "id": "6ff50a4d44ae46fa",
   "outputs": [
    {
     "name": "stdout",
     "output_type": "stream",
     "text": [
      "测试成功!\n"
     ]
    }
   ],
   "execution_count": 15
  },
  {
   "metadata": {},
   "cell_type": "markdown",
   "source": "## 3.列表生成式",
   "id": "885fbce8731ef308"
  },
  {
   "metadata": {
    "ExecuteTime": {
     "end_time": "2025-04-07T06:51:06.102441Z",
     "start_time": "2025-04-07T06:51:06.097433Z"
    }
   },
   "cell_type": "code",
   "source": [
    "l = list(range(1, 11))\n",
    "l"
   ],
   "id": "5b5ca486549f43e7",
   "outputs": [
    {
     "data": {
      "text/plain": [
       "[1, 2, 3, 4, 5, 6, 7, 8, 9, 10]"
      ]
     },
     "execution_count": 17,
     "metadata": {},
     "output_type": "execute_result"
    }
   ],
   "execution_count": 17
  },
  {
   "metadata": {
    "ExecuteTime": {
     "end_time": "2025-04-07T06:51:36.980639Z",
     "start_time": "2025-04-07T06:51:36.974516Z"
    }
   },
   "cell_type": "code",
   "source": [
    "L = []\n",
    "for x in range(1, 11):\n",
    "    L.append(x * x)\n",
    "L"
   ],
   "id": "7ba7eeee5179a924",
   "outputs": [
    {
     "data": {
      "text/plain": [
       "[1, 4, 9, 16, 25, 36, 49, 64, 81, 100]"
      ]
     },
     "execution_count": 18,
     "metadata": {},
     "output_type": "execute_result"
    }
   ],
   "execution_count": 18
  },
  {
   "metadata": {
    "ExecuteTime": {
     "end_time": "2025-04-07T06:51:48.663782Z",
     "start_time": "2025-04-07T06:51:48.658426Z"
    }
   },
   "cell_type": "code",
   "source": [
    "# 写列表生成式时，把要生成的元素x * x放到前面，后面跟for循环，就可以把list创建出来\n",
    "L = [x * x for x in range(1, 11)]\n",
    "L"
   ],
   "id": "1ec4f5bf453b6d73",
   "outputs": [
    {
     "data": {
      "text/plain": [
       "[1, 4, 9, 16, 25, 36, 49, 64, 81, 100]"
      ]
     },
     "execution_count": 19,
     "metadata": {},
     "output_type": "execute_result"
    }
   ],
   "execution_count": 19
  },
  {
   "metadata": {
    "ExecuteTime": {
     "end_time": "2025-04-07T06:53:57.358443Z",
     "start_time": "2025-04-07T06:53:57.352933Z"
    }
   },
   "cell_type": "code",
   "source": [
    "# for 循环后跟上 if 判断，可以用来筛选出仅符合条件的元素\n",
    "L = [x * x for x in range(1, 11) if x % 2 == 0]\n",
    "L"
   ],
   "id": "c4eaad4aceceb2a3",
   "outputs": [
    {
     "data": {
      "text/plain": [
       "[4, 16, 36, 64, 100]"
      ]
     },
     "execution_count": 20,
     "metadata": {},
     "output_type": "execute_result"
    }
   ],
   "execution_count": 20
  },
  {
   "metadata": {
    "ExecuteTime": {
     "end_time": "2025-04-07T06:54:55.147179Z",
     "start_time": "2025-04-07T06:54:55.142175Z"
    }
   },
   "cell_type": "code",
   "source": [
    "# 双层循环\n",
    "L = [m + n for m in 'ABC' for n in 'XYZ']\n",
    "L"
   ],
   "id": "33d0158d7856881a",
   "outputs": [
    {
     "data": {
      "text/plain": [
       "['AX', 'AY', 'AZ', 'BX', 'BY', 'BZ', 'CX', 'CY', 'CZ']"
      ]
     },
     "execution_count": 21,
     "metadata": {},
     "output_type": "execute_result"
    }
   ],
   "execution_count": 21
  },
  {
   "metadata": {
    "ExecuteTime": {
     "end_time": "2025-04-07T07:01:34.057944Z",
     "start_time": "2025-04-07T07:01:34.052955Z"
    }
   },
   "cell_type": "code",
   "source": [
    "L = ['Hello', 'World', 'IBM', 'Apple']\n",
    "L = [s.lower() for s in L]"
   ],
   "id": "f46307191d5116e9",
   "outputs": [],
   "execution_count": 22
  },
  {
   "metadata": {
    "ExecuteTime": {
     "end_time": "2025-04-07T07:05:05.694052Z",
     "start_time": "2025-04-07T07:05:05.688773Z"
    }
   },
   "cell_type": "code",
   "source": [
    "# for前面的表达式x if x % 2 == 0 else -x才能根据x计算出确定的结果。\n",
    "# 在一个列表生成式中，for前面的if ... else是表达式，而for后面的if是过滤条件，不能带else。\n",
    "[x if x % 2 == 0 else -x for x in range(1, 11)]"
   ],
   "id": "4ad4125547be42d7",
   "outputs": [
    {
     "data": {
      "text/plain": [
       "[-1, 2, -3, 4, -5, 6, -7, 8, -9, 10]"
      ]
     },
     "execution_count": 23,
     "metadata": {},
     "output_type": "execute_result"
    }
   ],
   "execution_count": 23
  },
  {
   "metadata": {
    "ExecuteTime": {
     "end_time": "2025-04-07T07:18:56.399354Z",
     "start_time": "2025-04-07T07:18:56.394494Z"
    }
   },
   "cell_type": "code",
   "source": [
    "L1 = ['Hello', 'World', 18, 'Apple', None]\n",
    "L2 = [s.lower() for s in L1 if isinstance(s, str)]\n",
    "\n",
    "# 测试:\n",
    "print(L2)\n",
    "if L2 == ['hello', 'world', 'apple']:\n",
    "    print('测试通过!')\n",
    "else:\n",
    "    print('测试失败!')\n"
   ],
   "id": "2c8ee40fe17d28e7",
   "outputs": [
    {
     "name": "stdout",
     "output_type": "stream",
     "text": [
      "['hello', 'world', 'apple']\n",
      "测试通过!\n"
     ]
    }
   ],
   "execution_count": 24
  },
  {
   "metadata": {},
   "cell_type": "markdown",
   "source": [
    "## 4. 生成器\n",
    "在Python中，一边循环一边计算的机制，称为生成器：generator。\n",
    "\n",
    "要创建一个generator，有很多种方法。第一种方法很简单，只要把一个列表生成式的[]改成()"
   ],
   "id": "99da52bb6e6028a3"
  },
  {
   "metadata": {
    "ExecuteTime": {
     "end_time": "2025-04-07T07:19:56.828075Z",
     "start_time": "2025-04-07T07:19:56.823547Z"
    }
   },
   "cell_type": "code",
   "source": [
    "L = [x * x for x in range(10)]\n",
    "L"
   ],
   "id": "551452a1e6d59ed1",
   "outputs": [
    {
     "data": {
      "text/plain": [
       "[0, 1, 4, 9, 16, 25, 36, 49, 64, 81]"
      ]
     },
     "execution_count": 25,
     "metadata": {},
     "output_type": "execute_result"
    }
   ],
   "execution_count": 25
  },
  {
   "metadata": {
    "ExecuteTime": {
     "end_time": "2025-04-07T07:22:00.547820Z",
     "start_time": "2025-04-07T07:22:00.542079Z"
    }
   },
   "cell_type": "code",
   "source": [
    "g = (x * x for x in range(10))\n",
    "g  # generator object"
   ],
   "id": "fc0324f695af23cb",
   "outputs": [
    {
     "data": {
      "text/plain": [
       "<generator object <genexpr> at 0x00000139D8390CF0>"
      ]
     },
     "execution_count": 32,
     "metadata": {},
     "output_type": "execute_result"
    }
   ],
   "execution_count": 32
  },
  {
   "metadata": {
    "ExecuteTime": {
     "end_time": "2025-04-07T07:22:01.586309Z",
     "start_time": "2025-04-07T07:22:01.580309Z"
    }
   },
   "cell_type": "code",
   "source": [
    "try:\n",
    "    for i in range(10):\n",
    "        print(next(g))\n",
    "    next(g)\n",
    "except StopIteration as e:\n",
    "    print('StopIteration:', e)"
   ],
   "id": "67c49e58ea0de546",
   "outputs": [
    {
     "name": "stdout",
     "output_type": "stream",
     "text": [
      "0\n",
      "1\n",
      "4\n",
      "9\n",
      "16\n",
      "25\n",
      "36\n",
      "49\n",
      "64\n",
      "81\n",
      "StopIteration: \n"
     ]
    }
   ],
   "execution_count": 33
  },
  {
   "metadata": {
    "ExecuteTime": {
     "end_time": "2025-04-07T07:22:49.968539Z",
     "start_time": "2025-04-07T07:22:49.963539Z"
    }
   },
   "cell_type": "code",
   "source": [
    "# 正确的方法是使用for循环，因为generator也是可迭代对象\n",
    "g = (x * x for x in range(10))\n",
    "for i in g:\n",
    "    print(i)"
   ],
   "id": "8a3ee76f794cb497",
   "outputs": [
    {
     "name": "stdout",
     "output_type": "stream",
     "text": [
      "0\n",
      "1\n",
      "4\n",
      "9\n",
      "16\n",
      "25\n",
      "36\n",
      "49\n",
      "64\n",
      "81\n"
     ]
    }
   ],
   "execution_count": 34
  },
  {
   "metadata": {
    "ExecuteTime": {
     "end_time": "2025-04-07T07:26:59.624600Z",
     "start_time": "2025-04-07T07:26:59.620026Z"
    }
   },
   "cell_type": "code",
   "source": [
    "# Fibonacci函数\n",
    "def fib(max):\n",
    "    n, a, b = 0, 0, 1\n",
    "    while n < max:\n",
    "        print(a, end=' ')\n",
    "        a, b = b, a + b\n",
    "        n += 1\n",
    "    return \"done\""
   ],
   "id": "2ae5725c7a2f9c68",
   "outputs": [],
   "execution_count": 35
  },
  {
   "metadata": {
    "ExecuteTime": {
     "end_time": "2025-04-07T07:27:06.306607Z",
     "start_time": "2025-04-07T07:27:06.300095Z"
    }
   },
   "cell_type": "code",
   "source": "fib(10)",
   "id": "eb6aa96398d5b007",
   "outputs": [
    {
     "name": "stdout",
     "output_type": "stream",
     "text": [
      "0 1 1 2 3 5 8 13 21 34 "
     ]
    },
    {
     "data": {
      "text/plain": [
       "'done'"
      ]
     },
     "execution_count": 36,
     "metadata": {},
     "output_type": "execute_result"
    }
   ],
   "execution_count": 36
  },
  {
   "metadata": {
    "ExecuteTime": {
     "end_time": "2025-04-07T07:29:48.877680Z",
     "start_time": "2025-04-07T07:29:48.873397Z"
    }
   },
   "cell_type": "code",
   "source": [
    "def fib(max):\n",
    "    # 如果一个函数定义中包含yield关键字，那么这个函数就不再是一个普通函数，\n",
    "    # 而是一个generator函数，调用一个generator函数将返回一个generator\n",
    "    n, a, b = 0, 0, 1\n",
    "    while n < max:\n",
    "        yield a  # 使用yield 关键字返回当前值\n",
    "        a, b = b, a + b\n",
    "        n = n + 1\n",
    "    return 'done'\n"
   ],
   "id": "64165a56aff3547",
   "outputs": [],
   "execution_count": 42
  },
  {
   "metadata": {
    "ExecuteTime": {
     "end_time": "2025-04-07T07:29:56.059921Z",
     "start_time": "2025-04-07T07:29:56.055923Z"
    }
   },
   "cell_type": "code",
   "source": [
    "f = fib(10)  # f是一个generator对象\n",
    "print(f)\n",
    "for i in f:\n",
    "    print(i, end=' ')"
   ],
   "id": "d16abc76788f6c04",
   "outputs": [
    {
     "name": "stdout",
     "output_type": "stream",
     "text": [
      "<generator object fib at 0x00000139D8391930>\n",
      "0 1 1 2 3 5 8 13 21 34 "
     ]
    }
   ],
   "execution_count": 44
  },
  {
   "metadata": {
    "ExecuteTime": {
     "end_time": "2025-04-07T07:39:49.673590Z",
     "start_time": "2025-04-07T07:39:49.665242Z"
    }
   },
   "cell_type": "code",
   "source": [
    "def triangles():\n",
    "    prev = [1]\n",
    "    yield prev\n",
    "    while True:\n",
    "        cur = [1]\n",
    "        for x in range(len(prev) - 1):\n",
    "            cur.append(prev[x] + prev[x + 1])\n",
    "        cur.append(1)\n",
    "        yield cur\n",
    "        prev = cur\n",
    "\n",
    "\n",
    "# 期待输出:\n",
    "# [1]\n",
    "# [1, 1]\n",
    "# [1, 2, 1]\n",
    "# [1, 3, 3, 1]\n",
    "# [1, 4, 6, 4, 1]\n",
    "# [1, 5, 10, 10, 5, 1]\n",
    "# [1, 6, 15, 20, 15, 6, 1]\n",
    "# [1, 7, 21, 35, 35, 21, 7, 1]\n",
    "# [1, 8, 28, 56, 70, 56, 28, 8, 1]\n",
    "# [1, 9, 36, 84, 126, 126, 84, 36, 9, 1]\n",
    "n = 0\n",
    "results = []\n",
    "for t in triangles():\n",
    "    results.append(t)\n",
    "    n = n + 1\n",
    "    if n == 10:\n",
    "        break\n",
    "\n",
    "for t in results:\n",
    "    print(t)\n",
    "\n",
    "if results == [\n",
    "    [1],\n",
    "    [1, 1],\n",
    "    [1, 2, 1],\n",
    "    [1, 3, 3, 1],\n",
    "    [1, 4, 6, 4, 1],\n",
    "    [1, 5, 10, 10, 5, 1],\n",
    "    [1, 6, 15, 20, 15, 6, 1],\n",
    "    [1, 7, 21, 35, 35, 21, 7, 1],\n",
    "    [1, 8, 28, 56, 70, 56, 28, 8, 1],\n",
    "    [1, 9, 36, 84, 126, 126, 84, 36, 9, 1]\n",
    "]:\n",
    "    print('测试通过!')\n",
    "else:\n",
    "    print('测试失败!')\n"
   ],
   "id": "5b113a3fa6ec8f8",
   "outputs": [
    {
     "name": "stdout",
     "output_type": "stream",
     "text": [
      "[1]\n",
      "[1, 1]\n",
      "[1, 2, 1]\n",
      "[1, 3, 3, 1]\n",
      "[1, 4, 6, 4, 1]\n",
      "[1, 5, 10, 10, 5, 1]\n",
      "[1, 6, 15, 20, 15, 6, 1]\n",
      "[1, 7, 21, 35, 35, 21, 7, 1]\n",
      "[1, 8, 28, 56, 70, 56, 28, 8, 1]\n",
      "[1, 9, 36, 84, 126, 126, 84, 36, 9, 1]\n",
      "测试通过!\n"
     ]
    }
   ],
   "execution_count": 45
  },
  {
   "metadata": {},
   "cell_type": "markdown",
   "source": [
    "## 5. 迭代器\n",
    "* 区分Iterable 和 Iterator\n",
    "* 生成器都是Iterator对象，但list、dict、str虽然是Iterable，却不是Iterator。"
   ],
   "id": "74707ff196696df6"
  },
  {
   "metadata": {
    "ExecuteTime": {
     "end_time": "2025-04-07T07:43:03.225167Z",
     "start_time": "2025-04-07T07:43:03.220500Z"
    }
   },
   "cell_type": "code",
   "source": [
    "from collections.abc import Iterable\n",
    "isinstance([], Iterable)  # list是可迭代对象\n",
    "isinstance({}, Iterable)  # dict是可迭代对象\n",
    "isinstance('abc', Iterable)  # str是可迭代对象\n",
    "isinstance(123, Iterable)  # int不是可迭代对象"
   ],
   "id": "be3830fb1b387c1b",
   "outputs": [
    {
     "data": {
      "text/plain": [
       "False"
      ]
     },
     "execution_count": 48,
     "metadata": {},
     "output_type": "execute_result"
    }
   ],
   "execution_count": 48
  },
  {
   "metadata": {
    "ExecuteTime": {
     "end_time": "2025-04-07T07:43:41.730806Z",
     "start_time": "2025-04-07T07:43:41.725062Z"
    }
   },
   "cell_type": "code",
   "source": [
    "from collections.abc import Iterator\n",
    "isinstance([], Iterator)  # list不是迭代器\n",
    "isinstance((x for x in range(10)), Iterator) # generator是迭代器"
   ],
   "id": "8947e7e6cedfd65a",
   "outputs": [
    {
     "data": {
      "text/plain": [
       "True"
      ]
     },
     "execution_count": 49,
     "metadata": {},
     "output_type": "execute_result"
    }
   ],
   "execution_count": 49
  },
  {
   "metadata": {},
   "cell_type": "markdown",
   "source": [
    "* 凡是可作用于for循环的对象都是Iterable类型；\n",
    "\n",
    "* 凡是可作用于next()函数的对象都是Iterator类型，它们表示一个惰性计算的序列；\n",
    "\n",
    "* 集合数据类型如list、dict、str等是Iterable但不是Iterator，不过可以通过iter()函数获得一个Iterator对象。\n",
    "\n",
    "Python 中的 for 本质上就是通过不断调用next()函数实现的。"
   ],
   "id": "9fdff1488f929c37"
  },
  {
   "metadata": {
    "ExecuteTime": {
     "end_time": "2025-04-07T07:45:04.858125Z",
     "start_time": "2025-04-07T07:45:04.854067Z"
    }
   },
   "cell_type": "code",
   "outputs": [
    {
     "name": "stdout",
     "output_type": "stream",
     "text": [
      "0 1 2 3 4 5 6 7 8 9 "
     ]
    }
   ],
   "execution_count": 50,
   "source": [
    "l = [x for x in range(10)]\n",
    "for x in l:\n",
    "    print(x, end=' ')"
   ],
   "id": "aad25fd70581547e"
  },
  {
   "metadata": {
    "ExecuteTime": {
     "end_time": "2025-04-07T07:45:32.265304Z",
     "start_time": "2025-04-07T07:45:32.261304Z"
    }
   },
   "cell_type": "code",
   "outputs": [
    {
     "name": "stdout",
     "output_type": "stream",
     "text": [
      "0 1 2 3 4 5 6 7 8 9 "
     ]
    }
   ],
   "execution_count": 51,
   "source": [
    "it = iter(l)\n",
    "while True:\n",
    "    try:\n",
    "        x = next(it)\n",
    "        print(x, end=' ')\n",
    "    except StopIteration:\n",
    "        break"
   ],
   "id": "4d331e0a0275ea63"
  }
 ],
 "metadata": {
  "kernelspec": {
   "display_name": "Python 3",
   "language": "python",
   "name": "python3"
  },
  "language_info": {
   "codemirror_mode": {
    "name": "ipython",
    "version": 2
   },
   "file_extension": ".py",
   "mimetype": "text/x-python",
   "name": "python",
   "nbconvert_exporter": "python",
   "pygments_lexer": "ipython2",
   "version": "2.7.6"
  }
 },
 "nbformat": 4,
 "nbformat_minor": 5
}
