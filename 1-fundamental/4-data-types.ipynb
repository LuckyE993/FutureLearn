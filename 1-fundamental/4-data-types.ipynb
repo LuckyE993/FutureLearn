{
 "cells": [
  {
   "metadata": {},
   "cell_type": "markdown",
   "source": "## 字符串",
   "id": "6298596b1952769a"
  },
  {
   "metadata": {
    "ExecuteTime": {
     "end_time": "2025-04-07T03:01:44.753252Z",
     "start_time": "2025-04-07T03:01:44.744251Z"
    }
   },
   "cell_type": "code",
   "source": "print(\"字符串学习\")",
   "id": "26afd9d0852c7d28",
   "outputs": [
    {
     "name": "stdout",
     "output_type": "stream",
     "text": [
      "字符串学习\n"
     ]
    }
   ],
   "execution_count": 1
  },
  {
   "cell_type": "code",
   "id": "initial_id",
   "metadata": {
    "collapsed": true,
    "ExecuteTime": {
     "end_time": "2025-04-07T03:01:47.009226Z",
     "start_time": "2025-04-07T03:01:47.002843Z"
    }
   },
   "source": [
    "s = \"GfG\"\n",
    "\n",
    "print(s[1])  # access 2nd char\n",
    "s1 = s + s[0]  # update\n",
    "print(s1)  # print"
   ],
   "outputs": [
    {
     "name": "stdout",
     "output_type": "stream",
     "text": [
      "f\n",
      "GfGG\n"
     ]
    }
   ],
   "execution_count": 2
  },
  {
   "metadata": {
    "ExecuteTime": {
     "end_time": "2025-02-07T02:44:33.991507Z",
     "start_time": "2025-02-07T02:44:33.982368Z"
    }
   },
   "cell_type": "code",
   "source": [
    "s = \"\"\"I am Learning\n",
    "Python String on GeeksforGeeks\"\"\"\n",
    "print(s)\n",
    "\n",
    "s = '''I'm a \n",
    "Geek'''\n",
    "print(s)"
   ],
   "id": "a316df9f3b18c02d",
   "outputs": [
    {
     "name": "stdout",
     "output_type": "stream",
     "text": [
      "I am Learning\n",
      "Python String on GeeksforGeeks\n",
      "I'm a \n",
      "Geek\n"
     ]
    }
   ],
   "execution_count": 2
  },
  {
   "metadata": {
    "ExecuteTime": {
     "end_time": "2025-02-07T02:44:34.582402Z",
     "start_time": "2025-02-07T02:44:34.570405Z"
    }
   },
   "cell_type": "code",
   "source": [
    "s = \"GeeksforGeeks\"\n",
    "# Accesses first character: 'G'\n",
    "print(s[0])\n",
    "\n",
    "# Accesses 5th character: 's'\n",
    "print(s[4])\n",
    "\n",
    "# Accesses 3rd character: 'k'\n",
    "print(s[-10])\n",
    "\n",
    "# Accesses 5th character from end: 'G'\n",
    "print(s[-5])"
   ],
   "id": "b4fd2048c87485ea",
   "outputs": [
    {
     "name": "stdout",
     "output_type": "stream",
     "text": [
      "G\n",
      "s\n",
      "k\n",
      "G\n"
     ]
    }
   ],
   "execution_count": 3
  },
  {
   "metadata": {
    "ExecuteTime": {
     "end_time": "2025-02-07T02:44:34.727205Z",
     "start_time": "2025-02-07T02:44:34.716812Z"
    }
   },
   "cell_type": "code",
   "source": [
    "s = \"GeeksforGeeks\"\n",
    "\n",
    "# Retrieves characters from index 1 to 3: 'eek'\n",
    "print(s[1:4])  \n",
    "\n",
    "# Retrieves characters from beginning to index 2: 'Gee'\n",
    "print(s[:3])   \n",
    "\n",
    "# Retrieves characters from index 3 to the end: 'ksforGeeks'\n",
    "print(s[3:])   \n",
    "\n",
    "# Reverse a string\n",
    "print(s[::-1])"
   ],
   "id": "620490d81f920085",
   "outputs": [
    {
     "name": "stdout",
     "output_type": "stream",
     "text": [
      "eek\n",
      "Gee\n",
      "ksforGeeks\n",
      "skeeGrofskeeG\n"
     ]
    }
   ],
   "execution_count": 4
  },
  {
   "metadata": {
    "ExecuteTime": {
     "end_time": "2025-02-07T02:44:34.885902Z",
     "start_time": "2025-02-07T02:44:34.874667Z"
    }
   },
   "cell_type": "code",
   "source": [
    "s = \"geeksforGeeks\"\n",
    "\n",
    "# Trying to change the first character raises an error\n",
    "# s[0] = 'I'  # Uncommenting this line will cause a TypeError\n",
    "\n",
    "# Instead, create a new string\n",
    "s = \"G\" + s[1:]\n",
    "print(s)\n"
   ],
   "id": "630af35c483c12fa",
   "outputs": [
    {
     "name": "stdout",
     "output_type": "stream",
     "text": [
      "GeeksforGeeks\n"
     ]
    }
   ],
   "execution_count": 5
  },
  {
   "metadata": {
    "ExecuteTime": {
     "end_time": "2025-02-07T02:44:35.023181Z",
     "start_time": "2025-02-07T02:44:35.012268Z"
    }
   },
   "cell_type": "code",
   "source": [
    "s = \"geeksforGeeks\"\n",
    "\n",
    "# 将字符串转换为列表\n",
    "s_list = list(s)\n",
    "\n",
    "# 修改列表中的元素\n",
    "s_list[0] = 'I'\n",
    "s_list[1] = '8'\n",
    "\n",
    "# 将列表转换回字符串\n",
    "s = ''.join(s_list)\n",
    "print(s)  # 输出: I8eksforGeeks"
   ],
   "id": "e4f5ab707fe1e21f",
   "outputs": [
    {
     "name": "stdout",
     "output_type": "stream",
     "text": [
      "I8eksforGeeks\n"
     ]
    }
   ],
   "execution_count": 6
  },
  {
   "metadata": {
    "ExecuteTime": {
     "end_time": "2025-02-07T03:09:24.681980Z",
     "start_time": "2025-02-07T03:09:24.671303Z"
    }
   },
   "cell_type": "code",
   "source": [
    "s = \"geeksforGeeks\"\n",
    "print(s[-10])"
   ],
   "id": "1a259d7d1348b989",
   "outputs": [
    {
     "name": "stdout",
     "output_type": "stream",
     "text": [
      "k\n"
     ]
    }
   ],
   "execution_count": 9
  },
  {
   "metadata": {},
   "cell_type": "markdown",
   "source": "### 常用method",
   "id": "f7a39aa6d16679e3"
  },
  {
   "metadata": {
    "ExecuteTime": {
     "end_time": "2025-04-07T03:08:16.037876Z",
     "start_time": "2025-04-07T03:08:16.031878Z"
    }
   },
   "cell_type": "code",
   "source": [
    "s = \"geeksforGeeks\"\n",
    "print(\"s 字符串的长度为: \"+str(len(s)))\n",
    "\n",
    "print(s.upper())\n",
    "print(s.lower())    \n",
    "\n",
    "print(s.capitalize())\n",
    "print(s.swapcase())\n"
   ],
   "id": "1239075e2166ef6e",
   "outputs": [
    {
     "name": "stdout",
     "output_type": "stream",
     "text": [
      "s 字符串的长度为: 13\n",
      "GEEKSFORGEEKS\n",
      "geeksforgeeks\n",
      "Geeksforgeeks\n",
      "GEEKSFORgEEKS\n"
     ]
    }
   ],
   "execution_count": 5
  },
  {
   "metadata": {
    "ExecuteTime": {
     "end_time": "2025-02-07T03:13:22.842455Z",
     "start_time": "2025-02-07T03:13:22.834364Z"
    }
   },
   "cell_type": "code",
   "source": [
    "# 提取字符串中的空格\n",
    "s = \"    asd    \"\n",
    "print(s.strip())\n",
    "\n",
    "s = \"python learn tt\"\n",
    "print(s.replace(\"tt\",\"tutorial\"))"
   ],
   "id": "da67ec961383c665",
   "outputs": [
    {
     "name": "stdout",
     "output_type": "stream",
     "text": [
      "asd\n",
      "python learn tutorial\n"
     ]
    }
   ],
   "execution_count": 14
  },
  {
   "metadata": {
    "ExecuteTime": {
     "end_time": "2025-02-07T03:13:51.169594Z",
     "start_time": "2025-02-07T03:13:51.161791Z"
    }
   },
   "cell_type": "code",
   "source": [
    "name = \"Alice\"\n",
    "age = 22\n",
    "print(f\"Name: {name}, Age: {age}\")"
   ],
   "id": "a734c70f722a96f7",
   "outputs": [
    {
     "name": "stdout",
     "output_type": "stream",
     "text": [
      "Name: Alice, Age: 22\n"
     ]
    }
   ],
   "execution_count": 15
  },
  {
   "metadata": {
    "ExecuteTime": {
     "end_time": "2025-04-07T03:05:02.015183Z",
     "start_time": "2025-04-07T03:05:02.009683Z"
    }
   },
   "cell_type": "code",
   "source": [
    "print(ord(\"a\"))  # Returns the Unicode code point of 'a'\n",
    "print(ord(\"A\"))  # Returns the Unicode code point of 'A'\n",
    "print(chr(ord(\"A\")))"
   ],
   "id": "ecf55cefe7bb9b21",
   "outputs": [
    {
     "name": "stdout",
     "output_type": "stream",
     "text": [
      "97\n",
      "65\n",
      "A\n"
     ]
    }
   ],
   "execution_count": 4
  },
  {
   "metadata": {},
   "cell_type": "markdown",
   "source": "# List",
   "id": "ca491a2f6d350373"
  },
  {
   "metadata": {
    "ExecuteTime": {
     "end_time": "2025-04-07T03:13:25.669176Z",
     "start_time": "2025-04-07T03:13:25.664175Z"
    }
   },
   "cell_type": "code",
   "source": [
    "classmate = [\"Tom\", \"Jerry\", \"Mickey\"]\n",
    "classmate"
   ],
   "id": "3655c4a48e574240",
   "outputs": [
    {
     "data": {
      "text/plain": [
       "['Tom', 'Jerry', 'Mickey']"
      ]
     },
     "execution_count": 19,
     "metadata": {},
     "output_type": "execute_result"
    }
   ],
   "execution_count": 19
  },
  {
   "metadata": {
    "ExecuteTime": {
     "end_time": "2025-04-07T03:09:50.193436Z",
     "start_time": "2025-04-07T03:09:50.189054Z"
    }
   },
   "cell_type": "code",
   "source": "len(classmate)",
   "id": "4216852a82934e31",
   "outputs": [
    {
     "data": {
      "text/plain": [
       "3"
      ]
     },
     "execution_count": 7,
     "metadata": {},
     "output_type": "execute_result"
    }
   ],
   "execution_count": 7
  },
  {
   "metadata": {
    "ExecuteTime": {
     "end_time": "2025-04-07T03:11:01.451742Z",
     "start_time": "2025-04-07T03:11:01.447323Z"
    }
   },
   "cell_type": "code",
   "source": [
    "for name in classmate:\n",
    "    print(name)\n",
    "for i in range(len(classmate)):\n",
    "    print(classmate[i])"
   ],
   "id": "b82f6d82099db1c3",
   "outputs": [
    {
     "name": "stdout",
     "output_type": "stream",
     "text": [
      "Tom\n",
      "Jerry\n",
      "Mickey\n",
      "Tom\n",
      "Jerry\n",
      "Mickey\n"
     ]
    }
   ],
   "execution_count": 11
  },
  {
   "metadata": {
    "ExecuteTime": {
     "end_time": "2025-04-07T03:12:03.054574Z",
     "start_time": "2025-04-07T03:12:03.049567Z"
    }
   },
   "cell_type": "code",
   "source": [
    "try:\n",
    "    print(classmate[3])\n",
    "except IndexError as e:\n",
    "    print(\"Index out of range:\", e)\n",
    "    print(\"确保索引不要越界，记得最后一个元素的索引是len(classmates) - 1。\")"
   ],
   "id": "6d5900a9596164b3",
   "outputs": [
    {
     "name": "stdout",
     "output_type": "stream",
     "text": [
      "Index out of range: list index out of range\n",
      "确保索引不要越界，记得最后一个元素的索引是len(classmates) - 1。\n"
     ]
    }
   ],
   "execution_count": 13
  },
  {
   "metadata": {
    "ExecuteTime": {
     "end_time": "2025-04-07T03:13:28.814146Z",
     "start_time": "2025-04-07T03:13:28.809144Z"
    }
   },
   "cell_type": "code",
   "source": [
    "# list是一个可变的有序表\n",
    "classmate.append(\"Ada-append\")\n",
    "print(classmate)"
   ],
   "id": "70bbf81810e3f9fc",
   "outputs": [
    {
     "name": "stdout",
     "output_type": "stream",
     "text": [
      "['Tom', 'Jerry', 'Mickey', 'Ada-append']\n"
     ]
    }
   ],
   "execution_count": 20
  },
  {
   "metadata": {
    "ExecuteTime": {
     "end_time": "2025-04-07T03:13:30.649138Z",
     "start_time": "2025-04-07T03:13:30.643720Z"
    }
   },
   "cell_type": "code",
   "source": [
    "classmate.insert(0, \"Bob-insert\")\n",
    "classmate"
   ],
   "id": "3bb5f545b685da28",
   "outputs": [
    {
     "data": {
      "text/plain": [
       "['Bob-insert', 'Tom', 'Jerry', 'Mickey', 'Ada-append']"
      ]
     },
     "execution_count": 21,
     "metadata": {},
     "output_type": "execute_result"
    }
   ],
   "execution_count": 21
  },
  {
   "metadata": {
    "ExecuteTime": {
     "end_time": "2025-04-07T03:13:41.651047Z",
     "start_time": "2025-04-07T03:13:41.646051Z"
    }
   },
   "cell_type": "code",
   "source": [
    "classmate.pop()\n",
    "classmate"
   ],
   "id": "993a8ffb61444b24",
   "outputs": [
    {
     "data": {
      "text/plain": [
       "['Bob-insert', 'Tom', 'Jerry', 'Mickey']"
      ]
     },
     "execution_count": 22,
     "metadata": {},
     "output_type": "execute_result"
    }
   ],
   "execution_count": 22
  },
  {
   "metadata": {
    "ExecuteTime": {
     "end_time": "2025-04-07T03:14:05.674472Z",
     "start_time": "2025-04-07T03:14:05.669774Z"
    }
   },
   "cell_type": "code",
   "source": [
    "classmate.pop(0)\n",
    "classmate"
   ],
   "id": "c3d9b5ce857f1e3a",
   "outputs": [
    {
     "data": {
      "text/plain": [
       "['Tom', 'Jerry', 'Mickey']"
      ]
     },
     "execution_count": 23,
     "metadata": {},
     "output_type": "execute_result"
    }
   ],
   "execution_count": 23
  },
  {
   "metadata": {
    "ExecuteTime": {
     "end_time": "2025-04-07T03:14:19.765135Z",
     "start_time": "2025-04-07T03:14:19.760810Z"
    }
   },
   "cell_type": "code",
   "source": [
    "classmate[1] = \"Jerry-update\"\n",
    "classmate"
   ],
   "id": "f31863263ec1d366",
   "outputs": [
    {
     "data": {
      "text/plain": [
       "['Tom', 'Jerry-update', 'Mickey']"
      ]
     },
     "execution_count": 24,
     "metadata": {},
     "output_type": "execute_result"
    }
   ],
   "execution_count": 24
  },
  {
   "metadata": {
    "ExecuteTime": {
     "end_time": "2025-04-07T03:16:25.250274Z",
     "start_time": "2025-04-07T03:16:25.245121Z"
    }
   },
   "cell_type": "code",
   "source": [
    "# list里面的元素的数据类型也可以不同\n",
    "classmate = [\"Tom\", 123, True]\n",
    "# list元素也可以是另一个list\n",
    "L = [\"Tom\", 123, True, [\"Ada\", \"Bob\"]]\n",
    "print(\"L length:\", len(L))\n",
    "print(\"L[3] length:\", len(L[3]))\n",
    "print(\"L[3][0]:\", L[3][0])\n"
   ],
   "id": "9ea203c654e80d5c",
   "outputs": [
    {
     "name": "stdout",
     "output_type": "stream",
     "text": [
      "L length: 4\n",
      "L[3] length: 2\n",
      "L[3][0]: Ada\n"
     ]
    }
   ],
   "execution_count": 26
  },
  {
   "metadata": {},
   "cell_type": "markdown",
   "source": "# Tuple",
   "id": "176383df62f8eef6"
  },
  {
   "metadata": {
    "ExecuteTime": {
     "end_time": "2025-04-07T03:18:15.675724Z",
     "start_time": "2025-04-07T03:18:15.671723Z"
    }
   },
   "cell_type": "code",
   "source": [
    "classmates = (\"Tom\", \"Jerry\", \"Mickey\")\n",
    "# classmates这个tuple不能变了，它也没有append()，insert()这样的方法。其他获取元素的方法和list是一样的，\n",
    "# 可以正常地使用classmates[0]，classmates[-1]，但不能赋值成另外的元素。"
   ],
   "id": "1fa01241d75c3f08",
   "outputs": [],
   "execution_count": 28
  },
  {
   "metadata": {
    "ExecuteTime": {
     "end_time": "2025-04-07T03:18:17.896378Z",
     "start_time": "2025-04-07T03:18:17.892377Z"
    }
   },
   "cell_type": "code",
   "source": [
    "try:\n",
    "    classmates[0] = \"Bob\"\n",
    "except TypeError as e:\n",
    "    print(\"TypeError:\", e)\n",
    "    print(\"tuple元素不能被修改。\")"
   ],
   "id": "481f1e74a2c52eb4",
   "outputs": [
    {
     "name": "stdout",
     "output_type": "stream",
     "text": [
      "TypeError: 'tuple' object does not support item assignment\n",
      "tuple元素不能被修改。\n"
     ]
    }
   ],
   "execution_count": 29
  },
  {
   "metadata": {
    "ExecuteTime": {
     "end_time": "2025-04-07T03:19:17.128639Z",
     "start_time": "2025-04-07T03:19:17.124038Z"
    }
   },
   "cell_type": "code",
   "source": [
    "# 只有1个元素的tuple定义时必须加一个逗号,，来消除歧义\n",
    "t = (1,)\n",
    "print(type(t))"
   ],
   "id": "9238ff348aed7dc3",
   "outputs": [
    {
     "name": "stdout",
     "output_type": "stream",
     "text": [
      "<class 'tuple'>\n"
     ]
    }
   ],
   "execution_count": 30
  },
  {
   "metadata": {
    "ExecuteTime": {
     "end_time": "2025-04-07T03:20:43.270554Z",
     "start_time": "2025-04-07T03:20:43.265824Z"
    }
   },
   "cell_type": "code",
   "source": [
    "t = ('a', 'b', ['A', 'B'])\n",
    "print(t)\n",
    "t[2][0] = 'A1'\n",
    "t[2][1] = 'B1'\n",
    "print(t)"
   ],
   "id": "166d0d79fad88c12",
   "outputs": [
    {
     "name": "stdout",
     "output_type": "stream",
     "text": [
      "('a', 'b', ['A', 'B'])\n",
      "('a', 'b', ['A1', 'B1'])\n"
     ]
    }
   ],
   "execution_count": 31
  },
  {
   "metadata": {},
   "cell_type": "markdown",
   "source": [
    "这个tuple定义的时候有3个元素，分别是'a'，'b'和一个list。\n",
    "\n",
    "![tuple图片示例](https://liaoxuefeng.com/books/python/basic/list-tuple/step-1.png)\n",
    "\n",
    "表面上看，tuple的元素确实变了，但其实变的不是tuple的元素，而是list的元素。tuple一开始指向的list并没有改成别的list，所以，tuple所谓的“不变”是说，tuple的每个元素，指向永远不变。即指向'a'，就不能改成指向'b'，指向一个list，就不能改成指向其他对象，但指向的这个list本身是可变的！"
   ],
   "id": "b24793ac19874aa7"
  },
  {
   "metadata": {},
   "cell_type": "markdown",
   "source": "# Dictionary",
   "id": "7c0b05b08230c6a"
  },
  {
   "metadata": {
    "ExecuteTime": {
     "end_time": "2025-04-07T03:46:53.095079Z",
     "start_time": "2025-04-07T03:46:53.089773Z"
    }
   },
   "cell_type": "code",
   "source": [
    "names = [\"Tom\", \"Jerry\", \"Mickey\"]\n",
    "scores = [90, 80, 70]\n",
    "d = {names[0]: scores[0], names[1]: scores[1], names[2]: scores[2]}\n",
    "d"
   ],
   "id": "13361db1e7649305",
   "outputs": [
    {
     "data": {
      "text/plain": [
       "{'Tom': 90, 'Jerry': 80, 'Mickey': 70}"
      ]
     },
     "execution_count": 43,
     "metadata": {},
     "output_type": "execute_result"
    }
   ],
   "execution_count": 43
  },
  {
   "metadata": {
    "ExecuteTime": {
     "end_time": "2025-04-07T03:46:53.963540Z",
     "start_time": "2025-04-07T03:46:53.959541Z"
    }
   },
   "cell_type": "code",
   "source": [
    "d[\"Adam\"] = 100\n",
    "d"
   ],
   "id": "a79e0e74bec88254",
   "outputs": [
    {
     "data": {
      "text/plain": [
       "{'Tom': 90, 'Jerry': 80, 'Mickey': 70, 'Adam': 100}"
      ]
     },
     "execution_count": 44,
     "metadata": {},
     "output_type": "execute_result"
    }
   ],
   "execution_count": 44
  },
  {
   "metadata": {
    "ExecuteTime": {
     "end_time": "2025-04-07T03:46:55.033512Z",
     "start_time": "2025-04-07T03:46:55.028790Z"
    }
   },
   "cell_type": "code",
   "source": "'Toma' in d",
   "id": "28fe8ef084b70dc1",
   "outputs": [
    {
     "data": {
      "text/plain": [
       "False"
      ]
     },
     "execution_count": 45,
     "metadata": {},
     "output_type": "execute_result"
    }
   ],
   "execution_count": 45
  },
  {
   "metadata": {
    "ExecuteTime": {
     "end_time": "2025-04-07T03:46:24.211446Z",
     "start_time": "2025-04-07T03:46:24.205440Z"
    }
   },
   "cell_type": "code",
   "source": [
    "d.get(\"Toma\") # None\n",
    "d.get(\"Toma\", -1) # -1"
   ],
   "id": "8fe00e425aa06ea1",
   "outputs": [
    {
     "data": {
      "text/plain": [
       "-1"
      ]
     },
     "execution_count": 39,
     "metadata": {},
     "output_type": "execute_result"
    }
   ],
   "execution_count": 39
  },
  {
   "metadata": {
    "ExecuteTime": {
     "end_time": "2025-04-07T03:46:57.059386Z",
     "start_time": "2025-04-07T03:46:57.054382Z"
    }
   },
   "cell_type": "code",
   "source": [
    "d.pop(\"Tom\")\n",
    "d"
   ],
   "id": "95abe24bb0ed92d3",
   "outputs": [
    {
     "data": {
      "text/plain": [
       "{'Jerry': 80, 'Mickey': 70, 'Adam': 100}"
      ]
     },
     "execution_count": 46,
     "metadata": {},
     "output_type": "execute_result"
    }
   ],
   "execution_count": 46
  },
  {
   "metadata": {},
   "cell_type": "markdown",
   "source": [
    "和list比较，dict有以下几个特点：\n",
    "\n",
    "* 查找和插入的速度极快，不会随着key的增加而变慢；\n",
    "* 需要占用大量的内存，内存浪费多。\n",
    "\n",
    "而list相反：\n",
    "* 查找和插入的时间随着元素的增加而增加；\n",
    "* 占用空间小，浪费内存很少。\n",
    "\n",
    "所以，dict是用空间来换取时间的一种方法。"
   ],
   "id": "4879775baa61182f"
  },
  {
   "metadata": {},
   "cell_type": "markdown",
   "source": "# Set",
   "id": "5da81da134cd1ea7"
  },
  {
   "metadata": {
    "ExecuteTime": {
     "end_time": "2025-04-07T03:48:21.235985Z",
     "start_time": "2025-04-07T03:48:21.231436Z"
    }
   },
   "cell_type": "code",
   "source": [
    "s = {\"Tom\", \"Jerry\", \"Mickey\"}\n",
    "s"
   ],
   "id": "2e88b65a49994d5e",
   "outputs": [
    {
     "data": {
      "text/plain": [
       "{'Jerry', 'Mickey', 'Tom'}"
      ]
     },
     "execution_count": 47,
     "metadata": {},
     "output_type": "execute_result"
    }
   ],
   "execution_count": 47
  },
  {
   "metadata": {
    "ExecuteTime": {
     "end_time": "2025-04-07T03:49:36.054656Z",
     "start_time": "2025-04-07T03:49:36.049658Z"
    }
   },
   "cell_type": "code",
   "source": [
    "s = set([1,2,3,3,4,5])\n",
    "s"
   ],
   "id": "fd4c4c3fcdd77a24",
   "outputs": [
    {
     "data": {
      "text/plain": [
       "{1, 2, 3, 4, 5}"
      ]
     },
     "execution_count": 53,
     "metadata": {},
     "output_type": "execute_result"
    }
   ],
   "execution_count": 53
  },
  {
   "metadata": {
    "ExecuteTime": {
     "end_time": "2025-04-07T03:49:36.403736Z",
     "start_time": "2025-04-07T03:49:36.399025Z"
    }
   },
   "cell_type": "code",
   "source": [
    "s.add(7)\n",
    "s"
   ],
   "id": "ba9f755728715781",
   "outputs": [
    {
     "data": {
      "text/plain": [
       "{1, 2, 3, 4, 5, 7}"
      ]
     },
     "execution_count": 54,
     "metadata": {},
     "output_type": "execute_result"
    }
   ],
   "execution_count": 54
  },
  {
   "metadata": {
    "ExecuteTime": {
     "end_time": "2025-04-07T03:49:36.750245Z",
     "start_time": "2025-04-07T03:49:36.745135Z"
    }
   },
   "cell_type": "code",
   "source": [
    "s.remove(7)\n",
    "s"
   ],
   "id": "bcdb2735c457645f",
   "outputs": [
    {
     "data": {
      "text/plain": [
       "{1, 2, 3, 4, 5}"
      ]
     },
     "execution_count": 55,
     "metadata": {},
     "output_type": "execute_result"
    }
   ],
   "execution_count": 55
  },
  {
   "metadata": {
    "ExecuteTime": {
     "end_time": "2025-04-07T03:50:02.452133Z",
     "start_time": "2025-04-07T03:50:02.446112Z"
    }
   },
   "cell_type": "code",
   "source": [
    "# set可以看成数学意义上的无序和无重复元素的集合，因此，两个set可以做数学意义上的交集、并集等操作：\n",
    "s1 = set([1, 2, 3])\n",
    "s2 = set([3, 4, 5])\n",
    "\n",
    "s = s1 & s2  # 交集\n",
    "s"
   ],
   "id": "c680f69c3f5c265a",
   "outputs": [
    {
     "data": {
      "text/plain": [
       "{3}"
      ]
     },
     "execution_count": 56,
     "metadata": {},
     "output_type": "execute_result"
    }
   ],
   "execution_count": 56
  },
  {
   "metadata": {
    "ExecuteTime": {
     "end_time": "2025-04-07T03:50:14.957049Z",
     "start_time": "2025-04-07T03:50:14.951046Z"
    }
   },
   "cell_type": "code",
   "source": [
    "s = s1 | s2  # 并集\n",
    "s"
   ],
   "id": "450e2f73b0f52dcf",
   "outputs": [
    {
     "data": {
      "text/plain": [
       "{1, 2, 3, 4, 5}"
      ]
     },
     "execution_count": 57,
     "metadata": {},
     "output_type": "execute_result"
    }
   ],
   "execution_count": 57
  },
  {
   "metadata": {},
   "cell_type": "code",
   "outputs": [],
   "execution_count": null,
   "source": "",
   "id": "fb65a8515a7f07ad"
  }
 ],
 "metadata": {
  "kernelspec": {
   "display_name": "Python 3",
   "language": "python",
   "name": "python3"
  },
  "language_info": {
   "codemirror_mode": {
    "name": "ipython",
    "version": 2
   },
   "file_extension": ".py",
   "mimetype": "text/x-python",
   "name": "python",
   "nbconvert_exporter": "python",
   "pygments_lexer": "ipython2",
   "version": "2.7.6"
  }
 },
 "nbformat": 4,
 "nbformat_minor": 5
}
