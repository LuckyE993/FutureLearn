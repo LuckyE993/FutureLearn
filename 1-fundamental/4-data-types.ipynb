{
 "cells": [
  {
   "cell_type": "code",
   "id": "initial_id",
   "metadata": {
    "collapsed": true,
    "ExecuteTime": {
     "end_time": "2025-02-07T02:44:33.831409Z",
     "start_time": "2025-02-07T02:44:33.814457Z"
    }
   },
   "source": [
    "s = \"GfG\"\n",
    "\n",
    "print(s[1])  # access 2nd char\n",
    "s1 = s + s[0]  # update\n",
    "print(s1)  # print"
   ],
   "outputs": [
    {
     "name": "stdout",
     "output_type": "stream",
     "text": [
      "f\n",
      "GfGG\n"
     ]
    }
   ],
   "execution_count": 1
  },
  {
   "metadata": {
    "ExecuteTime": {
     "end_time": "2025-02-07T02:44:33.991507Z",
     "start_time": "2025-02-07T02:44:33.982368Z"
    }
   },
   "cell_type": "code",
   "source": [
    "s = \"\"\"I am Learning\n",
    "Python String on GeeksforGeeks\"\"\"\n",
    "print(s)\n",
    "\n",
    "s = '''I'm a \n",
    "Geek'''\n",
    "print(s)"
   ],
   "id": "a316df9f3b18c02d",
   "outputs": [
    {
     "name": "stdout",
     "output_type": "stream",
     "text": [
      "I am Learning\n",
      "Python String on GeeksforGeeks\n",
      "I'm a \n",
      "Geek\n"
     ]
    }
   ],
   "execution_count": 2
  },
  {
   "metadata": {
    "ExecuteTime": {
     "end_time": "2025-02-07T02:44:34.582402Z",
     "start_time": "2025-02-07T02:44:34.570405Z"
    }
   },
   "cell_type": "code",
   "source": [
    "s = \"GeeksforGeeks\"\n",
    "# Accesses first character: 'G'\n",
    "print(s[0])\n",
    "\n",
    "# Accesses 5th character: 's'\n",
    "print(s[4])\n",
    "\n",
    "# Accesses 3rd character: 'k'\n",
    "print(s[-10])\n",
    "\n",
    "# Accesses 5th character from end: 'G'\n",
    "print(s[-5])"
   ],
   "id": "b4fd2048c87485ea",
   "outputs": [
    {
     "name": "stdout",
     "output_type": "stream",
     "text": [
      "G\n",
      "s\n",
      "k\n",
      "G\n"
     ]
    }
   ],
   "execution_count": 3
  },
  {
   "metadata": {
    "ExecuteTime": {
     "end_time": "2025-02-07T02:44:34.727205Z",
     "start_time": "2025-02-07T02:44:34.716812Z"
    }
   },
   "cell_type": "code",
   "source": [
    "s = \"GeeksforGeeks\"\n",
    "\n",
    "# Retrieves characters from index 1 to 3: 'eek'\n",
    "print(s[1:4])  \n",
    "\n",
    "# Retrieves characters from beginning to index 2: 'Gee'\n",
    "print(s[:3])   \n",
    "\n",
    "# Retrieves characters from index 3 to the end: 'ksforGeeks'\n",
    "print(s[3:])   \n",
    "\n",
    "# Reverse a string\n",
    "print(s[::-1])"
   ],
   "id": "620490d81f920085",
   "outputs": [
    {
     "name": "stdout",
     "output_type": "stream",
     "text": [
      "eek\n",
      "Gee\n",
      "ksforGeeks\n",
      "skeeGrofskeeG\n"
     ]
    }
   ],
   "execution_count": 4
  },
  {
   "metadata": {
    "ExecuteTime": {
     "end_time": "2025-02-07T02:44:34.885902Z",
     "start_time": "2025-02-07T02:44:34.874667Z"
    }
   },
   "cell_type": "code",
   "source": [
    "s = \"geeksforGeeks\"\n",
    "\n",
    "# Trying to change the first character raises an error\n",
    "# s[0] = 'I'  # Uncommenting this line will cause a TypeError\n",
    "\n",
    "# Instead, create a new string\n",
    "s = \"G\" + s[1:]\n",
    "print(s)\n"
   ],
   "id": "630af35c483c12fa",
   "outputs": [
    {
     "name": "stdout",
     "output_type": "stream",
     "text": [
      "GeeksforGeeks\n"
     ]
    }
   ],
   "execution_count": 5
  },
  {
   "metadata": {
    "ExecuteTime": {
     "end_time": "2025-02-07T02:44:35.023181Z",
     "start_time": "2025-02-07T02:44:35.012268Z"
    }
   },
   "cell_type": "code",
   "source": [
    "s = \"geeksforGeeks\"\n",
    "\n",
    "# 将字符串转换为列表\n",
    "s_list = list(s)\n",
    "\n",
    "# 修改列表中的元素\n",
    "s_list[0] = 'I'\n",
    "s_list[1] = '8'\n",
    "\n",
    "# 将列表转换回字符串\n",
    "s = ''.join(s_list)\n",
    "print(s)  # 输出: I8eksforGeeks"
   ],
   "id": "e4f5ab707fe1e21f",
   "outputs": [
    {
     "name": "stdout",
     "output_type": "stream",
     "text": [
      "I8eksforGeeks\n"
     ]
    }
   ],
   "execution_count": 6
  },
  {
   "metadata": {
    "ExecuteTime": {
     "end_time": "2025-02-07T03:09:24.681980Z",
     "start_time": "2025-02-07T03:09:24.671303Z"
    }
   },
   "cell_type": "code",
   "source": [
    "s = \"geeksforGeeks\"\n",
    "print(s[-10])"
   ],
   "id": "1a259d7d1348b989",
   "outputs": [
    {
     "name": "stdout",
     "output_type": "stream",
     "text": [
      "k\n"
     ]
    }
   ],
   "execution_count": 9
  },
  {
   "metadata": {},
   "cell_type": "markdown",
   "source": "## 常见的method",
   "id": "f7a39aa6d16679e3"
  },
  {
   "metadata": {
    "ExecuteTime": {
     "end_time": "2025-02-07T03:12:04.965211Z",
     "start_time": "2025-02-07T03:12:04.957142Z"
    }
   },
   "cell_type": "code",
   "source": [
    "s = \"geeksforGeeks\"\n",
    "print(len(s))\n",
    "\n",
    "print(s.upper())\n",
    "print(s.lower())    \n",
    "\n",
    "print(s.capitalize())\n",
    "print(s.swapcase())\n"
   ],
   "id": "1239075e2166ef6e",
   "outputs": [
    {
     "name": "stdout",
     "output_type": "stream",
     "text": [
      "13\n",
      "GEEKSFORGEEKS\n",
      "geeksforgeeks\n",
      "Geeksforgeeks\n",
      "GEEKSFORgEEKS\n"
     ]
    }
   ],
   "execution_count": 13
  },
  {
   "metadata": {
    "ExecuteTime": {
     "end_time": "2025-02-07T03:13:22.842455Z",
     "start_time": "2025-02-07T03:13:22.834364Z"
    }
   },
   "cell_type": "code",
   "source": [
    "s = \"    asd    \"\n",
    "\n",
    "print(s.strip())\n",
    "\n",
    "s = \"python learn tt\"\n",
    "print(s.replace(\"tt\",\"tutorial\"))"
   ],
   "id": "da67ec961383c665",
   "outputs": [
    {
     "name": "stdout",
     "output_type": "stream",
     "text": [
      "asd\n",
      "python learn tutorial\n"
     ]
    }
   ],
   "execution_count": 14
  },
  {
   "metadata": {
    "ExecuteTime": {
     "end_time": "2025-02-07T03:13:51.169594Z",
     "start_time": "2025-02-07T03:13:51.161791Z"
    }
   },
   "cell_type": "code",
   "source": [
    "name = \"Alice\"\n",
    "age = 22\n",
    "print(f\"Name: {name}, Age: {age}\")"
   ],
   "id": "a734c70f722a96f7",
   "outputs": [
    {
     "name": "stdout",
     "output_type": "stream",
     "text": [
      "Name: Alice, Age: 22\n"
     ]
    }
   ],
   "execution_count": 15
  }
 ],
 "metadata": {
  "kernelspec": {
   "display_name": "Python 3",
   "language": "python",
   "name": "python3"
  },
  "language_info": {
   "codemirror_mode": {
    "name": "ipython",
    "version": 2
   },
   "file_extension": ".py",
   "mimetype": "text/x-python",
   "name": "python",
   "nbconvert_exporter": "python",
   "pygments_lexer": "ipython2",
   "version": "2.7.6"
  }
 },
 "nbformat": 4,
 "nbformat_minor": 5
}
