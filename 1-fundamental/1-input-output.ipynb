{
 "cells": [
  {
   "cell_type": "markdown",
   "id": "dc611566-fa9b-4191-b5c6-f94533f874ad",
   "metadata": {},
   "source": "# 输出"
  },
  {
   "cell_type": "code",
   "id": "f63c1cb1-7ae8-4a24-a637-e49abeb534be",
   "metadata": {
    "ExecuteTime": {
     "end_time": "2025-02-05T14:57:33.457780Z",
     "start_time": "2025-02-05T14:57:33.441595Z"
    }
   },
   "source": [
    "print(\"hello world\")"
   ],
   "outputs": [
    {
     "name": "stdout",
     "output_type": "stream",
     "text": [
      "hello world\n"
     ]
    }
   ],
   "execution_count": 1
  },
  {
   "cell_type": "markdown",
   "id": "2c8c835f-24e7-4484-9732-abf753b38768",
   "metadata": {},
   "source": [
    "## 打印变量"
   ]
  },
  {
   "cell_type": "code",
   "execution_count": null,
   "id": "aa0c9116-a3bb-4430-a4ba-ab6a815249c2",
   "metadata": {},
   "outputs": [],
   "source": [
    "# 字符串\n",
    "s = 'LuckyE'\n",
    "print(s)\n",
    "\n",
    "# 多个变量\n",
    "age = 21\n",
    "home = \"LY\"\n",
    "print(s, age, home)\n"
   ]
  },
  {
   "cell_type": "markdown",
   "id": "694d0389-5f17-4632-9e33-5899f3bed3af",
   "metadata": {},
   "source": [
    "## 1.字符串模运算符 % String modulo Operator \n",
    "![图片](https://media.geeksforgeeks.org/wp-content/uploads/20230717132844/formatedOutput-min-1-1-(1).png)\n"
   ]
  },
  {
   "cell_type": "code",
   "execution_count": 1,
   "id": "fc7eaf61-a67f-4bd4-b59a-e791599684a9",
   "metadata": {},
   "outputs": [
    {
     "name": "stdout",
     "output_type": "stream",
     "text": [
      "Geeks :  1, Portal : 5.33\n"
     ]
    }
   ],
   "source": "print(\"Geeks : %2d, Portal : %.2f\" % (1, 05.333))"
  },
  {
   "cell_type": "code",
   "execution_count": 2,
   "id": "00f7aca8-ba27-4fb4-9726-3c42d0201e9b",
   "metadata": {},
   "outputs": [
    {
     "name": "stdout",
     "output_type": "stream",
     "text": [
      "Variable as string = 15\n",
      "Variable as raw data = '15'\n"
     ]
    }
   ],
   "source": [
    "variable = '15'\n",
    "string = \"Variable as string = %s\" % (variable)\n",
    "print(string)\n",
    "\n",
    "print(\"Variable as raw data = %r\" % (variable))"
   ]
  },
  {
   "cell_type": "markdown",
   "id": "02d05b48-7ed0-486a-a696-25cc4d8dc62d",
   "metadata": {},
   "source": [
    "## 2.format() method\n",
    "![format()函数的示意图](https://media.geeksforgeeks.org/wp-content/uploads/20230717133247/formatedOutput2-min-1-(1).png)"
   ]
  },
  {
   "cell_type": "code",
   "id": "7588a589-0393-4063-99cb-4b4eb108ebe6",
   "metadata": {
    "ExecuteTime": {
     "end_time": "2025-01-23T01:37:16.751308Z",
     "start_time": "2025-01-23T01:37:16.741164Z"
    }
   },
   "source": [
    "amount = 150.75\n",
    "print(\"Amount: ${:.2f}\".format(amount))"
   ],
   "outputs": [
    {
     "name": "stdout",
     "output_type": "stream",
     "text": [
      "Amount: $150.75\n"
     ]
    }
   ],
   "execution_count": 2
  },
  {
   "metadata": {
    "ExecuteTime": {
     "end_time": "2025-01-23T01:42:21.435090Z",
     "start_time": "2025-01-23T01:42:21.425533Z"
    }
   },
   "cell_type": "code",
   "source": [
    "# Positional formatting with format() method\n",
    "\n",
    "# Using indexed placeholders for string formatting\n",
    "print(\"I love {0} for \\\"{1}!\\\"\".format(\"Geeks\", \"Geeks\"))\n",
    "\n",
    "# {0} is replaced by the first argument 'Geeks'\n",
    "print(\"{0} and Portal\".format(\"Geeks\"))\n",
    "\n",
    "# Formatting with placeholders, {0} replaced by 'Geeks'\n",
    "print(\"Portal and {0}\".format(\"Geeks\"))"
   ],
   "id": "e81bd5b551f2550d",
   "outputs": [
    {
     "name": "stdout",
     "output_type": "stream",
     "text": [
      "I love Geeks for \"Geeks!\"\n",
      "Geeks and Portal\n",
      "Portal and Geeks\n"
     ]
    }
   ],
   "execution_count": 3
  },
  {
   "metadata": {
    "ExecuteTime": {
     "end_time": "2025-01-23T01:48:28.138814Z",
     "start_time": "2025-01-23T01:48:28.127858Z"
    }
   },
   "cell_type": "code",
   "source": [
    "# Advanced formatting with positional and named arguments\n",
    "\n",
    "# Mixing positional and named arguments\n",
    "template = \"Number one portal is {0}, {1} and {other}.\"\n",
    "print(template.format(\"Geeks\", \"For\", other=\"Geeks\"))\n",
    "\n",
    "# Format integers and floats with specified width and precision\n",
    "print(\"Geeks :{0:2d}, Portal :{1:8.2f}\".format(12, 0.5534))\n",
    "\n",
    "# Demonstrate order swapping and formatting precision\n",
    "print(\"Second argument: {1:1d}, first one: {0:8.2f}\".format(47.42, 11))\n",
    "print(\"Second argument: {1:2d}, first one: {0:8.2f}\".format(47.42, 11))\n",
    "print(\"Second argument: {1:3d}, first one: {0:8.2f}\".format(47.42, 11))\n",
    "\n",
    "# Using named arguments for clarity in complex formats\n",
    "print(\"Geeks: {a:5d}, Portal: {p:8.2f}\".format(a=453, p=59.058))"
   ],
   "id": "bdc1b16e96ddece4",
   "outputs": [
    {
     "name": "stdout",
     "output_type": "stream",
     "text": [
      "Number one portal is Geeks, For and Geeks.\n",
      "Geeks :12, Portal :    0.55\n",
      "Second argument: 11, first one:    47.42\n",
      "Second argument: 11, first one:    47.42\n",
      "Second argument:  11, first one:    47.42\n",
      "Geeks:   453, Portal:    59.06\n"
     ]
    }
   ],
   "execution_count": 8
  },
  {
   "metadata": {},
   "cell_type": "markdown",
   "source": [
    "## 3.String Method\n",
    "Center Method url: https://www.geeksforgeeks.org/python-string-center-method/\n"
   ],
   "id": "4052cb4749fe811d"
  },
  {
   "metadata": {
    "ExecuteTime": {
     "end_time": "2025-01-23T08:46:21.366930Z",
     "start_time": "2025-01-23T08:46:21.354543Z"
    }
   },
   "cell_type": "code",
   "source": [
    "cstr = \"I love geeksforgeeks\"\n",
    "\n",
    "# Printing the center aligned string with fillchr\n",
    "print(\"Center aligned: \")\n",
    "print(cstr.center(80, '#'))\n",
    "print(cstr.center(40, '#'))\n",
    "\n",
    "# Printing the left aligned string with \"-\" padding\n",
    "print(\"left aligned: \")\n",
    "print(cstr.ljust(40, '-'))\n",
    "\n",
    "# Printing the right aligned string with \"-\" padding\n",
    "print(\"right aligned: \")\n",
    "print(cstr.rjust(40, '-'))"
   ],
   "id": "5db5fd3768d593f6",
   "outputs": [
    {
     "name": "stdout",
     "output_type": "stream",
     "text": [
      "Center aligned: \n",
      "##############################I love geeksforgeeks##############################\n",
      "##########I love geeksforgeeks##########\n",
      "left aligned: \n",
      "I love geeksforgeeks--------------------\n",
      "right aligned: \n",
      "--------------------I love geeksforgeeks\n"
     ]
    }
   ],
   "execution_count": 3
  },
  {
   "cell_type": "markdown",
   "id": "89cf7e6e-13f5-4673-ab18-6acce0786640",
   "metadata": {},
   "source": "## 4.f-strings from Python 3.6"
  },
  {
   "cell_type": "code",
   "id": "1bfea429-ced1-4e4e-8c8b-1a35bdae907c",
   "metadata": {
    "ExecuteTime": {
     "end_time": "2025-01-23T13:08:32.413192Z",
     "start_time": "2025-01-23T13:08:32.404524Z"
    }
   },
   "source": [
    "# Python3 program introducing f-string\n",
    "val = 'Geeks'\n",
    "print(f\"{val}for{val} is a portal for {val}.\")\n",
    "\n",
    "name = 'Om'\n",
    "age = 22\n",
    "print(f\"Hello, My name is {name} and I'm {age} years old.\")\n",
    "# multi-rows\n",
    "print(f\"{name} is {age} years old.\\n\"\n",
    "      f\"{name} is {age} years old.\")"
   ],
   "outputs": [
    {
     "name": "stdout",
     "output_type": "stream",
     "text": [
      "GeeksforGeeks is a portal for Geeks.\n",
      "Hello, My name is Om and I'm 22 years old.\n",
      "Om is 22 years old.\n",
      "Om is 22 years old.\n"
     ]
    }
   ],
   "execution_count": 8
  },
  {
   "metadata": {
    "ExecuteTime": {
     "end_time": "2025-01-23T13:03:20.660899Z",
     "start_time": "2025-01-23T13:03:20.652847Z"
    }
   },
   "cell_type": "code",
   "source": [
    "# Prints today's date with help\n",
    "# of datetime library\n",
    "import datetime\n",
    "\n",
    "today = datetime.date.today()\n",
    "print(f\"{today:%B %d, %Y}\")"
   ],
   "id": "ccf2d8d050031569",
   "outputs": [
    {
     "name": "stdout",
     "output_type": "stream",
     "text": [
      "January 23, 2025\n"
     ]
    }
   ],
   "execution_count": 6
  },
  {
   "metadata": {
    "ExecuteTime": {
     "end_time": "2025-01-23T13:05:37.023753Z",
     "start_time": "2025-01-23T13:05:37.014872Z"
    }
   },
   "cell_type": "code",
   "source": [
    "# Evaluate Expressions with f-Strings in Python\n",
    "english = 78\n",
    "maths = 56\n",
    "hindi = 85\n",
    "\n",
    "print(f\"Ram got total marks {english + maths + hindi} out of 300\")"
   ],
   "id": "2949667a73f309be",
   "outputs": [
    {
     "name": "stdout",
     "output_type": "stream",
     "text": [
      "Ram got total marks 219 out of 300\n"
     ]
    }
   ],
   "execution_count": 7
  },
  {
   "metadata": {},
   "cell_type": "code",
   "outputs": [],
   "execution_count": null,
   "source": [
    "Geek = {'Id': 100,\n",
    "        'Name': 'Om'}\n",
    "\n",
    "print(f\"Id of {Geek['Name']} is {Geek['Id']}\")"
   ],
   "id": "7490ffa07080f3f9"
  },
  {
   "metadata": {},
   "cell_type": "markdown",
   "source": "# 输入",
   "id": "8af587db589f0b18"
  },
  {
   "metadata": {
    "ExecuteTime": {
     "end_time": "2025-01-23T13:25:35.038570Z",
     "start_time": "2025-01-23T13:25:30.397764Z"
    }
   },
   "cell_type": "code",
   "source": [
    "# taking two inputs at a time\n",
    "x, y = input(\"Enter two values: \").split()\n",
    "print(\"Number of boys: \", x)\n",
    "print(\"Number of girls: \", y)"
   ],
   "id": "c745518e7c8b2579",
   "outputs": [
    {
     "ename": "KeyboardInterrupt",
     "evalue": "Interrupted by user",
     "output_type": "error",
     "traceback": [
      "\u001B[0;31m---------------------------------------------------------------------------\u001B[0m",
      "\u001B[0;31mKeyboardInterrupt\u001B[0m                         Traceback (most recent call last)",
      "Cell \u001B[0;32mIn[22], line 2\u001B[0m\n\u001B[1;32m      1\u001B[0m \u001B[38;5;66;03m# taking two inputs at a time\u001B[39;00m\n\u001B[0;32m----> 2\u001B[0m x, y \u001B[38;5;241m=\u001B[39m \u001B[38;5;28;43minput\u001B[39;49m\u001B[43m(\u001B[49m\u001B[38;5;124;43m\"\u001B[39;49m\u001B[38;5;124;43mEnter two values: \u001B[39;49m\u001B[38;5;124;43m\"\u001B[39;49m\u001B[43m)\u001B[49m\u001B[38;5;241m.\u001B[39msplit()\n\u001B[1;32m      3\u001B[0m \u001B[38;5;28mprint\u001B[39m(\u001B[38;5;124m\"\u001B[39m\u001B[38;5;124mNumber of boys: \u001B[39m\u001B[38;5;124m\"\u001B[39m, x)\n\u001B[1;32m      4\u001B[0m \u001B[38;5;28mprint\u001B[39m(\u001B[38;5;124m\"\u001B[39m\u001B[38;5;124mNumber of girls: \u001B[39m\u001B[38;5;124m\"\u001B[39m, y)\n",
      "File \u001B[0;32m~/miniconda3/envs/pylearn/lib/python3.10/site-packages/ipykernel/kernelbase.py:1282\u001B[0m, in \u001B[0;36mKernel.raw_input\u001B[0;34m(self, prompt)\u001B[0m\n\u001B[1;32m   1280\u001B[0m     msg \u001B[38;5;241m=\u001B[39m \u001B[38;5;124m\"\u001B[39m\u001B[38;5;124mraw_input was called, but this frontend does not support input requests.\u001B[39m\u001B[38;5;124m\"\u001B[39m\n\u001B[1;32m   1281\u001B[0m     \u001B[38;5;28;01mraise\u001B[39;00m StdinNotImplementedError(msg)\n\u001B[0;32m-> 1282\u001B[0m \u001B[38;5;28;01mreturn\u001B[39;00m \u001B[38;5;28;43mself\u001B[39;49m\u001B[38;5;241;43m.\u001B[39;49m\u001B[43m_input_request\u001B[49m\u001B[43m(\u001B[49m\n\u001B[1;32m   1283\u001B[0m \u001B[43m    \u001B[49m\u001B[38;5;28;43mstr\u001B[39;49m\u001B[43m(\u001B[49m\u001B[43mprompt\u001B[49m\u001B[43m)\u001B[49m\u001B[43m,\u001B[49m\n\u001B[1;32m   1284\u001B[0m \u001B[43m    \u001B[49m\u001B[38;5;28;43mself\u001B[39;49m\u001B[38;5;241;43m.\u001B[39;49m\u001B[43m_parent_ident\u001B[49m\u001B[43m[\u001B[49m\u001B[38;5;124;43m\"\u001B[39;49m\u001B[38;5;124;43mshell\u001B[39;49m\u001B[38;5;124;43m\"\u001B[39;49m\u001B[43m]\u001B[49m\u001B[43m,\u001B[49m\n\u001B[1;32m   1285\u001B[0m \u001B[43m    \u001B[49m\u001B[38;5;28;43mself\u001B[39;49m\u001B[38;5;241;43m.\u001B[39;49m\u001B[43mget_parent\u001B[49m\u001B[43m(\u001B[49m\u001B[38;5;124;43m\"\u001B[39;49m\u001B[38;5;124;43mshell\u001B[39;49m\u001B[38;5;124;43m\"\u001B[39;49m\u001B[43m)\u001B[49m\u001B[43m,\u001B[49m\n\u001B[1;32m   1286\u001B[0m \u001B[43m    \u001B[49m\u001B[43mpassword\u001B[49m\u001B[38;5;241;43m=\u001B[39;49m\u001B[38;5;28;43;01mFalse\u001B[39;49;00m\u001B[43m,\u001B[49m\n\u001B[1;32m   1287\u001B[0m \u001B[43m\u001B[49m\u001B[43m)\u001B[49m\n",
      "File \u001B[0;32m~/miniconda3/envs/pylearn/lib/python3.10/site-packages/ipykernel/kernelbase.py:1325\u001B[0m, in \u001B[0;36mKernel._input_request\u001B[0;34m(self, prompt, ident, parent, password)\u001B[0m\n\u001B[1;32m   1322\u001B[0m \u001B[38;5;28;01mexcept\u001B[39;00m \u001B[38;5;167;01mKeyboardInterrupt\u001B[39;00m:\n\u001B[1;32m   1323\u001B[0m     \u001B[38;5;66;03m# re-raise KeyboardInterrupt, to truncate traceback\u001B[39;00m\n\u001B[1;32m   1324\u001B[0m     msg \u001B[38;5;241m=\u001B[39m \u001B[38;5;124m\"\u001B[39m\u001B[38;5;124mInterrupted by user\u001B[39m\u001B[38;5;124m\"\u001B[39m\n\u001B[0;32m-> 1325\u001B[0m     \u001B[38;5;28;01mraise\u001B[39;00m \u001B[38;5;167;01mKeyboardInterrupt\u001B[39;00m(msg) \u001B[38;5;28;01mfrom\u001B[39;00m \u001B[38;5;28;01mNone\u001B[39;00m\n\u001B[1;32m   1326\u001B[0m \u001B[38;5;28;01mexcept\u001B[39;00m \u001B[38;5;167;01mException\u001B[39;00m:\n\u001B[1;32m   1327\u001B[0m     \u001B[38;5;28mself\u001B[39m\u001B[38;5;241m.\u001B[39mlog\u001B[38;5;241m.\u001B[39mwarning(\u001B[38;5;124m\"\u001B[39m\u001B[38;5;124mInvalid Message:\u001B[39m\u001B[38;5;124m\"\u001B[39m, exc_info\u001B[38;5;241m=\u001B[39m\u001B[38;5;28;01mTrue\u001B[39;00m)\n",
      "\u001B[0;31mKeyboardInterrupt\u001B[0m: Interrupted by user"
     ]
    }
   ],
   "execution_count": 22
  },
  {
   "metadata": {
    "ExecuteTime": {
     "end_time": "2025-01-23T13:16:52.144440Z",
     "start_time": "2025-01-23T13:16:38.074035Z"
    }
   },
   "cell_type": "code",
   "source": [
    "# Asking for multiple space-separated values\n",
    "# The input() function is used to take the user’s input as a string.\n",
    "inputs = [i for i in input().split()]\n",
    "\n",
    "print(inputs)"
   ],
   "id": "a6ef0aa8b03ee2a9",
   "outputs": [
    {
     "name": "stdout",
     "output_type": "stream",
     "text": [
      "['213', '233432', '2131']\n",
      "[123, 1234, 34]\n"
     ]
    }
   ],
   "execution_count": 13
  },
  {
   "metadata": {},
   "cell_type": "markdown",
   "source": [
    "Syntax of the map() function\n",
    "The syntax for the map() function is as follows:\n",
    "\n",
    "'map(function, iterable)'\n",
    "\n",
    "Parameter:\n",
    "    function: The function we want to apply to every element of the iterable.\n",
    "    iterable: The iterable whose elements we want to process."
   ],
   "id": "aaf10e9534eb2d19"
  },
  {
   "metadata": {
    "ExecuteTime": {
     "end_time": "2025-01-23T13:23:47.495472Z",
     "start_time": "2025-01-23T13:23:46.677086Z"
    }
   },
   "cell_type": "code",
   "source": [
    "# 转换为整数的方法\n",
    "# taking multiple inputs at a time separated by comma\n",
    "x = [int(x) for x in input().split(\",\")]\n",
    "print(x)\n",
    "\n",
    "# Take space-separated inputs and convert them to integers\n",
    "a = map(int, input().split())\n",
    "\n",
    "# Convert the map object to a list and print it\n",
    "b = list(a)\n",
    "print(b)"
   ],
   "id": "4b13cd40fa3598f",
   "outputs": [
    {
     "ename": "KeyboardInterrupt",
     "evalue": "Interrupted by user",
     "output_type": "error",
     "traceback": [
      "\u001B[0;31m---------------------------------------------------------------------------\u001B[0m",
      "\u001B[0;31mKeyboardInterrupt\u001B[0m                         Traceback (most recent call last)",
      "Cell \u001B[0;32mIn[21], line 3\u001B[0m\n\u001B[1;32m      1\u001B[0m \u001B[38;5;66;03m# 转换为整数的方法\u001B[39;00m\n\u001B[1;32m      2\u001B[0m \u001B[38;5;66;03m# taking multiple inputs at a time separated by comma\u001B[39;00m\n\u001B[0;32m----> 3\u001B[0m x \u001B[38;5;241m=\u001B[39m [\u001B[38;5;28mint\u001B[39m(x) \u001B[38;5;28;01mfor\u001B[39;00m x \u001B[38;5;129;01min\u001B[39;00m \u001B[38;5;28;43minput\u001B[39;49m\u001B[43m(\u001B[49m\u001B[43m)\u001B[49m\u001B[38;5;241m.\u001B[39msplit(\u001B[38;5;124m\"\u001B[39m\u001B[38;5;124m,\u001B[39m\u001B[38;5;124m\"\u001B[39m)]\n\u001B[1;32m      4\u001B[0m \u001B[38;5;28mprint\u001B[39m(x)\n\u001B[1;32m      6\u001B[0m \u001B[38;5;66;03m# Take space-separated inputs and convert them to integers\u001B[39;00m\n",
      "File \u001B[0;32m~/miniconda3/envs/pylearn/lib/python3.10/site-packages/ipykernel/kernelbase.py:1282\u001B[0m, in \u001B[0;36mKernel.raw_input\u001B[0;34m(self, prompt)\u001B[0m\n\u001B[1;32m   1280\u001B[0m     msg \u001B[38;5;241m=\u001B[39m \u001B[38;5;124m\"\u001B[39m\u001B[38;5;124mraw_input was called, but this frontend does not support input requests.\u001B[39m\u001B[38;5;124m\"\u001B[39m\n\u001B[1;32m   1281\u001B[0m     \u001B[38;5;28;01mraise\u001B[39;00m StdinNotImplementedError(msg)\n\u001B[0;32m-> 1282\u001B[0m \u001B[38;5;28;01mreturn\u001B[39;00m \u001B[38;5;28;43mself\u001B[39;49m\u001B[38;5;241;43m.\u001B[39;49m\u001B[43m_input_request\u001B[49m\u001B[43m(\u001B[49m\n\u001B[1;32m   1283\u001B[0m \u001B[43m    \u001B[49m\u001B[38;5;28;43mstr\u001B[39;49m\u001B[43m(\u001B[49m\u001B[43mprompt\u001B[49m\u001B[43m)\u001B[49m\u001B[43m,\u001B[49m\n\u001B[1;32m   1284\u001B[0m \u001B[43m    \u001B[49m\u001B[38;5;28;43mself\u001B[39;49m\u001B[38;5;241;43m.\u001B[39;49m\u001B[43m_parent_ident\u001B[49m\u001B[43m[\u001B[49m\u001B[38;5;124;43m\"\u001B[39;49m\u001B[38;5;124;43mshell\u001B[39;49m\u001B[38;5;124;43m\"\u001B[39;49m\u001B[43m]\u001B[49m\u001B[43m,\u001B[49m\n\u001B[1;32m   1285\u001B[0m \u001B[43m    \u001B[49m\u001B[38;5;28;43mself\u001B[39;49m\u001B[38;5;241;43m.\u001B[39;49m\u001B[43mget_parent\u001B[49m\u001B[43m(\u001B[49m\u001B[38;5;124;43m\"\u001B[39;49m\u001B[38;5;124;43mshell\u001B[39;49m\u001B[38;5;124;43m\"\u001B[39;49m\u001B[43m)\u001B[49m\u001B[43m,\u001B[49m\n\u001B[1;32m   1286\u001B[0m \u001B[43m    \u001B[49m\u001B[43mpassword\u001B[49m\u001B[38;5;241;43m=\u001B[39;49m\u001B[38;5;28;43;01mFalse\u001B[39;49;00m\u001B[43m,\u001B[49m\n\u001B[1;32m   1287\u001B[0m \u001B[43m\u001B[49m\u001B[43m)\u001B[49m\n",
      "File \u001B[0;32m~/miniconda3/envs/pylearn/lib/python3.10/site-packages/ipykernel/kernelbase.py:1325\u001B[0m, in \u001B[0;36mKernel._input_request\u001B[0;34m(self, prompt, ident, parent, password)\u001B[0m\n\u001B[1;32m   1322\u001B[0m \u001B[38;5;28;01mexcept\u001B[39;00m \u001B[38;5;167;01mKeyboardInterrupt\u001B[39;00m:\n\u001B[1;32m   1323\u001B[0m     \u001B[38;5;66;03m# re-raise KeyboardInterrupt, to truncate traceback\u001B[39;00m\n\u001B[1;32m   1324\u001B[0m     msg \u001B[38;5;241m=\u001B[39m \u001B[38;5;124m\"\u001B[39m\u001B[38;5;124mInterrupted by user\u001B[39m\u001B[38;5;124m\"\u001B[39m\n\u001B[0;32m-> 1325\u001B[0m     \u001B[38;5;28;01mraise\u001B[39;00m \u001B[38;5;167;01mKeyboardInterrupt\u001B[39;00m(msg) \u001B[38;5;28;01mfrom\u001B[39;00m \u001B[38;5;28;01mNone\u001B[39;00m\n\u001B[1;32m   1326\u001B[0m \u001B[38;5;28;01mexcept\u001B[39;00m \u001B[38;5;167;01mException\u001B[39;00m:\n\u001B[1;32m   1327\u001B[0m     \u001B[38;5;28mself\u001B[39m\u001B[38;5;241m.\u001B[39mlog\u001B[38;5;241m.\u001B[39mwarning(\u001B[38;5;124m\"\u001B[39m\u001B[38;5;124mInvalid Message:\u001B[39m\u001B[38;5;124m\"\u001B[39m, exc_info\u001B[38;5;241m=\u001B[39m\u001B[38;5;28;01mTrue\u001B[39;00m)\n",
      "\u001B[0;31mKeyboardInterrupt\u001B[0m: Interrupted by user"
     ]
    }
   ],
   "execution_count": 21
  },
  {
   "metadata": {},
   "cell_type": "code",
   "outputs": [],
   "execution_count": null,
   "source": "",
   "id": "b4797ac3134b7c23"
  }
 ],
 "metadata": {
  "kernelspec": {
   "display_name": "Python 3 (ipykernel)",
   "language": "python",
   "name": "python3"
  },
  "language_info": {
   "codemirror_mode": {
    "name": "ipython",
    "version": 3
   },
   "file_extension": ".py",
   "mimetype": "text/x-python",
   "name": "python",
   "nbconvert_exporter": "python",
   "pygments_lexer": "ipython3",
   "version": "3.12.8"
  }
 },
 "nbformat": 4,
 "nbformat_minor": 5
}
