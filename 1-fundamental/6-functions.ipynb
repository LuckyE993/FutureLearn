{
 "cells": [
  {
   "metadata": {
    "ExecuteTime": {
     "end_time": "2025-04-07T09:43:11.371798Z",
     "start_time": "2025-04-07T09:43:11.368022Z"
    }
   },
   "cell_type": "code",
   "source": "print(\"hello world\")",
   "id": "7d627607bad42237",
   "outputs": [
    {
     "name": "stdout",
     "output_type": "stream",
     "text": [
      "hello world\n"
     ]
    }
   ],
   "execution_count": 21
  },
  {
   "metadata": {},
   "cell_type": "markdown",
   "source": [
    "# 函数的定义与调用\n",
    "## 基础语法"
   ],
   "id": "b7f92f80088eaa9d"
  },
  {
   "metadata": {
    "ExecuteTime": {
     "end_time": "2025-04-07T09:43:11.406288Z",
     "start_time": "2025-04-07T09:43:11.397386Z"
    }
   },
   "cell_type": "code",
   "source": [
    "def greet(name):\n",
    "    \"\"\"返回问候语（文档字符串）\"\"\"\n",
    "    return f\"Hello, {name}!\"\n",
    "\n",
    "\n",
    "print(greet(\"Alice\"))  # 输出: Hello, Alice!\n",
    "print(greet.__doc__)  # 输出函数的文档字符串"
   ],
   "id": "aa710c9717c65049",
   "outputs": [
    {
     "name": "stdout",
     "output_type": "stream",
     "text": [
      "Hello, Alice!\n",
      "返回问候语（文档字符串）\n"
     ]
    }
   ],
   "execution_count": 22
  },
  {
   "metadata": {},
   "cell_type": "markdown",
   "source": "## 参数传递\n",
   "id": "1e57be4b888cc341"
  },
  {
   "metadata": {
    "ExecuteTime": {
     "end_time": "2025-04-07T09:43:11.434648Z",
     "start_time": "2025-04-07T09:43:11.429647Z"
    }
   },
   "cell_type": "code",
   "source": [
    "# (1) 位置参数（按顺序传递）\n",
    "def add(a, b):\n",
    "    return a + b\n",
    "\n",
    "\n",
    "print(add(3, 5))  # 输出 8"
   ],
   "id": "baf643d9bd47fd7",
   "outputs": [
    {
     "name": "stdout",
     "output_type": "stream",
     "text": [
      "8\n"
     ]
    }
   ],
   "execution_count": 23
  },
  {
   "metadata": {
    "ExecuteTime": {
     "end_time": "2025-04-07T09:43:11.472648Z",
     "start_time": "2025-04-07T09:43:11.466648Z"
    }
   },
   "cell_type": "code",
   "source": [
    "# (2) 默认参数\n",
    "def power(base, exponent=2):\n",
    "    return base ** exponent\n",
    "\n",
    "\n",
    "print(power(3))  # 输出 9 (默认 exponent=2)\n",
    "print(power(3, 4))  # 输出 81"
   ],
   "id": "f823a0f4f1f2e263",
   "outputs": [
    {
     "name": "stdout",
     "output_type": "stream",
     "text": [
      "9\n",
      "81\n"
     ]
    }
   ],
   "execution_count": 24
  },
  {
   "metadata": {
    "ExecuteTime": {
     "end_time": "2025-04-07T09:43:11.508149Z",
     "start_time": "2025-04-07T09:43:11.503150Z"
    }
   },
   "cell_type": "code",
   "source": [
    "# (3) 关键字参数（指定参数名）\n",
    "def describe_person(name, age, city):\n",
    "    print(f\"{name} is {age} years old, lives in {city}\")\n",
    "\n",
    "\n",
    "describe_person(age=30, city=\"Beijing\", name=\"Bob\")  # 参数顺序无关"
   ],
   "id": "78007808f44d1e87",
   "outputs": [
    {
     "name": "stdout",
     "output_type": "stream",
     "text": [
      "Bob is 30 years old, lives in Beijing\n"
     ]
    }
   ],
   "execution_count": 25
  },
  {
   "metadata": {
    "ExecuteTime": {
     "end_time": "2025-04-07T09:43:11.546661Z",
     "start_time": "2025-04-07T09:43:11.541662Z"
    }
   },
   "cell_type": "code",
   "source": [
    "# (4) 可变参数 (*args 和 **kwargs)\n",
    "def print_all(*args, **kwargs):\n",
    "    print(\"位置参数:\", args)\n",
    "    print(\"关键字参数:\", kwargs)\n",
    "\n",
    "\n",
    "print_all(1, 2, 3, name=\"Alice\", age=25)"
   ],
   "id": "1d2c2a4e2dcdd34",
   "outputs": [
    {
     "name": "stdout",
     "output_type": "stream",
     "text": [
      "位置参数: (1, 2, 3)\n",
      "关键字参数: {'name': 'Alice', 'age': 25}\n"
     ]
    }
   ],
   "execution_count": 26
  },
  {
   "metadata": {},
   "cell_type": "markdown",
   "source": [
    "## *args **kwargs in Python\n",
    "\n",
    "*args作为元组收集其他位置参数，而 **kwargs将其他关键字参数作为词典。\n",
    "\n",
    "![有两个特殊符号可以传递多个参数](https://media.geeksforgeeks.org/wp-content/uploads/20200907141910/keyword-300x176.PNG)"
   ],
   "id": "81b89383d093f6be"
  },
  {
   "metadata": {},
   "cell_type": "markdown",
   "source": [
    "\n",
    "## 基础用法\n",
    "### *args（接收任意数量的位置参数）"
   ],
   "id": "6b61641c69f66ec0"
  },
  {
   "metadata": {
    "ExecuteTime": {
     "end_time": "2025-04-07T09:43:11.586105Z",
     "start_time": "2025-04-07T09:43:11.580103Z"
    }
   },
   "cell_type": "code",
   "source": [
    "def sum_numbers(*args):\n",
    "    total = 0\n",
    "    for num in args:\n",
    "        total += num\n",
    "    return total\n",
    "\n",
    "\n",
    "print(sum_numbers(1, 2, 3))  # 输出 6\n",
    "print(sum_numbers(10, 20, 30, 40))  # 输出 100"
   ],
   "id": "f9cbc4b1dc84d7a6",
   "outputs": [
    {
     "name": "stdout",
     "output_type": "stream",
     "text": [
      "6\n",
      "100\n"
     ]
    }
   ],
   "execution_count": 27
  },
  {
   "metadata": {},
   "cell_type": "markdown",
   "source": "### **kwargs（接收任意数量的关键字参数）",
   "id": "f4e9b90adf2cf373"
  },
  {
   "metadata": {
    "ExecuteTime": {
     "end_time": "2025-04-07T09:43:11.624830Z",
     "start_time": "2025-04-07T09:43:11.619615Z"
    }
   },
   "cell_type": "code",
   "source": [
    "def print_user_info(**kwargs):\n",
    "    for key, value in kwargs.items():\n",
    "        print(f\"{key}: {value}\")\n",
    "\n",
    "\n",
    "print_user_info(name=\"Lucky\", age=21, city=\"Linyi\")\n",
    "# 输出:\n",
    "# name: Lucky\n",
    "# age: 21\n",
    "# city: Linyi"
   ],
   "id": "9318fea9add07b25",
   "outputs": [
    {
     "name": "stdout",
     "output_type": "stream",
     "text": [
      "name: Lucky\n",
      "age: 21\n",
      "city: Linyi\n"
     ]
    }
   ],
   "execution_count": 28
  },
  {
   "metadata": {},
   "cell_type": "markdown",
   "source": "### 混合使用 *args 和 **kwargs",
   "id": "853706bfbdacce13"
  },
  {
   "metadata": {
    "ExecuteTime": {
     "end_time": "2025-04-07T09:43:11.662347Z",
     "start_time": "2025-04-07T09:43:11.656346Z"
    }
   },
   "cell_type": "code",
   "source": [
    "def example_function(a, b, *args, **kwargs):\n",
    "    print(f\"固定参数: {a}, {b}\")\n",
    "    print(f\"*args: {args}\")\n",
    "    print(f\"**kwargs: {kwargs}\")\n",
    "\n",
    "\n",
    "example_function(1, 2, 3, 4, 5, name=\"Bob\", age=25)\n",
    "# 输出:\n",
    "# 固定参数: 1, 2\n",
    "# *args: (3, 4, 5)\n",
    "# **kwargs: {'name': 'Bob', 'age': 25}"
   ],
   "id": "2ed7416362b8122a",
   "outputs": [
    {
     "name": "stdout",
     "output_type": "stream",
     "text": [
      "固定参数: 1, 2\n",
      "*args: (3, 4, 5)\n",
      "**kwargs: {'name': 'Bob', 'age': 25}\n"
     ]
    }
   ],
   "execution_count": 29
  },
  {
   "metadata": {},
   "cell_type": "markdown",
   "source": [
    "## 进阶用法\n",
    "### 解包参数（在调用函数时使用 * 和 **）"
   ],
   "id": "8d4f9deb483794f8"
  },
  {
   "metadata": {
    "ExecuteTime": {
     "end_time": "2025-04-07T09:43:11.693861Z",
     "start_time": "2025-04-07T09:43:11.690348Z"
    }
   },
   "cell_type": "code",
   "source": [
    "def func(a, b, c):\n",
    "    print(a, b, c)\n",
    "\n",
    "\n",
    "# 使用列表/元组解包为位置参数\n",
    "args_list = [1, 2, 3]\n",
    "func(*args_list)  # 输出 1 2 3\n",
    "\n",
    "# 使用字典解包为关键字参数\n",
    "kwargs_dict = {\"a\": 10, \"b\": 20, \"c\": 30}\n",
    "func(**kwargs_dict)  # 输出 10 20 30"
   ],
   "id": "5affb62794de5e15",
   "outputs": [
    {
     "name": "stdout",
     "output_type": "stream",
     "text": [
      "1 2 3\n",
      "10 20 30\n"
     ]
    }
   ],
   "execution_count": 30
  },
  {
   "metadata": {},
   "cell_type": "markdown",
   "source": "### 动态生成参数",
   "id": "5d0d654af30924"
  },
  {
   "metadata": {
    "ExecuteTime": {
     "end_time": "2025-04-07T09:43:11.727862Z",
     "start_time": "2025-04-07T09:43:11.723863Z"
    }
   },
   "cell_type": "code",
   "source": [
    "def dynamic_args_example(*args, **kwargs):\n",
    "    print(\"位置参数:\", args)\n",
    "    print(\"关键字参数:\", kwargs)\n",
    "\n",
    "\n",
    "dynamic_args_example(*(i for i in range(3)), **{\"x\": 100, \"y\": 200})\n",
    "# 输出:\n",
    "# 位置参数: (0, 1, 2)\n",
    "# 关键字参数: {'x': 100, 'y': 200}"
   ],
   "id": "eeaaa7c0b1eebeef",
   "outputs": [
    {
     "name": "stdout",
     "output_type": "stream",
     "text": [
      "位置参数: (0, 1, 2)\n",
      "关键字参数: {'x': 100, 'y': 200}\n"
     ]
    }
   ],
   "execution_count": 31
  },
  {
   "metadata": {},
   "cell_type": "markdown",
   "source": "### 在类中使用 *args 和 **kwargs",
   "id": "384a071960fa0c15"
  },
  {
   "metadata": {
    "ExecuteTime": {
     "end_time": "2025-04-07T09:43:11.772148Z",
     "start_time": "2025-04-07T09:43:11.766860Z"
    }
   },
   "cell_type": "code",
   "source": [
    "class MyClass:\n",
    "    def __init__(self, *args, **kwargs):\n",
    "        self.args = args\n",
    "        self.kwargs = kwargs\n",
    "\n",
    "\n",
    "obj = MyClass(1, 2, 3, name=\"Charlie\", value=42)\n",
    "print(obj.args)  # 输出 (1, 2, 3)\n",
    "print(obj.kwargs)  # 输出 {'name': 'Charlie', 'value': 42}"
   ],
   "id": "917c1b40ec00777a",
   "outputs": [
    {
     "name": "stdout",
     "output_type": "stream",
     "text": [
      "(1, 2, 3)\n",
      "{'name': 'Charlie', 'value': 42}\n"
     ]
    }
   ],
   "execution_count": 32
  },
  {
   "metadata": {},
   "cell_type": "markdown",
   "source": "### 参数校验与过滤",
   "id": "4415c372c03589ba"
  },
  {
   "metadata": {
    "ExecuteTime": {
     "end_time": "2025-04-07T09:43:12.447902Z",
     "start_time": "2025-04-07T09:43:11.825363Z"
    }
   },
   "cell_type": "code",
   "source": [
    "def validate_args(*args, **kwargs):\n",
    "    if not args:\n",
    "        raise ValueError(\"至少需要一个位置参数！\")\n",
    "    if \"name\" not in kwargs:\n",
    "        raise KeyError(\"缺少关键字参数 'name'\")\n",
    "    print(\"校验通过\")\n",
    "\n",
    "\n",
    "validate_args(1, 2, name=\"Alice\")  # 正常\n",
    "validate_args(name=\"Bob\")  # 报错：缺少位置参数\n",
    "validate_args(1, 2)  # 报错：缺少关键字参数 'name'"
   ],
   "id": "c5be654c3346b4d2",
   "outputs": [
    {
     "name": "stdout",
     "output_type": "stream",
     "text": [
      "校验通过\n"
     ]
    },
    {
     "ename": "ValueError",
     "evalue": "至少需要一个位置参数！",
     "output_type": "error",
     "traceback": [
      "\u001B[1;31m---------------------------------------------------------------------------\u001B[0m",
      "\u001B[1;31mValueError\u001B[0m                                Traceback (most recent call last)",
      "Cell \u001B[1;32mIn[33], line 10\u001B[0m\n\u001B[0;32m      6\u001B[0m     \u001B[38;5;28mprint\u001B[39m(\u001B[38;5;124m\"\u001B[39m\u001B[38;5;124m校验通过\u001B[39m\u001B[38;5;124m\"\u001B[39m)\n\u001B[0;32m      9\u001B[0m validate_args(\u001B[38;5;241m1\u001B[39m, \u001B[38;5;241m2\u001B[39m, name\u001B[38;5;241m=\u001B[39m\u001B[38;5;124m\"\u001B[39m\u001B[38;5;124mAlice\u001B[39m\u001B[38;5;124m\"\u001B[39m)  \u001B[38;5;66;03m# 正常\u001B[39;00m\n\u001B[1;32m---> 10\u001B[0m \u001B[43mvalidate_args\u001B[49m\u001B[43m(\u001B[49m\u001B[43mname\u001B[49m\u001B[38;5;241;43m=\u001B[39;49m\u001B[38;5;124;43m\"\u001B[39;49m\u001B[38;5;124;43mBob\u001B[39;49m\u001B[38;5;124;43m\"\u001B[39;49m\u001B[43m)\u001B[49m  \u001B[38;5;66;03m# 报错：缺少位置参数\u001B[39;00m\n\u001B[0;32m     11\u001B[0m validate_args(\u001B[38;5;241m1\u001B[39m, \u001B[38;5;241m2\u001B[39m)\n",
      "Cell \u001B[1;32mIn[33], line 3\u001B[0m, in \u001B[0;36mvalidate_args\u001B[1;34m(*args, **kwargs)\u001B[0m\n\u001B[0;32m      1\u001B[0m \u001B[38;5;28;01mdef\u001B[39;00m \u001B[38;5;21mvalidate_args\u001B[39m(\u001B[38;5;241m*\u001B[39margs, \u001B[38;5;241m*\u001B[39m\u001B[38;5;241m*\u001B[39mkwargs):\n\u001B[0;32m      2\u001B[0m     \u001B[38;5;28;01mif\u001B[39;00m \u001B[38;5;129;01mnot\u001B[39;00m args:\n\u001B[1;32m----> 3\u001B[0m         \u001B[38;5;28;01mraise\u001B[39;00m \u001B[38;5;167;01mValueError\u001B[39;00m(\u001B[38;5;124m\"\u001B[39m\u001B[38;5;124m至少需要一个位置参数！\u001B[39m\u001B[38;5;124m\"\u001B[39m)\n\u001B[0;32m      4\u001B[0m     \u001B[38;5;28;01mif\u001B[39;00m \u001B[38;5;124m\"\u001B[39m\u001B[38;5;124mname\u001B[39m\u001B[38;5;124m\"\u001B[39m \u001B[38;5;129;01mnot\u001B[39;00m \u001B[38;5;129;01min\u001B[39;00m kwargs:\n\u001B[0;32m      5\u001B[0m         \u001B[38;5;28;01mraise\u001B[39;00m \u001B[38;5;167;01mKeyError\u001B[39;00m(\u001B[38;5;124m\"\u001B[39m\u001B[38;5;124m缺少关键字参数 \u001B[39m\u001B[38;5;124m'\u001B[39m\u001B[38;5;124mname\u001B[39m\u001B[38;5;124m'\u001B[39m\u001B[38;5;124m\"\u001B[39m)\n",
      "\u001B[1;31mValueError\u001B[0m: 至少需要一个位置参数！"
     ]
    }
   ],
   "execution_count": 33
  },
  {
   "metadata": {},
   "cell_type": "markdown",
   "source": [
    "#  函数式编程\n",
    "## 高阶函数"
   ],
   "id": "b8f15cce9f3ddd0c"
  },
  {
   "metadata": {
    "ExecuteTime": {
     "end_time": "2025-04-07T09:43:12.458900500Z",
     "start_time": "2025-02-15T02:48:18.127201Z"
    }
   },
   "cell_type": "code",
   "source": [
    "# (1) 函数作为参数\n",
    "def apply_operation(func, a, b):\n",
    "    return func(a, b)\n",
    "\n",
    "\n",
    "def multiply(x, y):\n",
    "    return x * y\n",
    "\n",
    "\n",
    "print(apply_operation(multiply, 3, 4))  # 输出 12"
   ],
   "id": "822a90d6b17afba6",
   "outputs": [
    {
     "name": "stdout",
     "output_type": "stream",
     "text": [
      "12\n"
     ]
    }
   ],
   "execution_count": 1
  },
  {
   "metadata": {},
   "cell_type": "markdown",
   "source": "map()函数接收两个参数，一个是函数，一个是Iterable，map将传入的函数依次作用到序列的每个元素，并把结果作为新的Iterator返回。",
   "id": "50baa9f8ecdbf96f"
  },
  {
   "metadata": {
    "ExecuteTime": {
     "end_time": "2025-04-07T09:43:12.464900200Z",
     "start_time": "2025-04-07T08:50:41.781349Z"
    }
   },
   "cell_type": "code",
   "source": [
    "def f(x):\n",
    "    return x * x\n",
    "\n",
    "\n",
    "r = map(f, [1, 2, 3, 4])  # Iterator\n",
    "print(type(r))  # 输出 <class 'map'>\n",
    "\n",
    "list(r)"
   ],
   "id": "2f652c7ac8a6c34f",
   "outputs": [
    {
     "name": "stdout",
     "output_type": "stream",
     "text": [
      "<class 'map'>\n"
     ]
    },
    {
     "data": {
      "text/plain": [
       "[1, 4, 9, 16]"
      ]
     },
     "execution_count": 5,
     "metadata": {},
     "output_type": "execute_result"
    }
   ],
   "execution_count": 5
  },
  {
   "metadata": {
    "ExecuteTime": {
     "end_time": "2025-04-07T09:43:12.479208600Z",
     "start_time": "2025-04-07T08:52:10.634946Z"
    }
   },
   "cell_type": "code",
   "source": [
    "l = [1, 2, 3, 4, 5, 6, 7, 8, 9]\n",
    "print(l)\n",
    "l = list(map(str, l))\n",
    "print(l)  # 输出 ['1', '2', '3', '4', '5', '6', '7', '8', '9']"
   ],
   "id": "bcbca5002e2118f8",
   "outputs": [
    {
     "name": "stdout",
     "output_type": "stream",
     "text": [
      "[1, 2, 3, 4, 5, 6, 7, 8, 9]\n",
      "['1', '2', '3', '4', '5', '6', '7', '8', '9']\n"
     ]
    }
   ],
   "execution_count": 9
  },
  {
   "metadata": {},
   "cell_type": "markdown",
   "source": [
    "reduce把一个函数作用在一个序列[x1, x2, x3, ...]上，这个函数必须接收两个参数，reduce把结果继续和序列的下一个元素做累积计算，其效果就是：\n",
    "\n",
    "reduce(f, [x1, x2, x3, x4]) = f(f(f(x1, x2), x3), x4)\n"
   ],
   "id": "2010b8cf22c4e69c"
  },
  {
   "metadata": {
    "ExecuteTime": {
     "end_time": "2025-04-07T09:43:12.481212100Z",
     "start_time": "2025-04-07T08:55:14.105583Z"
    }
   },
   "cell_type": "code",
   "source": [
    "from functools import reduce\n",
    "\n",
    "\n",
    "def fn(x, y):\n",
    "    return x * 10 + y\n",
    "\n",
    "\n",
    "print(reduce(fn, [1, 3, 5, 7, 9]))  # 输出 13579"
   ],
   "id": "dd43f5f9fed4e96a",
   "outputs": [
    {
     "name": "stdout",
     "output_type": "stream",
     "text": [
      "13579\n"
     ]
    }
   ],
   "execution_count": 10
  },
  {
   "metadata": {
    "ExecuteTime": {
     "end_time": "2025-04-07T09:43:12.483212400Z",
     "start_time": "2025-04-07T08:56:59.292869Z"
    }
   },
   "cell_type": "code",
   "source": [
    "from functools import reduce\n",
    "\n",
    "\n",
    "def fn(x, y):\n",
    "    return x * 10 + y\n",
    "\n",
    "\n",
    "def char2num(s):\n",
    "    digits = {\"0\": 0, \"1\": 1, \"2\": 2, \"3\": 3, \"4\": 4, \"5\": 5, \"6\": 6, \"7\": 7, \"8\": 8, \"9\": 9}\n",
    "    return digits[s]\n",
    "\n",
    "\n",
    "reduce(fn, map(char2num, \"13579\"))  # 输出 13579"
   ],
   "id": "984ce5771754b1b3",
   "outputs": [
    {
     "data": {
      "text/plain": [
       "13579"
      ]
     },
     "execution_count": 11,
     "metadata": {},
     "output_type": "execute_result"
    }
   ],
   "execution_count": 11
  },
  {
   "metadata": {
    "ExecuteTime": {
     "end_time": "2025-04-07T09:43:12.484212500Z",
     "start_time": "2025-04-07T08:59:35.381976Z"
    }
   },
   "cell_type": "code",
   "source": [
    "# 利用map()函数，把用户输入的不规范的英文名字，变为首字母大写，其他小写的规范名字。\n",
    "# 输入：['adam', 'LISA', 'barT']\n",
    "# 输出：['Adam', 'Lisa', 'Bart']\n",
    "def normalize(name):\n",
    "    name = name.lower()\n",
    "    name = name.title()\n",
    "    return name\n",
    "\n",
    "\n",
    "# 测试:\n",
    "L1 = ['adam', 'LISA', 'barT']\n",
    "L2 = list(map(normalize, L1))\n",
    "print(L2)\n"
   ],
   "id": "47bef51752a268af",
   "outputs": [
    {
     "name": "stdout",
     "output_type": "stream",
     "text": [
      "['Adam', 'Lisa', 'Bart']\n"
     ]
    }
   ],
   "execution_count": 12
  },
  {
   "metadata": {
    "ExecuteTime": {
     "end_time": "2025-04-07T09:43:12.496724200Z",
     "start_time": "2025-04-07T09:02:53.438633Z"
    }
   },
   "cell_type": "code",
   "source": [
    "# Python提供的sum()函数可以接受一个list并求和，请编写一个prod()函数，可以接受一个list并利用reduce()求积\n",
    "from functools import reduce\n",
    "\n",
    "\n",
    "def prod(L):\n",
    "    def multiply(x, y):\n",
    "        return x * y\n",
    "\n",
    "    return reduce(multiply, L)\n",
    "\n",
    "\n",
    "print('3 * 5 * 7 * 9 =', prod([3, 5, 7, 9]))\n",
    "if prod([3, 5, 7, 9]) == 945:\n",
    "    print('测试成功!')\n",
    "else:\n",
    "    print('测试失败!')\n"
   ],
   "id": "28ff9c18c8523ac3",
   "outputs": [
    {
     "name": "stdout",
     "output_type": "stream",
     "text": [
      "3 * 5 * 7 * 9 = 945\n",
      "测试成功!\n"
     ]
    }
   ],
   "execution_count": 13
  },
  {
   "metadata": {
    "ExecuteTime": {
     "end_time": "2025-04-07T09:43:12.498728700Z",
     "start_time": "2025-04-07T09:06:33.972707Z"
    }
   },
   "cell_type": "code",
   "source": [
    "# 利用map和reduce编写一个str2float函数，把字符串'123.456'转换成浮点数123.456：\n",
    "from functools import reduce\n",
    "\n",
    "\n",
    "def str2float(s):\n",
    "    def fn(x, y):\n",
    "        return x * 10 + y\n",
    "\n",
    "    def char2num(s):\n",
    "        digits = {'0': 0, '1': 1, '2': 2, '3': 3, '4': 4, '5': 5, '6': 6, '7': 7, '8': 8, '9': 9}\n",
    "        return digits[s]\n",
    "\n",
    "    # slice s into integer and decimal part\n",
    "    if '.' in s:\n",
    "        integer_part, decimal_part = s.split('.')\n",
    "        integer_part = reduce(fn, map(char2num, integer_part))\n",
    "        decimal_part = reduce(fn, map(char2num, decimal_part)) / (10 ** len(decimal_part))\n",
    "        return integer_part + decimal_part\n",
    "\n",
    "\n",
    "print('str2float(\\'123.456\\') =', str2float('123.456'))\n",
    "if abs(str2float('123.456') - 123.456) < 0.00001:\n",
    "    print('测试成功!')\n",
    "else:\n",
    "    print('测试失败!')\n"
   ],
   "id": "29c184cd95b6fdfa",
   "outputs": [
    {
     "name": "stdout",
     "output_type": "stream",
     "text": [
      "str2float('123.456') = 123.456\n",
      "测试成功!\n"
     ]
    }
   ],
   "execution_count": 14
  },
  {
   "metadata": {},
   "cell_type": "markdown",
   "source": "filter()也接收一个函数和一个序列。和map()不同的是，filter()把传入的函数依次作用于每个元素，然后根据返回值是True还是False决定保留还是丢弃该元素。",
   "id": "13fec1c2aec3fe90"
  },
  {
   "metadata": {
    "ExecuteTime": {
     "end_time": "2025-04-07T09:43:12.502723800Z",
     "start_time": "2025-04-07T09:07:47.750345Z"
    }
   },
   "cell_type": "code",
   "source": [
    "def is_odd(n):\n",
    "    return n % 2 == 1\n",
    "\n",
    "\n",
    "list(filter(is_odd, [1, 2, 3, 4, 5, 6, 7, 8, 9]))"
   ],
   "id": "b45c556289eedc8b",
   "outputs": [
    {
     "data": {
      "text/plain": [
       "[1, 3, 5, 7, 9]"
      ]
     },
     "execution_count": 15,
     "metadata": {},
     "output_type": "execute_result"
    }
   ],
   "execution_count": 15
  },
  {
   "metadata": {
    "ExecuteTime": {
     "end_time": "2025-04-07T09:43:12.503725200Z",
     "start_time": "2025-04-07T09:09:30.474682Z"
    }
   },
   "cell_type": "code",
   "source": [
    "def not_empty(s):\n",
    "    return s and s.strip()\n",
    "\n",
    "\n",
    "list(filter(not_empty, ['A', '', 'B', None, 'C', '  ']))\n",
    "# 结果: ['A', 'B', 'C']\n"
   ],
   "id": "1bb220efd439dccf",
   "outputs": [
    {
     "data": {
      "text/plain": [
       "['A', 'B', 'C']"
      ]
     },
     "execution_count": 16,
     "metadata": {},
     "output_type": "execute_result"
    }
   ],
   "execution_count": 16
  },
  {
   "metadata": {},
   "cell_type": "markdown",
   "source": "sort排序函数",
   "id": "658b28e54655553e"
  },
  {
   "metadata": {
    "ExecuteTime": {
     "end_time": "2025-04-07T09:43:12.505726600Z",
     "start_time": "2025-04-07T09:26:25.274318Z"
    }
   },
   "cell_type": "code",
   "source": "sorted([36, 5, -12, 9, -21])",
   "id": "d2037442f1b42b3a",
   "outputs": [
    {
     "data": {
      "text/plain": [
       "[-21, -12, 5, 9, 36]"
      ]
     },
     "execution_count": 17,
     "metadata": {},
     "output_type": "execute_result"
    }
   ],
   "execution_count": 17
  },
  {
   "metadata": {
    "ExecuteTime": {
     "end_time": "2025-04-07T09:43:12.505726600Z",
     "start_time": "2025-04-07T09:26:47.110755Z"
    }
   },
   "cell_type": "code",
   "source": "sorted(['bob', 'about', 'Zoo', 'Credit'], key=str.lower, reverse=True)\n",
   "id": "3d206694e8eced0",
   "outputs": [
    {
     "data": {
      "text/plain": [
       "['Zoo', 'Credit', 'bob', 'about']"
      ]
     },
     "execution_count": 18,
     "metadata": {},
     "output_type": "execute_result"
    }
   ],
   "execution_count": 18
  },
  {
   "metadata": {},
   "cell_type": "markdown",
   "source": "返回函数",
   "id": "115a427688252b7e"
  },
  {
   "metadata": {},
   "cell_type": "code",
   "outputs": [],
   "execution_count": null,
   "source": [
    "def lazy_sum(*args):\n",
    "    def sum():\n",
    "        ax = 0\n",
    "        for n in args:\n",
    "            ax = ax + n\n",
    "        return ax\n",
    "\n",
    "    return sum\n",
    "\n",
    "\n",
    "f1 = lazy_sum(1, 2, 3, 4, 5)\n",
    "f2 = lazy_sum(1, 2, 3, 4, 5)\n",
    "print(f1 == f2)  # False 每次调用都会返回一个新的函数，即使传入相同的参数"
   ],
   "id": "7d79cedb4b279171"
  },
  {
   "metadata": {},
   "cell_type": "markdown",
   "source": [
    "闭包需要满足 3 个条件：\n",
    "\n",
    "1. 嵌套函数：一个函数（外部函数）内部定义了另一个函数（内部函数）。\n",
    "2. 内部函数引用外部变量：内部函数使用了外部函数的变量（自由变量）。\n",
    "3. 外部函数返回内部函数：外部函数返回这个内部函数，使其可以在外部调用。"
   ],
   "id": "3808f7a4bb34ea42"
  },
  {
   "metadata": {
    "ExecuteTime": {
     "end_time": "2025-04-07T09:43:12.505726600Z",
     "start_time": "2025-04-07T09:41:30.322195Z"
    }
   },
   "cell_type": "code",
   "source": [
    "def lazy_sum(*args):  # 外部函数\n",
    "    def sum():  # 内部函数\n",
    "        ax = 0\n",
    "        for n in args:  # 引用了外部函数的 args\n",
    "            ax += n\n",
    "        return ax\n",
    "\n",
    "    return sum  # 返回内部函数（闭包）\n",
    "\n",
    "\n",
    "f = lazy_sum(1, 2, 3)  # 返回 sum 函数，args=(1, 2, 3) 被保存\n",
    "print(f())  # 6\n"
   ],
   "id": "9df601cae511c813",
   "outputs": [
    {
     "name": "stdout",
     "output_type": "stream",
     "text": [
      "6\n"
     ]
    }
   ],
   "execution_count": 19
  },
  {
   "metadata": {
    "ExecuteTime": {
     "end_time": "2025-04-07T09:43:12.506724600Z",
     "start_time": "2025-04-07T09:42:55.653891Z"
    }
   },
   "cell_type": "code",
   "source": [
    "def counter():\n",
    "    count = 0\n",
    "\n",
    "    def inc():  # 内部函数\n",
    "        nonlocal count  # 修改外部变量\n",
    "        count += 1\n",
    "        return count\n",
    "\n",
    "    return inc  # 返回闭包\n",
    "\n",
    "\n",
    "c = counter()\n",
    "print(c())  # 1\n",
    "print(c())  # 2\n",
    "print(c())  # 3\n",
    "\n"
   ],
   "id": "63066804c413704a",
   "outputs": [
    {
     "name": "stdout",
     "output_type": "stream",
     "text": [
      "1\n",
      "2\n",
      "3\n"
     ]
    }
   ],
   "execution_count": 20
  },
  {
   "metadata": {},
   "cell_type": "markdown",
   "source": [
    "闭包特性：\n",
    "1. inc() 记住了 count 变量，每次调用都会修改它。\n",
    "2. count 相当于一个 私有变量，只能通过 inc() 访问。\n",
    "\n",
    "闭包的本质：\n",
    "1. 闭包 = 函数 + 环境（引用的外部变量）。\n",
    "2. Python 通过 __closure__ 属性存储闭包变量："
   ],
   "id": "2d0217905381d685"
  },
  {
   "metadata": {
    "ExecuteTime": {
     "end_time": "2025-04-07T10:00:36.960104Z",
     "start_time": "2025-04-07T10:00:36.954507Z"
    }
   },
   "cell_type": "code",
   "source": [
    "def count():\n",
    "    fs = []\n",
    "    for i in range(1, 4):\n",
    "        def f():\n",
    "            return i * i\n",
    "\n",
    "        fs.append(f)\n",
    "    return fs\n",
    "\n",
    "\n",
    "print(count())\n",
    "\n",
    "f1, f2, f3 = count()\n",
    "print(f1())  # 输出 9\n",
    "print(f2())  # 输出 9\n",
    "print(f3())  # 输出 9\n",
    "# 返回的函数引用了变量i，但它并非立刻执行。等到3个函数都返回时，它们所引用的变量i已经变成了3，因此最终结果为9。"
   ],
   "id": "5f3551991429b086",
   "outputs": [
    {
     "name": "stdout",
     "output_type": "stream",
     "text": [
      "[<function count.<locals>.f at 0x0000018927B5EB90>, <function count.<locals>.f at 0x0000018927D8FC70>, <function count.<locals>.f at 0x000001892976F910>]\n",
      "9\n",
      "9\n",
      "9\n"
     ]
    }
   ],
   "execution_count": 10
  },
  {
   "metadata": {
    "ExecuteTime": {
     "end_time": "2025-04-07T09:53:11.297022Z",
     "start_time": "2025-04-07T09:53:11.292052Z"
    }
   },
   "cell_type": "code",
   "source": [
    "# 再创建一个函数，用该函数的参数绑定循环变量当前的值，无论该循环变量后续如何更改，已绑定到函数参数的值不变：\n",
    "def count():\n",
    "    def f(j):\n",
    "        def g():\n",
    "            return j * j\n",
    "\n",
    "        return g\n",
    "\n",
    "    fs = []\n",
    "    for i in range(1, 4):\n",
    "        fs.append(f(i))  # f(i)立刻被执行，因此i的当前值被传入f()\n",
    "    return fs\n",
    "\n",
    "\n",
    "f1, f2, f3 = count()\n",
    "print(f1())  # 输出 1\n",
    "print(f2())  # 输出 4\n",
    "print(f3())  # 输出 9\n"
   ],
   "id": "acdb123f5ac1af09",
   "outputs": [
    {
     "data": {
      "text/plain": [
       "{}"
      ]
     },
     "execution_count": 7,
     "metadata": {},
     "output_type": "execute_result"
    }
   ],
   "execution_count": 7
  },
  {
   "metadata": {},
   "cell_type": "markdown",
   "source": [
    "### Lambda 函数\n",
    "* lambda 表达式（匿名函数）：一种无需命名的小型函数，用于简化简单逻辑的代码。\n",
    "\n",
    "* 语法：lambda 参数列表: 表达式\n",
    "\n",
    "* 特点：\n",
    "\n",
    "    * 没有 return 语句，表达式的结果自动作为返回值。\n",
    "\n",
    "    * 只能包含单个表达式，不能包含复杂逻辑（如循环、多行代码）。"
   ],
   "id": "4c93053d7c9df977"
  },
  {
   "metadata": {
    "ExecuteTime": {
     "end_time": "2025-04-07T10:11:07.326534Z",
     "start_time": "2025-04-07T10:11:07.322021Z"
    }
   },
   "cell_type": "code",
   "outputs": [
    {
     "name": "stdout",
     "output_type": "stream",
     "text": [
      "[1, 3, 5, 7, 9, 11, 13, 15, 17, 19]\n",
      "[1, 3, 5, 7, 9, 11, 13, 15, 17, 19]\n"
     ]
    }
   ],
   "execution_count": 12,
   "source": [
    "def is_odd(n):\n",
    "    return n % 2 == 1\n",
    "\n",
    "\n",
    "L = list(filter(is_odd, range(1, 20)))\n",
    "print(L)\n",
    "L = list(filter(lambda x: x % 2 == 1, range(1, 20)))\n",
    "\n",
    "\n",
    "print(L)\n"
   ],
   "id": "f16846849d84ca5e"
  },
  {
   "metadata": {
    "ExecuteTime": {
     "end_time": "2025-04-07T09:43:12.522730100Z",
     "start_time": "2025-02-15T10:59:29.981965Z"
    }
   },
   "cell_type": "code",
   "source": [
    "# 普通函数\n",
    "def add(a, b):\n",
    "    return a + b\n",
    "\n",
    "\n",
    "# lambda 表达式\n",
    "add_lambda = lambda a, b: a + b\n",
    "\n",
    "print(add(3, 5))  # 输出 8\n",
    "print(add_lambda(3, 5))  # 输出 8"
   ],
   "id": "d67433bd74b27835",
   "outputs": [
    {
     "name": "stdout",
     "output_type": "stream",
     "text": [
      "8\n",
      "8\n"
     ]
    }
   ],
   "execution_count": 2
  },
  {
   "metadata": {
    "ExecuteTime": {
     "end_time": "2025-04-07T09:43:12.524730Z",
     "start_time": "2025-02-16T10:17:51.485601Z"
    }
   },
   "cell_type": "code",
   "source": [
    "# 无参数lambda表达式\n",
    "greet = lambda: \"Hello, World!\"\n",
    "print(greet())  # 输出: Hello, World!\n",
    "\n",
    "# 默认参数lambda表达式\n",
    "power = lambda x, n=2: x ** n\n",
    "print(power(3))  # 输出 9 (默认 n=2)\n",
    "print(power(3, n=4))  # 输出 81"
   ],
   "id": "2edb6f8622a531da",
   "outputs": [
    {
     "name": "stdout",
     "output_type": "stream",
     "text": [
      "Hello, World!\n",
      "9\n",
      "81\n"
     ]
    }
   ],
   "execution_count": 13
  },
  {
   "metadata": {
    "ExecuteTime": {
     "end_time": "2025-04-07T09:43:12.527245Z",
     "start_time": "2025-02-16T10:19:02.750414Z"
    }
   },
   "cell_type": "code",
   "source": [
    "# 作为函数参数传递\n",
    "def operate(func, a, b):\n",
    "    return func(a, b)\n",
    "\n",
    "\n",
    "result = operate(lambda x, y: x * y, 5, 6)\n",
    "print(result)  # 输出 30"
   ],
   "id": "caff1d9b49eeab99",
   "outputs": [
    {
     "name": "stdout",
     "output_type": "stream",
     "text": [
      "30\n"
     ]
    }
   ],
   "execution_count": 14
  },
  {
   "metadata": {
    "ExecuteTime": {
     "end_time": "2025-04-07T09:43:12.528243700Z",
     "start_time": "2025-02-16T10:21:34.502586Z"
    }
   },
   "cell_type": "code",
   "source": [
    "# 闭包与变量捕获\n",
    "def create_multiplier(n):\n",
    "    return lambda x: x * n\n",
    "\n",
    "\n",
    "double = create_multiplier(2)\n",
    "triple = create_multiplier(3)\n",
    "\n",
    "print(double(5))  # 输出 10\n",
    "print(triple(5))  # 输出 15\n",
    "\n",
    "# 条件逻辑（结合三元运算符）\n",
    "# 判断奇偶\n",
    "is_even = lambda x: \"偶数\" if x % 2 == 0 else \"奇数\"\n",
    "print(is_even(4))  # 输出 \"偶数\"\n",
    "print(is_even(7))  # 输出 \"奇数\""
   ],
   "id": "58b51f330220109e",
   "outputs": [
    {
     "name": "stdout",
     "output_type": "stream",
     "text": [
      "10\n",
      "15\n",
      "偶数\n",
      "偶数\n"
     ]
    }
   ],
   "execution_count": 18
  },
  {
   "metadata": {
    "ExecuteTime": {
     "end_time": "2025-04-07T09:43:12.529245200Z",
     "start_time": "2025-02-16T10:19:32.160178Z"
    }
   },
   "cell_type": "code",
   "source": [
    "# 快速生成函数字典\n",
    "operations = {\n",
    "    \"add\": lambda a, b: a + b,\n",
    "    \"subtract\": lambda a, b: a - b,\n",
    "    \"multiply\": lambda a, b: a * b\n",
    "}\n",
    "\n",
    "print(operations[\"add\"](10, 5))  # 输出 15\n",
    "print(operations[\"multiply\"](3, 4))  # 输出 12"
   ],
   "id": "e2ae56c56243897c",
   "outputs": [
    {
     "name": "stdout",
     "output_type": "stream",
     "text": [
      "15\n",
      "12\n"
     ]
    }
   ],
   "execution_count": 15
  },
  {
   "metadata": {},
   "cell_type": "markdown",
   "source": [
    "## 装饰器\n",
    "装饰器本质：一个接受函数作为参数、返回新函数的高阶函数。\n",
    "\n",
    "语法糖：@decorator 等价于 func = decorator(func)。\n",
    "\n",
    "用途：在不修改原函数代码的前提下，增强其功能（如日志、计时、权限校验）。\n",
    "\n",
    "在 Python 装饰器中，嵌套一个 wrapper 函数是装饰器实现的核心机制。它的作用是包装原函数，从而在不修改原函数代码的前提下，增强其功能。\n",
    "\n",
    "**语法糖（Syntactic sugar）**，也译为糖衣语法，是由英国计算机科学家彼得·约翰·兰达（Peter J. Landin）发明的一个术语，指计算机语言中添加的某种语法，这种语法对语言的功能并没有影响，但是更方便程序员使用。 通常来说使用语法糖能够增加程序的可读性，从而减少程序代码出错的机会。"
   ],
   "id": "1267489c469da0af"
  },
  {
   "metadata": {
    "ExecuteTime": {
     "end_time": "2025-04-07T11:37:46.694088Z",
     "start_time": "2025-04-07T11:37:46.687052Z"
    }
   },
   "cell_type": "code",
   "source": [
    "def my_decorator(func):\n",
    "    def wrapper():\n",
    "        print(\"装饰器：函数执行前\")\n",
    "        func()  # 调用原函数\n",
    "        print(\"装饰器：函数执行后\")\n",
    "\n",
    "    return wrapper\n",
    "\n",
    "\n",
    "@my_decorator\n",
    "def say_hello():\n",
    "    print(\"Hello!\")\n",
    "\n",
    "\n",
    "say_hello()\n",
    "# 输出：\n",
    "# 装饰器：函数执行前\n",
    "# Hello!\n",
    "# 装饰器：函数执行后\n",
    "\n",
    "# 相当于\n",
    "my_decorator(say_hello())"
   ],
   "id": "91c40617844a8453",
   "outputs": [
    {
     "name": "stdout",
     "output_type": "stream",
     "text": [
      "装饰器：函数执行前\n",
      "Hello!\n",
      "装饰器：函数执行后\n",
      "装饰器：函数执行前\n",
      "Hello!\n",
      "装饰器：函数执行后\n"
     ]
    },
    {
     "data": {
      "text/plain": [
       "<function __main__.my_decorator.<locals>.wrapper()>"
      ]
     },
     "execution_count": 14,
     "metadata": {},
     "output_type": "execute_result"
    }
   ],
   "execution_count": 14
  },
  {
   "metadata": {
    "ExecuteTime": {
     "end_time": "2025-04-07T11:57:08.150349Z",
     "start_time": "2025-04-07T11:57:08.146005Z"
    }
   },
   "cell_type": "code",
   "source": [
    "def decorator_with_args(func):\n",
    "    def wrapper(*args, **kwargs):\n",
    "        print(\"装饰器：准备执行函数\")\n",
    "        result = func(*args, **kwargs)  # 传递所有参数\n",
    "        print(\"装饰器：函数执行完毕\")\n",
    "        return result\n",
    "\n",
    "    return wrapper\n",
    "\n",
    "\n",
    "@decorator_with_args\n",
    "def add(a, b):\n",
    "    return a + b\n",
    "\n",
    "\n",
    "print(add(3, 5))  # 输出装饰器日志 + 8"
   ],
   "id": "ac3194c0ee749594",
   "outputs": [
    {
     "name": "stdout",
     "output_type": "stream",
     "text": [
      "装饰器：准备执行函数\n",
      "装饰器：函数执行完毕\n",
      "8\n"
     ]
    }
   ],
   "execution_count": 16
  },
  {
   "metadata": {
    "ExecuteTime": {
     "end_time": "2025-04-07T12:15:40.102375Z",
     "start_time": "2025-04-07T12:15:40.098373Z"
    }
   },
   "cell_type": "code",
   "source": [
    "# 保留原函数信息\n",
    "# 问题：直接使用装饰器会导致原函数的元信息（如 __name__）被掩盖, 有些依赖函数签名的代码执行就会出错。\n",
    "# 在定义wrapper()的前面加上@functools.wraps(func)即可。\n",
    "# 解决：使用 functools.wraps\n",
    "\n",
    "import functools\n",
    "def preserve_metadata(func):\n",
    "    @functools.wraps(func)  # 保留原函数属性\n",
    "    def wrapper(*args, **kwargs):\n",
    "        return func(*args, **kwargs)\n",
    "\n",
    "    return wrapper\n",
    "\n",
    "\n",
    "@preserve_metadata\n",
    "def example():\n",
    "    \"\"\"示例函数的文档字符串\"\"\"\n",
    "    pass\n",
    "\n",
    "\n",
    "print(example.__name__)  # 输出 \"example\"（而不是 \"wrapper\"）\n",
    "print(example.__doc__)  # 输出 \"示例函数的文档字符串\""
   ],
   "id": "bfda17157b26561a",
   "outputs": [
    {
     "name": "stdout",
     "output_type": "stream",
     "text": [
      "example\n",
      "示例函数的文档字符串\n"
     ]
    }
   ],
   "execution_count": 22
  },
  {
   "metadata": {
    "ExecuteTime": {
     "end_time": "2025-04-07T12:10:04.399441Z",
     "start_time": "2025-04-07T12:10:04.360551Z"
    }
   },
   "cell_type": "code",
   "source": [
    "# 带参数的装饰器\n",
    "# 场景：装饰器本身需要接受参数（如配置日志级别）。\n",
    "def repeat(n_times):\n",
    "    \"\"\"重复执行函数 n 次的装饰器工厂\"\"\"\n",
    "\n",
    "    def decorator(func):\n",
    "        @wraps(func)\n",
    "        def wrapper(*args, **kwargs):\n",
    "            for _ in range(n_times):\n",
    "                result = func(*args, **kwargs)\n",
    "            return result  # 返回最后一次结果\n",
    "\n",
    "        return wrapper\n",
    "\n",
    "    return decorator\n",
    "\n",
    "\n",
    "@repeat(n_times=3)\n",
    "def greet(name):\n",
    "    print(f\"Hello, {name}!\")\n",
    "\n",
    "\n",
    "greet(\"Alice\")\n",
    "# 输出 3 次 \"Hello, Alice!\""
   ],
   "id": "de6eb73b22e33e33",
   "outputs": [
    {
     "ename": "NameError",
     "evalue": "name 'wraps' is not defined",
     "output_type": "error",
     "traceback": [
      "\u001B[1;31m---------------------------------------------------------------------------\u001B[0m",
      "\u001B[1;31mNameError\u001B[0m                                 Traceback (most recent call last)",
      "Cell \u001B[1;32mIn[17], line 19\u001B[0m\n\u001B[0;32m     13\u001B[0m         \u001B[38;5;28;01mreturn\u001B[39;00m wrapper\n\u001B[0;32m     15\u001B[0m     \u001B[38;5;28;01mreturn\u001B[39;00m decorator\n\u001B[0;32m     18\u001B[0m \u001B[38;5;129;43m@repeat\u001B[39;49m\u001B[43m(\u001B[49m\u001B[43mn_times\u001B[49m\u001B[38;5;241;43m=\u001B[39;49m\u001B[38;5;241;43m3\u001B[39;49m\u001B[43m)\u001B[49m\n\u001B[1;32m---> 19\u001B[0m \u001B[38;5;28;43;01mdef\u001B[39;49;00m\u001B[43m \u001B[49m\u001B[38;5;21;43mgreet\u001B[39;49m\u001B[43m(\u001B[49m\u001B[43mname\u001B[49m\u001B[43m)\u001B[49m\u001B[43m:\u001B[49m\n\u001B[0;32m     20\u001B[0m \u001B[43m    \u001B[49m\u001B[38;5;28;43mprint\u001B[39;49m\u001B[43m(\u001B[49m\u001B[38;5;124;43mf\u001B[39;49m\u001B[38;5;124;43m\"\u001B[39;49m\u001B[38;5;124;43mHello, \u001B[39;49m\u001B[38;5;132;43;01m{\u001B[39;49;00m\u001B[43mname\u001B[49m\u001B[38;5;132;43;01m}\u001B[39;49;00m\u001B[38;5;124;43m!\u001B[39;49m\u001B[38;5;124;43m\"\u001B[39;49m\u001B[43m)\u001B[49m\n\u001B[0;32m     23\u001B[0m greet(\u001B[38;5;124m\"\u001B[39m\u001B[38;5;124mAlice\u001B[39m\u001B[38;5;124m\"\u001B[39m)\n",
      "Cell \u001B[1;32mIn[17], line 7\u001B[0m, in \u001B[0;36mrepeat.<locals>.decorator\u001B[1;34m(func)\u001B[0m\n\u001B[0;32m      6\u001B[0m \u001B[38;5;28;01mdef\u001B[39;00m \u001B[38;5;21mdecorator\u001B[39m(func):\n\u001B[1;32m----> 7\u001B[0m     \u001B[38;5;129m@wraps\u001B[39m(func)\n\u001B[0;32m      8\u001B[0m     \u001B[38;5;28;01mdef\u001B[39;00m \u001B[38;5;21mwrapper\u001B[39m(\u001B[38;5;241m*\u001B[39margs, \u001B[38;5;241m*\u001B[39m\u001B[38;5;241m*\u001B[39mkwargs):\n\u001B[0;32m      9\u001B[0m         \u001B[38;5;28;01mfor\u001B[39;00m _ \u001B[38;5;129;01min\u001B[39;00m \u001B[38;5;28mrange\u001B[39m(n_times):\n\u001B[0;32m     10\u001B[0m             result \u001B[38;5;241m=\u001B[39m func(\u001B[38;5;241m*\u001B[39margs, \u001B[38;5;241m*\u001B[39m\u001B[38;5;241m*\u001B[39mkwargs)\n",
      "\u001B[1;31mNameError\u001B[0m: name 'wraps' is not defined"
     ]
    }
   ],
   "execution_count": 17
  },
  {
   "metadata": {
    "ExecuteTime": {
     "end_time": "2025-04-07T09:43:12.513730Z",
     "start_time": "2025-02-15T04:05:05.537480Z"
    }
   },
   "cell_type": "code",
   "outputs": [
    {
     "name": "stdout",
     "output_type": "stream",
     "text": [
      "函数 say_hi 被调用了 1 次\n",
      "Hi!\n",
      "函数 say_hi 被调用了 2 次\n",
      "Hi!\n"
     ]
    }
   ],
   "execution_count": 7,
   "source": [
    "# 类装饰器\n",
    "# 用途：用类实现装饰器（适合需要维护状态的场景）。\n",
    "class CountCalls:\n",
    "    def __init__(self, func):\n",
    "        self.func = func\n",
    "        self.call_count = 0\n",
    "\n",
    "    def __call__(self, *args, **kwargs):\n",
    "        self.call_count += 1\n",
    "        print(f\"函数 {self.func.__name__} 被调用了 {self.call_count} 次\")\n",
    "        return self.func(*args, **kwargs)\n",
    "\n",
    "\n",
    "@CountCalls\n",
    "def say_hi():\n",
    "    print(\"Hi!\")\n",
    "\n",
    "\n",
    "say_hi()  # 输出调用次数 + \"Hi!\"\n",
    "say_hi()  # 调用次数递增"
   ],
   "id": "45341d17a06311cf"
  },
  {
   "metadata": {
    "ExecuteTime": {
     "end_time": "2025-04-07T09:43:12.514729500Z",
     "start_time": "2025-02-15T04:06:17.051102Z"
    }
   },
   "cell_type": "code",
   "outputs": [
    {
     "name": "stdout",
     "output_type": "stream",
     "text": [
      "Decorator 1 前\n",
      "Decorator 2 前\n",
      "目标函数\n",
      "Decorator 2 后\n",
      "Decorator 1 后\n"
     ]
    }
   ],
   "execution_count": 8,
   "source": [
    "# 装饰器的嵌套与顺序\n",
    "# 规则：装饰器从下往上应用，但执行时从上往下运行。\n",
    "def decorator1(func):\n",
    "    @wraps(func)\n",
    "    def wrapper():\n",
    "        print(\"Decorator 1 前\")\n",
    "        func()\n",
    "        print(\"Decorator 1 后\")\n",
    "\n",
    "    return wrapper\n",
    "\n",
    "\n",
    "def decorator2(func):\n",
    "    @wraps(func)\n",
    "    def wrapper():\n",
    "        print(\"Decorator 2 前\")\n",
    "        func()\n",
    "        print(\"Decorator 2 后\")\n",
    "\n",
    "    return wrapper\n",
    "\n",
    "\n",
    "@decorator1\n",
    "@decorator2\n",
    "def target():\n",
    "    print(\"目标函数\")\n",
    "\n",
    "\n",
    "target()\n",
    "# 输出：\n",
    "# Decorator 1 前\n",
    "# Decorator 2 前\n",
    "# 目标函数\n",
    "# Decorator 2 后\n",
    "# Decorator 1 后"
   ],
   "id": "169a927c80d0ac9a"
  },
  {
   "metadata": {
    "ExecuteTime": {
     "end_time": "2025-04-07T09:43:12.516730400Z",
     "start_time": "2025-02-16T10:16:08.439051Z"
    }
   },
   "cell_type": "code",
   "outputs": [
    {
     "name": "stdout",
     "output_type": "stream",
     "text": [
      "slow_function 耗时 2.0037 秒\n"
     ]
    }
   ],
   "execution_count": 4,
   "source": [
    "# (1) 性能计时器\n",
    "import time\n",
    "from functools import wraps\n",
    "\n",
    "\n",
    "def timer(func):\n",
    "    @wraps(func)\n",
    "    def wrapper(*args, **kwargs):\n",
    "        start = time.perf_counter()\n",
    "        result = func(*args, **kwargs)\n",
    "        end = time.perf_counter()\n",
    "        print(f\"{func.__name__} 耗时 {end - start:.4f} 秒\")\n",
    "        return result\n",
    "\n",
    "    return wrapper\n",
    "\n",
    "\n",
    "@timer\n",
    "def slow_function():\n",
    "    time.sleep(2)\n",
    "\n",
    "\n",
    "slow_function()  # 输出耗时"
   ],
   "id": "356db101ebd48c97"
  },
  {
   "metadata": {
    "ExecuteTime": {
     "end_time": "2025-04-07T09:43:12.519729700Z",
     "start_time": "2025-02-16T10:17:19.691933Z"
    }
   },
   "cell_type": "code",
   "outputs": [
    {
     "name": "stdout",
     "output_type": "stream",
     "text": [
      "832040\n"
     ]
    }
   ],
   "execution_count": 12,
   "source": [
    "# 缓存结果（Memoization）\n",
    "from functools import lru_cache\n",
    "\n",
    "\n",
    "@lru_cache(maxsize=128)\n",
    "def fibonacci(n):\n",
    "    if n < 2:\n",
    "        return n\n",
    "    return fibonacci(n - 1) + fibonacci(n - 2)\n",
    "\n",
    "\n",
    "print(fibonacci(30))  # 快速计算结果 16ms（无装饰器会极慢, 240ms）"
   ],
   "id": "20bbda4b3df77768"
  },
  {
   "metadata": {
    "ExecuteTime": {
     "end_time": "2025-04-07T09:43:12.520729800Z",
     "start_time": "2025-02-15T04:37:07.566592Z"
    }
   },
   "cell_type": "code",
   "outputs": [
    {
     "name": "stdout",
     "output_type": "stream",
     "text": [
      "None\n"
     ]
    }
   ],
   "execution_count": 21,
   "source": [
    "# 错误示例\n",
    "def bad_decorator(func):\n",
    "    def wrapper():\n",
    "        func()  # 没有返回 func() 的结果\n",
    "\n",
    "    return wrapper\n",
    "\n",
    "\n",
    "@bad_decorator\n",
    "def get_value():\n",
    "    return 42\n",
    "\n",
    "\n",
    "print(get_value())  # 输出 None"
   ],
   "id": "755bd7e1678865e2"
  },
  {
   "metadata": {},
   "cell_type": "markdown",
   "source": "# 函数注解（Type Hints）",
   "id": "abcd9c98aab2aa51"
  },
  {
   "metadata": {
    "ExecuteTime": {
     "end_time": "2025-04-07T09:43:12.531244200Z",
     "start_time": "2025-02-15T02:50:29.658542Z"
    }
   },
   "cell_type": "code",
   "source": [
    "def add(a: int, b: int) -> int:\n",
    "    return a + b\n",
    "\n",
    "\n",
    "print(add.__annotations__)  # 输出类型注解信息"
   ],
   "id": "3f8e5464d6764dcf",
   "outputs": [
    {
     "name": "stdout",
     "output_type": "stream",
     "text": [
      "{'a': <class 'int'>, 'b': <class 'int'>}\n"
     ]
    }
   ],
   "execution_count": 3
  },
  {
   "metadata": {},
   "cell_type": "markdown",
   "source": " # 错误处理（try-except）",
   "id": "d3fbae74c429bb70"
  },
  {
   "metadata": {},
   "cell_type": "code",
   "outputs": [],
   "execution_count": null,
   "source": [
    "def divide(a, b):\n",
    "    try:\n",
    "        return a / b\n",
    "    except ZeroDivisionError:\n",
    "        return \"不能除以0\"\n",
    "\n",
    "\n",
    "print(divide(10, 2))  # 5.0\n",
    "print(divide(10, 0))  # 不能除以0"
   ],
   "id": "55946733700966ed"
  },
  {
   "metadata": {
    "ExecuteTime": {
     "end_time": "2025-04-07T09:43:12.533244700Z",
     "start_time": "2025-02-16T14:00:35.588816Z"
    }
   },
   "cell_type": "code",
   "source": [
    "# Python program to illustrate \n",
    "# closures \n",
    "import logging\n",
    "\n",
    "logging.basicConfig(filename='example.log', level=logging.INFO)\n",
    "\n",
    "\n",
    "def logger(func):\n",
    "    def log_func(*args):\n",
    "        logging.info(\n",
    "            'Running \"{}\" with arguments {}'.format(func.__name__, args))\n",
    "        print(func(*args))\n",
    "        # Necessary for closure to work (returning WITHOUT parenthesis)\n",
    "\n",
    "    return log_func\n",
    "\n",
    "\n",
    "def add(x, y):\n",
    "    return x + y\n",
    "\n",
    "\n",
    "def sub(x, y):\n",
    "    return x - y\n",
    "\n",
    "\n",
    "add_logger = logger(add)\n",
    "sub_logger = logger(sub)\n",
    "\n",
    "add_logger(3, 3)\n",
    "add_logger(4, 5)\n",
    "\n",
    "sub_logger(10, 5)\n",
    "sub_logger(20, 10) \n"
   ],
   "id": "1308c96be477e46c",
   "outputs": [
    {
     "name": "stdout",
     "output_type": "stream",
     "text": [
      "6\n",
      "9\n",
      "5\n",
      "10\n"
     ]
    }
   ],
   "execution_count": 19
  }
 ],
 "metadata": {
  "kernelspec": {
   "display_name": "Python 3",
   "language": "python",
   "name": "python3"
  },
  "language_info": {
   "codemirror_mode": {
    "name": "ipython",
    "version": 2
   },
   "file_extension": ".py",
   "mimetype": "text/x-python",
   "name": "python",
   "nbconvert_exporter": "python",
   "pygments_lexer": "ipython2",
   "version": "2.7.6"
  }
 },
 "nbformat": 4,
 "nbformat_minor": 5
}
