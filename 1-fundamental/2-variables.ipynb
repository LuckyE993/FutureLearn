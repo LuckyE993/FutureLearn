{
 "cells": [
  {
   "metadata": {},
   "cell_type": "markdown",
   "source": [
    "# 1.Rules for Naming Variables\n",
    "* Variable names can only contain letters, digits and underscores (_).\n",
    "* A variable name cannot start with a digit.\n",
    "* Variable names are case-sensitive (myVar and myvar are different).\n",
    "* Avoid using Python keywords (e.g., if, else, for) as variable names.\n",
    "\n",
    "* 变量名只能包含字母、数字和下划线（_）。\n",
    "* 变量名不能以数字开头。\n",
    "* 变量名区分大小写（myVar 和 myvar 是不同的）。\n",
    "* 避免使用 Python 关键字（例如 if、else、for）作为变量名。"
   ],
   "id": "da98dfe89c8121"
  },
  {
   "metadata": {},
   "cell_type": "markdown",
   "source": "# 2.Assigning Values to Variables",
   "id": "f91be902b80b1db8"
  },
  {
   "metadata": {},
   "cell_type": "code",
   "source": [
    "# Basic Assignment\n",
    "x = 5\n",
    "y = 3.14\n",
    "z = \"Hi\"\n",
    "print(x, y, z)\n",
    "\n",
    "# Dynamic Typing\n",
    "x = 10\n",
    "print(x)\n",
    "x = \"Now a string\"\n",
    "print(x)"
   ],
   "id": "b3bcaaa93580869e",
   "outputs": [],
   "execution_count": null
  },
  {
   "metadata": {},
   "cell_type": "code",
   "source": [
    "# Multiple Assignments\n",
    "a = b = c = 100\n",
    "print(a, b, c)\n",
    "\n",
    "x, y, z = 1, 2.5, \"Python\"\n",
    "print(x, y, z)"
   ],
   "id": "95545f508c456506",
   "outputs": [],
   "execution_count": null
  },
  {
   "metadata": {},
   "cell_type": "markdown",
   "source": "# 3.Casting a Variable",
   "id": "bc215cf5909aaeab"
  },
  {
   "metadata": {},
   "cell_type": "code",
   "source": [
    "# Casting variables\n",
    "s = \"10\"  # Initially a string\n",
    "n = int(s)  # Cast string to integer\n",
    "cnt = 5\n",
    "f = float(cnt)  # Cast integer to float\n",
    "age = 25\n",
    "s2 = str(age)  # Cast integer to string\n",
    "\n",
    "# Display results\n",
    "print(n)\n",
    "print(f)\n",
    "print(s2)"
   ],
   "id": "9a93ead08fbaf514",
   "outputs": [],
   "execution_count": null
  },
  {
   "metadata": {},
   "cell_type": "code",
   "source": [
    "# Define variables with different data types\n",
    "n = 42\n",
    "f = 3.14\n",
    "s = \"Hello, World!\"\n",
    "li = [1, 2, 3]\n",
    "d = {'key': 'value'}\n",
    "bool = True\n",
    "\n",
    "# Get and print the type of each variable\n",
    "print(type(n))\n",
    "print(type(f))\n",
    "print(type(s))\n",
    "print(type(li))\n",
    "print(type(d))\n",
    "print(type(bool))"
   ],
   "id": "9243068adb05cdee",
   "outputs": [],
   "execution_count": null
  },
  {
   "metadata": {},
   "cell_type": "markdown",
   "source": [
    "# 4. Scope of a Variable\n",
    "## 4.1 Local Variables"
   ],
   "id": "762f33074fa74ced"
  },
  {
   "metadata": {},
   "cell_type": "code",
   "source": [
    "def f():\n",
    "    a = \"I am local\"\n",
    "    print(a)\n",
    "\n",
    "\n",
    "f()\n",
    "print(a)  # This would raise an error since 'local_var' is not accessible outside the function"
   ],
   "id": "f3cde846c65ad444",
   "outputs": [],
   "execution_count": null
  },
  {
   "metadata": {},
   "cell_type": "markdown",
   "source": "## 4.2 Global Variables",
   "id": "824da9d953db0d46"
  },
  {
   "metadata": {},
   "cell_type": "code",
   "source": [
    "a = \"I am global\"\n",
    "\n",
    "\n",
    "def f():\n",
    "    global a\n",
    "    a = \"Modified globally\"\n",
    "    print(a)\n",
    "\n",
    "\n",
    "f()\n",
    "print(a)"
   ],
   "id": "c50abbe1b084fee3",
   "outputs": [],
   "execution_count": null
  },
  {
   "metadata": {},
   "cell_type": "code",
   "source": [
    "def change_a():\n",
    "    a = \"local changed\"\n",
    "    print(a)\n",
    "\n",
    "\n",
    "change_a()\n",
    "print(a)"
   ],
   "id": "d1657e226a01cbf6",
   "outputs": [],
   "execution_count": null
  },
  {
   "metadata": {},
   "cell_type": "markdown",
   "source": [
    "# 5. Object Reference in Python\n",
    "参考资料：\n",
    "1. https://www.geeksforgeeks.org/shared-reference-in-python/\n",
    "2. https://www.geeksforgeeks.org/python-variables/\n",
    "\n",
    "操作\t        变量重新赋值（a = ...）\t对象内容修改（a.append()）\n",
    "\n",
    "是否创建新对象\t    ✔️\t                    ❌   （原对象被修改）\n",
    "\n",
    "其他变量是否受影响\t❌\t                    ✔️   （所有引用同步变化）\n",
    "## 5.1 In-place changes"
   ],
   "id": "41fe6e6e2ff74dde"
  },
  {
   "metadata": {
    "ExecuteTime": {
     "end_time": "2025-01-24T11:58:33.679595Z",
     "start_time": "2025-01-24T11:58:33.668853Z"
    }
   },
   "cell_type": "code",
   "source": [
    "L1 = [1, 2, 3, 4, 5]\n",
    "\n",
    "# L2 = L1.copy()\n",
    "L2 = L1\n",
    "\n",
    "print(f\"L1 is: {L1}\\n\"\n",
    "      f\"L2 is: {L2}\")"
   ],
   "id": "5ed6da70a77f9d4f",
   "outputs": [
    {
     "name": "stdout",
     "output_type": "stream",
     "text": [
      "L1 is: [1, 2, 3, 4, 5]\n",
      "L2 is: [1, 2, 3, 4, 5]\n"
     ]
    }
   ],
   "execution_count": 3
  },
  {
   "metadata": {
    "ExecuteTime": {
     "end_time": "2025-01-24T11:58:36.467903Z",
     "start_time": "2025-01-24T11:58:36.457373Z"
    }
   },
   "cell_type": "code",
   "source": [
    "L1[0] = 0\n",
    "\n",
    "print(f\"L1 is: {L1}\\n\"\n",
    "      f\"L2 is: {L2}\")"
   ],
   "id": "7027de8dc4e0d433",
   "outputs": [
    {
     "name": "stdout",
     "output_type": "stream",
     "text": [
      "L1 is: [0, 2, 3, 4, 5]\n",
      "L2 is: [1, 2, 3, 4, 5]\n"
     ]
    }
   ],
   "execution_count": 4
  },
  {
   "metadata": {},
   "cell_type": "markdown",
   "source": "## 5.2 Non In-place changes",
   "id": "531db2c46193e68d"
  },
  {
   "metadata": {
    "ExecuteTime": {
     "end_time": "2025-01-24T11:59:14.309341Z",
     "start_time": "2025-01-24T11:59:14.300084Z"
    }
   },
   "cell_type": "code",
   "source": [
    "a = 50\n",
    "b = a\n",
    "print(f\"a is {a}, b is {b}\")\n",
    "print(a == b)\n",
    "print(a is b)\n",
    "\n",
    "a = 233\n",
    "print(f\"a is {a}, b is {b}\")\n",
    "print(a is b)"
   ],
   "id": "40ba5da31def261e",
   "outputs": [
    {
     "name": "stdout",
     "output_type": "stream",
     "text": [
      "a is 50, b is 50\n",
      "True\n",
      "True\n",
      "a is 233, b is 50\n",
      "False\n"
     ]
    }
   ],
   "execution_count": 6
  },
  {
   "metadata": {},
   "cell_type": "markdown",
   "source": "# 6. Delete a Variable Using del Keyword",
   "id": "d0f82385c1943d97"
  },
  {
   "metadata": {
    "ExecuteTime": {
     "end_time": "2025-01-24T11:59:21.977969Z",
     "start_time": "2025-01-24T11:59:21.950541Z"
    }
   },
   "cell_type": "code",
   "source": [
    "# Assigning value to variable\n",
    "x = 10\n",
    "print(x)\n",
    "\n",
    "# Removing the variable using del\n",
    "del x\n",
    "print(\"Delete x\")\n",
    "# Trying to print x after deletion will raise an error\n",
    "print(x)  "
   ],
   "id": "10cc5094cc56eb7e",
   "outputs": [
    {
     "name": "stdout",
     "output_type": "stream",
     "text": [
      "10\n",
      "Delete x\n"
     ]
    },
    {
     "ename": "NameError",
     "evalue": "name 'x' is not defined",
     "output_type": "error",
     "traceback": [
      "\u001B[0;31m---------------------------------------------------------------------------\u001B[0m",
      "\u001B[0;31mNameError\u001B[0m                                 Traceback (most recent call last)",
      "Cell \u001B[0;32mIn[7], line 9\u001B[0m\n\u001B[1;32m      7\u001B[0m \u001B[38;5;28mprint\u001B[39m(\u001B[38;5;124m\"\u001B[39m\u001B[38;5;124mDelete x\u001B[39m\u001B[38;5;124m\"\u001B[39m)\n\u001B[1;32m      8\u001B[0m \u001B[38;5;66;03m# Trying to print x after deletion will raise an error\u001B[39;00m\n\u001B[0;32m----> 9\u001B[0m \u001B[38;5;28mprint\u001B[39m(\u001B[43mx\u001B[49m)\n",
      "\u001B[0;31mNameError\u001B[0m: name 'x' is not defined"
     ]
    }
   ],
   "execution_count": 7
  }
 ],
 "metadata": {
  "kernelspec": {
   "display_name": "Python 3",
   "language": "python",
   "name": "python3"
  },
  "language_info": {
   "codemirror_mode": {
    "name": "ipython",
    "version": 2
   },
   "file_extension": ".py",
   "mimetype": "text/x-python",
   "name": "python",
   "nbconvert_exporter": "python",
   "pygments_lexer": "ipython2",
   "version": "2.7.6"
  }
 },
 "nbformat": 4,
 "nbformat_minor": 5
}
