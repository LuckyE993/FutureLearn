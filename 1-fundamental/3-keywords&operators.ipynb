{
 "cells": [
  {
   "metadata": {},
   "cell_type": "markdown",
   "source": "# Keywords",
   "id": "b5dc8d5be54c47ac"
  },
  {
   "metadata": {
    "ExecuteTime": {
     "end_time": "2025-01-23T14:36:11.347501Z",
     "start_time": "2025-01-23T14:36:11.334158Z"
    }
   },
   "cell_type": "code",
   "source": [
    "# in \n",
    "# example 1\n",
    "print(3 in [1, 2, 3])\n",
    "\n",
    "# example 2\n",
    "if 's' in 'geeksforgeeks':\n",
    "    print(\"s is part of geeksforgeeks\")\n",
    "else:\n",
    "    print(\"s is not part of geeksforgeeks\")"
   ],
   "id": "4cc4b9036eba14d7",
   "outputs": [
    {
     "name": "stdout",
     "output_type": "stream",
     "text": [
      "True\n",
      "s is part of geeksforgeeks\n"
     ]
    }
   ],
   "execution_count": 7
  },
  {
   "metadata": {
    "ExecuteTime": {
     "end_time": "2025-01-23T23:40:02.149988Z",
     "start_time": "2025-01-23T23:40:02.141823Z"
    }
   },
   "cell_type": "code",
   "source": [
    "n = 10\n",
    "for i in range(n):\n",
    "    # pass can be used as placeholder\n",
    "    # when code is to added later\n",
    "    pass"
   ],
   "id": "9d85dad3aaa2e74d",
   "outputs": [],
   "execution_count": 2
  },
  {
   "metadata": {},
   "cell_type": "markdown",
   "source": "## Exception Handling Keywords",
   "id": "875c01573ad38615"
  },
  {
   "metadata": {
    "ExecuteTime": {
     "end_time": "2025-01-23T23:41:53.134914Z",
     "start_time": "2025-01-23T23:41:51.809835Z"
    }
   },
   "cell_type": "code",
   "source": [
    "a, b = 4, 0\n",
    "\n",
    "try:\n",
    "    k = a // b  # Attempt integer division (4 // 0)\n",
    "    print(k)\n",
    "\n",
    "# This block catches the ZeroDivisionError\n",
    "except ZeroDivisionError:\n",
    "    print(\"Can't divide by zero\")\n",
    "\n",
    "finally:\n",
    "    # This block is always executed regardless of the exception\n",
    "    print('This is always executed')\n",
    "\n",
    "print(\"The value of a / b is : \")"
   ],
   "id": "cf908816c09518a3",
   "outputs": [
    {
     "name": "stdout",
     "output_type": "stream",
     "text": [
      "Can't divide by zero\n",
      "This is always executed\n",
      "The value of a / b is : \n"
     ]
    },
    {
     "ename": "AssertionError",
     "evalue": "Divide by 0 error",
     "output_type": "error",
     "traceback": [
      "\u001B[0;31m---------------------------------------------------------------------------\u001B[0m",
      "\u001B[0;31mAssertionError\u001B[0m                            Traceback (most recent call last)",
      "Cell \u001B[0;32mIn[4], line 20\u001B[0m\n\u001B[1;32m     17\u001B[0m \u001B[38;5;28mprint\u001B[39m(\u001B[38;5;124m\"\u001B[39m\u001B[38;5;124mThe value of a / b is : \u001B[39m\u001B[38;5;124m\"\u001B[39m)\n\u001B[1;32m     19\u001B[0m \u001B[38;5;66;03m# Will raise an AssertionError because b == 0\u001B[39;00m\n\u001B[0;32m---> 20\u001B[0m \u001B[38;5;28;01massert\u001B[39;00m b \u001B[38;5;241m!=\u001B[39m \u001B[38;5;241m0\u001B[39m, \u001B[38;5;124m\"\u001B[39m\u001B[38;5;124mDivide by 0 error\u001B[39m\u001B[38;5;124m\"\u001B[39m  \n\u001B[1;32m     22\u001B[0m \u001B[38;5;66;03m# Division is attempted but will not reach due to assert\u001B[39;00m\n\u001B[1;32m     23\u001B[0m \u001B[38;5;66;03m# print(a / b)  \u001B[39;00m\n\u001B[1;32m     24\u001B[0m \n\u001B[1;32m     25\u001B[0m \u001B[38;5;66;03m# Raise a TypeError if the strings are different\u001B[39;00m\n\u001B[1;32m     26\u001B[0m temp \u001B[38;5;241m=\u001B[39m \u001B[38;5;124m\"\u001B[39m\u001B[38;5;124mgeeks for geeks\u001B[39m\u001B[38;5;124m\"\u001B[39m\n",
      "\u001B[0;31mAssertionError\u001B[0m: Divide by 0 error"
     ]
    }
   ],
   "execution_count": 4
  },
  {
   "metadata": {},
   "cell_type": "code",
   "outputs": [],
   "execution_count": null,
   "source": [
    "# assert 函数用于调试目的。通常用于检查代码的正确性。\n",
    "# 如果一个语句被评估为 true，则不会发生任何事情，但当它为 false 时，则会引发“AssertionError”。还可以打印一条包含错误的消息，以逗号分隔。\n",
    "# Will raise an AssertionError because b == 0\n",
    "assert b != 0, \"Divide by 0 error\"\n",
    "\n",
    "# 不会执行\n",
    "print(a / b)"
   ],
   "id": "434523f0618e4d59"
  },
  {
   "metadata": {
    "ExecuteTime": {
     "end_time": "2025-01-23T23:42:23.742512Z",
     "start_time": "2025-01-23T23:42:23.541547Z"
    }
   },
   "cell_type": "code",
   "source": [
    "# Raise a TypeError if the strings are different\n",
    "temp = \"geeks for geeks\"\n",
    "if temp != \"geeks\":\n",
    "    raise TypeError(\"Both the strings are different.\")"
   ],
   "id": "db0f699bcd11125b",
   "outputs": [
    {
     "ename": "TypeError",
     "evalue": "Both the strings are different.",
     "output_type": "error",
     "traceback": [
      "\u001B[0;31m---------------------------------------------------------------------------\u001B[0m",
      "\u001B[0;31mTypeError\u001B[0m                                 Traceback (most recent call last)",
      "Cell \u001B[0;32mIn[5], line 4\u001B[0m\n\u001B[1;32m      2\u001B[0m temp \u001B[38;5;241m=\u001B[39m \u001B[38;5;124m\"\u001B[39m\u001B[38;5;124mgeeks for geeks\u001B[39m\u001B[38;5;124m\"\u001B[39m\n\u001B[1;32m      3\u001B[0m \u001B[38;5;28;01mif\u001B[39;00m temp \u001B[38;5;241m!=\u001B[39m \u001B[38;5;124m\"\u001B[39m\u001B[38;5;124mgeeks\u001B[39m\u001B[38;5;124m\"\u001B[39m:\n\u001B[0;32m----> 4\u001B[0m     \u001B[38;5;28;01mraise\u001B[39;00m \u001B[38;5;167;01mTypeError\u001B[39;00m(\u001B[38;5;124m\"\u001B[39m\u001B[38;5;124mBoth the strings are different.\u001B[39m\u001B[38;5;124m\"\u001B[39m)\n",
      "\u001B[0;31mTypeError\u001B[0m: Both the strings are different."
     ]
    }
   ],
   "execution_count": 5
  },
  {
   "metadata": {},
   "cell_type": "markdown",
   "source": "## Structure Keywords",
   "id": "ac1796e6f35f4620"
  },
  {
   "metadata": {
    "ExecuteTime": {
     "end_time": "2025-01-23T23:46:23.625111Z",
     "start_time": "2025-01-23T23:46:23.609714Z"
    }
   },
   "cell_type": "code",
   "source": [
    "def fun():\n",
    "    print(\"Inside Function\")\n",
    "\n",
    "\n",
    "fun()"
   ],
   "id": "f10fed0d63d4bed2",
   "outputs": [
    {
     "name": "stdout",
     "output_type": "stream",
     "text": [
      "Inside Function\n"
     ]
    }
   ],
   "execution_count": 1
  },
  {
   "metadata": {
    "ExecuteTime": {
     "end_time": "2025-01-23T23:46:48.182053Z",
     "start_time": "2025-01-23T23:46:48.171373Z"
    }
   },
   "cell_type": "code",
   "source": [
    "class Dog:\n",
    "    attr1 = \"mammal\"\n",
    "    attr2 = \"dog\"\n",
    "\n",
    "\n",
    "dog = Dog()\n",
    "print(dog.attr1, dog.attr2)"
   ],
   "id": "c7976e5e054b749b",
   "outputs": [
    {
     "name": "stdout",
     "output_type": "stream",
     "text": [
      "mammal dog\n"
     ]
    }
   ],
   "execution_count": 3
  },
  {
   "metadata": {
    "ExecuteTime": {
     "end_time": "2025-01-23T23:47:05.854961Z",
     "start_time": "2025-01-23T23:47:05.845561Z"
    }
   },
   "cell_type": "code",
   "source": [
    "# Return keyword\n",
    "def fun():\n",
    "    # Assign the value 2 to variable S\n",
    "    s = 2\n",
    "\n",
    "    # Return the value of S\n",
    "    return s\n",
    "\n",
    "\n",
    "# Call the function and print the result\n",
    "print(fun())"
   ],
   "id": "e98b72a8383f1cda",
   "outputs": [
    {
     "name": "stdout",
     "output_type": "stream",
     "text": [
      "2\n"
     ]
    }
   ],
   "execution_count": 4
  },
  {
   "metadata": {
    "ExecuteTime": {
     "end_time": "2025-01-23T23:49:20.149553Z",
     "start_time": "2025-01-23T23:49:20.137927Z"
    }
   },
   "cell_type": "code",
   "source": [
    "def generator_function():\n",
    "    yield 1\n",
    "    yield 2\n",
    "    yield 3\n",
    "\n",
    "\n",
    "# 创建生成器对象\n",
    "gen = generator_function()\n",
    "\n",
    "# 逐步获取值\n",
    "print(next(gen))  # 输出: 1\n",
    "print(next(gen))  # 输出: 2\n",
    "print(next(gen))  # 输出: 3\n",
    "\n",
    "# 使用 for 循环遍历生成器\n",
    "for value in generator_function():\n",
    "    print(value)  # 输出: 1, 2, 3\n"
   ],
   "id": "dfa4ac48c1341e4f",
   "outputs": [
    {
     "name": "stdout",
     "output_type": "stream",
     "text": [
      "1\n",
      "2\n",
      "3\n",
      "1\n",
      "2\n",
      "3\n"
     ]
    }
   ],
   "execution_count": 6
  },
  {
   "metadata": {},
   "cell_type": "markdown",
   "source": "## Context Keywords: With, as Keyword in Python",
   "id": "2621e0659b4a27d3"
  },
  {
   "metadata": {
    "ExecuteTime": {
     "end_time": "2025-01-23T23:55:07.702084Z",
     "start_time": "2025-01-23T23:55:07.695072Z"
    }
   },
   "cell_type": "code",
   "source": [
    "# using with statement\n",
    "with open('file_path', 'w') as file:\n",
    "    file.write('hello world !\\n')"
   ],
   "id": "752194487fa413a8",
   "outputs": [],
   "execution_count": 8
  },
  {
   "metadata": {},
   "cell_type": "code",
   "outputs": [],
   "execution_count": null,
   "source": [
    "# 使用别名导入package\n",
    "import math as gfg\n",
    "\n",
    "print(gfg.factorial(5))"
   ],
   "id": "4df724919af858bf"
  },
  {
   "metadata": {},
   "cell_type": "markdown",
   "source": [
    "## Import and Module: Import, From\n",
    "“import”关键字用于从模块导入模块或特定函数/类，使它们可以在您的代码中访问。\n",
    " \n",
    "“from”关键字与“import”一起使用来指定要从模块导入哪些特定函数或类。\n",
    "\n",
    "以下两种方法都从“math”模块导入“factorial”函数，允许直接在代码中使用它。"
   ],
   "id": "94f89ba745c10123"
  },
  {
   "metadata": {
    "ExecuteTime": {
     "end_time": "2025-01-23T23:57:50.402850Z",
     "start_time": "2025-01-23T23:57:50.392905Z"
    }
   },
   "cell_type": "code",
   "source": [
    "# import keyword\n",
    "from math import factorial\n",
    "import math\n",
    "\n",
    "print(math.factorial(10))\n",
    "\n",
    "# from keyword\n",
    "print(factorial(10))"
   ],
   "id": "3fbf261c8cf3c34c",
   "outputs": [
    {
     "name": "stdout",
     "output_type": "stream",
     "text": [
      "3628800\n",
      "3628800\n"
     ]
    }
   ],
   "execution_count": 9
  },
  {
   "metadata": {},
   "cell_type": "markdown",
   "source": "## Scope and Namespace: Global, Nonlocal",
   "id": "bcf228622ca580d9"
  },
  {
   "metadata": {
    "ExecuteTime": {
     "end_time": "2025-01-24T00:06:56.480577Z",
     "start_time": "2025-01-24T00:06:56.470822Z"
    }
   },
   "cell_type": "code",
   "source": [
    "a = 15\n",
    "b = 10\n",
    "\n",
    "\n",
    "def add():\n",
    "    # Add global variables a and b\n",
    "    c = a + b\n",
    "    print(c)\n",
    "\n",
    "\n",
    "add()  # Output: 25"
   ],
   "id": "8d8f0aa4d4cbf40c",
   "outputs": [
    {
     "name": "stdout",
     "output_type": "stream",
     "text": [
      "25\n"
     ]
    }
   ],
   "execution_count": 11
  },
  {
   "metadata": {
    "ExecuteTime": {
     "end_time": "2025-01-24T00:13:34.818865Z",
     "start_time": "2025-01-24T00:13:34.807630Z"
    }
   },
   "cell_type": "code",
   "source": [
    "def fun():\n",
    "    # Local variable in fun()\n",
    "    var = 10\n",
    "\n",
    "    def nested_fun():\n",
    "        # Modify var1 in the enclosing scope (fun)\n",
    "        nonlocal var\n",
    "        var += 10\n",
    "        print(var)\n",
    "\n",
    "    nested_fun()\n",
    "\n",
    "\n",
    "fun()  # Output: 20"
   ],
   "id": "d3cd67850feabdbe",
   "outputs": [
    {
     "name": "stdout",
     "output_type": "stream",
     "text": [
      "20\n"
     ]
    }
   ],
   "execution_count": 14
  },
  {
   "metadata": {
    "ExecuteTime": {
     "end_time": "2025-01-24T00:14:47.515580Z",
     "start_time": "2025-01-24T00:14:47.484358Z"
    }
   },
   "cell_type": "code",
   "source": [
    "# This function uses global variable s\n",
    "def f():\n",
    "    s += 'GFG'\n",
    "    print(\"Inside Function\", s)\n",
    "\n",
    "\n",
    "# Global scope\n",
    "s = \"I love Geeksforgeeks\"\n",
    "f()\n"
   ],
   "id": "863396071dc01acb",
   "outputs": [
    {
     "ename": "UnboundLocalError",
     "evalue": "local variable 's' referenced before assignment",
     "output_type": "error",
     "traceback": [
      "\u001B[0;31m---------------------------------------------------------------------------\u001B[0m",
      "\u001B[0;31mUnboundLocalError\u001B[0m                         Traceback (most recent call last)",
      "Cell \u001B[0;32mIn[16], line 9\u001B[0m\n\u001B[1;32m      7\u001B[0m \u001B[38;5;66;03m# Global scope\u001B[39;00m\n\u001B[1;32m      8\u001B[0m s \u001B[38;5;241m=\u001B[39m \u001B[38;5;124m\"\u001B[39m\u001B[38;5;124mI love Geeksforgeeks\u001B[39m\u001B[38;5;124m\"\u001B[39m\n\u001B[0;32m----> 9\u001B[0m \u001B[43mf\u001B[49m\u001B[43m(\u001B[49m\u001B[43m)\u001B[49m\n",
      "Cell \u001B[0;32mIn[16], line 3\u001B[0m, in \u001B[0;36mf\u001B[0;34m()\u001B[0m\n\u001B[1;32m      2\u001B[0m \u001B[38;5;28;01mdef\u001B[39;00m \u001B[38;5;21mf\u001B[39m():\n\u001B[0;32m----> 3\u001B[0m     s \u001B[38;5;241m+\u001B[39m\u001B[38;5;241m=\u001B[39m \u001B[38;5;124m'\u001B[39m\u001B[38;5;124mGFG\u001B[39m\u001B[38;5;124m'\u001B[39m\n\u001B[1;32m      4\u001B[0m     \u001B[38;5;28mprint\u001B[39m(\u001B[38;5;124m\"\u001B[39m\u001B[38;5;124mInside Function\u001B[39m\u001B[38;5;124m\"\u001B[39m, s)\n",
      "\u001B[0;31mUnboundLocalError\u001B[0m: local variable 's' referenced before assignment"
     ]
    }
   ],
   "execution_count": 16
  },
  {
   "metadata": {
    "ExecuteTime": {
     "end_time": "2025-01-24T00:13:48.615681Z",
     "start_time": "2025-01-24T00:13:48.605956Z"
    }
   },
   "cell_type": "code",
   "source": [
    "# This function modifies the global variable 's'\n",
    "def f():\n",
    "    global s\n",
    "    s += ' GFG'\n",
    "    print(s)\n",
    "    s = \"Look for Geeksforgeeks Python Section\"\n",
    "    print(s)\n",
    "\n",
    "\n",
    "# Global Scope\n",
    "s = \"Python is great!\"\n",
    "f()\n",
    "print(s)"
   ],
   "id": "71b8ca71448a50ac",
   "outputs": [
    {
     "name": "stdout",
     "output_type": "stream",
     "text": [
      "Python is great! GFG\n",
      "Look for Geeksforgeeks Python Section\n",
      "Look for Geeksforgeeks Python Section\n"
     ]
    }
   ],
   "execution_count": 15
  },
  {
   "metadata": {},
   "cell_type": "markdown",
   "source": "## Async Programming: async, await",
   "id": "35dafda1ce9cd1fd"
  },
  {
   "metadata": {
    "ExecuteTime": {
     "end_time": "2025-01-24T00:21:42.459943Z",
     "start_time": "2025-01-24T00:21:41.896093Z"
    }
   },
   "cell_type": "code",
   "source": [
    "# In normal python file\n",
    "import asyncio\n",
    "\n",
    "\n",
    "# Define an asynchronous main function\n",
    "async def main():\n",
    "    await func()\n",
    "\n",
    "\n",
    "# Define another async function that prints a message\n",
    "async def func():\n",
    "    print(\"Hello, async world!\")\n",
    "\n",
    "\n",
    "# Run the main function using asyncio.run\n",
    "asyncio.run(main())"
   ],
   "id": "99029894678a898f",
   "outputs": [
    {
     "ename": "RuntimeError",
     "evalue": "asyncio.run() cannot be called from a running event loop",
     "output_type": "error",
     "traceback": [
      "\u001B[0;31m---------------------------------------------------------------------------\u001B[0m",
      "\u001B[0;31mRuntimeError\u001B[0m                              Traceback (most recent call last)",
      "Cell \u001B[0;32mIn[1], line 12\u001B[0m\n\u001B[1;32m      9\u001B[0m     \u001B[38;5;28mprint\u001B[39m(\u001B[38;5;124m\"\u001B[39m\u001B[38;5;124mHello, async world!\u001B[39m\u001B[38;5;124m\"\u001B[39m)  \n\u001B[1;32m     11\u001B[0m \u001B[38;5;66;03m# Run the main function using asyncio.run\u001B[39;00m\n\u001B[0;32m---> 12\u001B[0m \u001B[43masyncio\u001B[49m\u001B[38;5;241;43m.\u001B[39;49m\u001B[43mrun\u001B[49m\u001B[43m(\u001B[49m\u001B[43mmain\u001B[49m\u001B[43m(\u001B[49m\u001B[43m)\u001B[49m\u001B[43m)\u001B[49m\n",
      "File \u001B[0;32m~/miniconda3/envs/pylearn/lib/python3.10/asyncio/runners.py:33\u001B[0m, in \u001B[0;36mrun\u001B[0;34m(main, debug)\u001B[0m\n\u001B[1;32m      9\u001B[0m \u001B[38;5;250m\u001B[39m\u001B[38;5;124;03m\"\"\"Execute the coroutine and return the result.\u001B[39;00m\n\u001B[1;32m     10\u001B[0m \n\u001B[1;32m     11\u001B[0m \u001B[38;5;124;03mThis function runs the passed coroutine, taking care of\u001B[39;00m\n\u001B[0;32m   (...)\u001B[0m\n\u001B[1;32m     30\u001B[0m \u001B[38;5;124;03m    asyncio.run(main())\u001B[39;00m\n\u001B[1;32m     31\u001B[0m \u001B[38;5;124;03m\"\"\"\u001B[39;00m\n\u001B[1;32m     32\u001B[0m \u001B[38;5;28;01mif\u001B[39;00m events\u001B[38;5;241m.\u001B[39m_get_running_loop() \u001B[38;5;129;01mis\u001B[39;00m \u001B[38;5;129;01mnot\u001B[39;00m \u001B[38;5;28;01mNone\u001B[39;00m:\n\u001B[0;32m---> 33\u001B[0m     \u001B[38;5;28;01mraise\u001B[39;00m \u001B[38;5;167;01mRuntimeError\u001B[39;00m(\n\u001B[1;32m     34\u001B[0m         \u001B[38;5;124m\"\u001B[39m\u001B[38;5;124masyncio.run() cannot be called from a running event loop\u001B[39m\u001B[38;5;124m\"\u001B[39m)\n\u001B[1;32m     36\u001B[0m \u001B[38;5;28;01mif\u001B[39;00m \u001B[38;5;129;01mnot\u001B[39;00m coroutines\u001B[38;5;241m.\u001B[39miscoroutine(main):\n\u001B[1;32m     37\u001B[0m     \u001B[38;5;28;01mraise\u001B[39;00m \u001B[38;5;167;01mValueError\u001B[39;00m(\u001B[38;5;124m\"\u001B[39m\u001B[38;5;124ma coroutine was expected, got \u001B[39m\u001B[38;5;132;01m{!r}\u001B[39;00m\u001B[38;5;124m\"\u001B[39m\u001B[38;5;241m.\u001B[39mformat(main))\n",
      "\u001B[0;31mRuntimeError\u001B[0m: asyncio.run() cannot be called from a running event loop"
     ]
    }
   ],
   "execution_count": 1
  },
  {
   "metadata": {
    "ExecuteTime": {
     "end_time": "2025-01-24T00:28:43.697565Z",
     "start_time": "2025-01-24T00:28:43.681384Z"
    }
   },
   "cell_type": "code",
   "source": [
    "# In jupyter notebook\n",
    "import asyncio\n",
    "\n",
    "\n",
    "async def main():\n",
    "    await func()\n",
    "\n",
    "\n",
    "async def func():\n",
    "    print(\"Hello, async world!\")\n",
    "\n",
    "\n",
    "# 直接使用 await\n",
    "await main()"
   ],
   "id": "3ceb6c14b7951f66",
   "outputs": [
    {
     "name": "stdout",
     "output_type": "stream",
     "text": [
      "Hello, async world!\n"
     ]
    }
   ],
   "execution_count": 1
  },
  {
   "metadata": {},
   "cell_type": "markdown",
   "source": "# Operator",
   "id": "f72bbae5dc6008e0"
  },
  {
   "metadata": {
    "ExecuteTime": {
     "end_time": "2025-01-24T00:33:08.074898Z",
     "start_time": "2025-01-24T00:33:08.062894Z"
    }
   },
   "cell_type": "code",
   "source": [
    "# Example: Logical Operators (AND, OR, NOT) with generic variables\n",
    "a, b, c = True, False, True\n",
    "\n",
    "# AND: Both conditions must be True\n",
    "if a and c:\n",
    "    print(\"Both a and c are True (AND condition).\")\n",
    "\n",
    "# OR: At least one condition must be True\n",
    "if b or c:\n",
    "    print(\"Either b or c is True (OR condition).\")\n",
    "\n",
    "# NOT: Reverses the condition\n",
    "if not b:\n",
    "    print(\"b is False (NOT condition).\")"
   ],
   "id": "38c2a2797781fd35",
   "outputs": [
    {
     "name": "stdout",
     "output_type": "stream",
     "text": [
      "Both a and c are True (AND condition).\n",
      "Either b or c is True (OR condition).\n",
      "b is False (NOT condition).\n"
     ]
    }
   ],
   "execution_count": 2
  },
  {
   "metadata": {},
   "cell_type": "markdown",
   "source": "# 模式匹配",
   "id": "ae228c309394c99b"
  },
  {
   "metadata": {
    "ExecuteTime": {
     "end_time": "2025-04-07T03:25:13.828607Z",
     "start_time": "2025-04-07T03:25:13.816475Z"
    }
   },
   "cell_type": "code",
   "source": [
    "score = 'B'\n",
    "if score == 'A':\n",
    "    print(\"score is A\")\n",
    "elif score == 'B':\n",
    "    print(\"score is B\")\n",
    "elif score == 'C':\n",
    "    print(\"score is C\")\n",
    "else:\n",
    "    print(\"invalid score\")"
   ],
   "id": "fb5e8ead54df2d7f",
   "outputs": [
    {
     "name": "stdout",
     "output_type": "stream",
     "text": [
      "score is B\n"
     ]
    }
   ],
   "execution_count": 1
  },
  {
   "metadata": {
    "ExecuteTime": {
     "end_time": "2025-04-07T03:25:45.896422Z",
     "start_time": "2025-04-07T03:25:45.891422Z"
    }
   },
   "cell_type": "code",
   "source": [
    "score = 'B'\n",
    "match score:\n",
    "    case 'A':\n",
    "        print(\"score is A\")\n",
    "    case 'B':\n",
    "        print(\"score is B\")\n",
    "    case 'C':\n",
    "        print(\"score is C\")\n",
    "    case _:  # _表示匹配到其他任何情况\n",
    "        print(\"invalid score\")"
   ],
   "id": "e3a138cd54f1d16c",
   "outputs": [
    {
     "name": "stdout",
     "output_type": "stream",
     "text": [
      "score is B\n"
     ]
    }
   ],
   "execution_count": 2
  }
 ],
 "metadata": {
  "kernelspec": {
   "display_name": "Python 3",
   "language": "python",
   "name": "python3"
  },
  "language_info": {
   "codemirror_mode": {
    "name": "ipython",
    "version": 2
   },
   "file_extension": ".py",
   "mimetype": "text/x-python",
   "name": "python",
   "nbconvert_exporter": "python",
   "pygments_lexer": "ipython2",
   "version": "2.7.6"
  }
 },
 "nbformat": 4,
 "nbformat_minor": 5
}
