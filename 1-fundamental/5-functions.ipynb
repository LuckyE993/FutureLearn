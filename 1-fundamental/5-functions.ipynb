{
 "cells": [
  {
   "metadata": {
    "ExecuteTime": {
     "end_time": "2025-02-15T02:22:08.634592Z",
     "start_time": "2025-02-15T02:22:08.598411Z"
    }
   },
   "cell_type": "code",
   "source": "print(\"hello world\")",
   "id": "7d627607bad42237",
   "outputs": [
    {
     "name": "stdout",
     "output_type": "stream",
     "text": [
      "hello world\n"
     ]
    }
   ],
   "execution_count": 1
  },
  {
   "metadata": {},
   "cell_type": "markdown",
   "source": [
    "# 函数的定义与调用\n",
    "## 基础语法"
   ],
   "id": "b7f92f80088eaa9d"
  },
  {
   "metadata": {
    "ExecuteTime": {
     "end_time": "2025-02-15T02:39:21.259431Z",
     "start_time": "2025-02-15T02:39:21.220685Z"
    }
   },
   "cell_type": "code",
   "outputs": [
    {
     "name": "stdout",
     "output_type": "stream",
     "text": [
      "Hello, Alice!\n",
      "返回问候语（文档字符串）\n"
     ]
    }
   ],
   "execution_count": 12,
   "source": [
    "def greet(name):\n",
    "    \"\"\"返回问候语（文档字符串）\"\"\"\n",
    "    return f\"Hello, {name}!\"\n",
    "\n",
    "\n",
    "print(greet(\"Alice\"))  # 输出: Hello, Alice!\n",
    "print(greet.__doc__)  # 输出函数的文档字符串"
   ],
   "id": "aa710c9717c65049"
  },
  {
   "metadata": {},
   "cell_type": "markdown",
   "source": "## 参数传递\n",
   "id": "1e57be4b888cc341"
  },
  {
   "metadata": {
    "ExecuteTime": {
     "end_time": "2025-02-15T02:41:19.713475Z",
     "start_time": "2025-02-15T02:41:19.704374Z"
    }
   },
   "cell_type": "code",
   "source": [
    "# (1) 位置参数（按顺序传递）\n",
    "def add(a, b):\n",
    "    return a + b\n",
    "\n",
    "\n",
    "print(add(3, 5))  # 输出 8"
   ],
   "id": "baf643d9bd47fd7",
   "outputs": [
    {
     "name": "stdout",
     "output_type": "stream",
     "text": [
      "8\n"
     ]
    }
   ],
   "execution_count": 14
  },
  {
   "metadata": {
    "ExecuteTime": {
     "end_time": "2025-02-15T02:41:23.223352Z",
     "start_time": "2025-02-15T02:41:21.247031Z"
    }
   },
   "cell_type": "code",
   "source": [
    "# (2) 默认参数\n",
    "def power(base, exponent=2):\n",
    "    return base ** exponent\n",
    "\n",
    "\n",
    "print(power(3))  # 输出 9 (默认 exponent=2)\n",
    "print(power(3, 4))  # 输出 81"
   ],
   "id": "f823a0f4f1f2e263",
   "outputs": [
    {
     "name": "stdout",
     "output_type": "stream",
     "text": [
      "9\n",
      "81\n"
     ]
    }
   ],
   "execution_count": 15
  },
  {
   "metadata": {
    "ExecuteTime": {
     "end_time": "2025-02-15T02:42:36.391004Z",
     "start_time": "2025-02-15T02:42:36.377445Z"
    }
   },
   "cell_type": "code",
   "source": [
    "# (3) 关键字参数（指定参数名）\n",
    "def describe_person(name, age, city):\n",
    "    print(f\"{name} is {age} years old, lives in {city}\")\n",
    "\n",
    "\n",
    "describe_person(age=30, city=\"Beijing\", name=\"Bob\")  # 参数顺序无关"
   ],
   "id": "78007808f44d1e87",
   "outputs": [
    {
     "name": "stdout",
     "output_type": "stream",
     "text": [
      "Bob is 30 years old, lives in Beijing\n"
     ]
    }
   ],
   "execution_count": 16
  },
  {
   "metadata": {
    "ExecuteTime": {
     "end_time": "2025-02-15T02:42:38.642687Z",
     "start_time": "2025-02-15T02:42:38.629158Z"
    }
   },
   "cell_type": "code",
   "source": [
    "# (4) 可变参数 (*args 和 **kwargs)\n",
    "def print_all(*args, **kwargs):\n",
    "    print(\"位置参数:\", args)\n",
    "    print(\"关键字参数:\", kwargs)\n",
    "\n",
    "\n",
    "print_all(1, 2, 3, name=\"Alice\", age=25)"
   ],
   "id": "1d2c2a4e2dcdd34",
   "outputs": [
    {
     "name": "stdout",
     "output_type": "stream",
     "text": [
      "位置参数: (1, 2, 3)\n",
      "关键字参数: {'name': 'Alice', 'age': 25}\n"
     ]
    }
   ],
   "execution_count": 17
  },
  {
   "metadata": {},
   "cell_type": "markdown",
   "source": [
    "## *args **kwargs in Python\n",
    "\n",
    "*args作为元组收集其他位置参数，而 **kwargs将其他关键字参数作为词典。\n",
    "\n",
    "![有两个特殊符号可以传递多个参数](https://media.geeksforgeeks.org/wp-content/uploads/20200907141910/keyword-300x176.PNG)"
   ],
   "id": "81b89383d093f6be"
  },
  {
   "metadata": {},
   "cell_type": "markdown",
   "source": [
    "\n",
    "## 基础用法\n",
    "### *args（接收任意数量的位置参数）"
   ],
   "id": "6b61641c69f66ec0"
  },
  {
   "metadata": {
    "ExecuteTime": {
     "end_time": "2025-02-15T02:23:53.821842Z",
     "start_time": "2025-02-15T02:23:53.766126Z"
    }
   },
   "cell_type": "code",
   "source": [
    "def sum_numbers(*args):\n",
    "    total = 0\n",
    "    for num in args:\n",
    "        total += num\n",
    "    return total\n",
    "\n",
    "\n",
    "print(sum_numbers(1, 2, 3))  # 输出 6\n",
    "print(sum_numbers(10, 20, 30, 40))  # 输出 100"
   ],
   "id": "f9cbc4b1dc84d7a6",
   "outputs": [
    {
     "name": "stdout",
     "output_type": "stream",
     "text": [
      "6\n",
      "100\n"
     ]
    }
   ],
   "execution_count": 2
  },
  {
   "metadata": {},
   "cell_type": "markdown",
   "source": "### **kwargs（接收任意数量的关键字参数）",
   "id": "f4e9b90adf2cf373"
  },
  {
   "metadata": {
    "ExecuteTime": {
     "end_time": "2025-02-15T02:25:23.125246Z",
     "start_time": "2025-02-15T02:25:23.063245Z"
    }
   },
   "cell_type": "code",
   "source": [
    "def print_user_info(**kwargs):\n",
    "    for key, value in kwargs.items():\n",
    "        print(f\"{key}: {value}\")\n",
    "\n",
    "\n",
    "print_user_info(name=\"Lucky\", age=21, city=\"Linyi\")\n",
    "# 输出:\n",
    "# name: Lucky\n",
    "# age: 21\n",
    "# city: Linyi"
   ],
   "id": "9318fea9add07b25",
   "outputs": [
    {
     "name": "stdout",
     "output_type": "stream",
     "text": [
      "name: Lucky\n",
      "age: 21\n",
      "city: Linyi\n"
     ]
    }
   ],
   "execution_count": 4
  },
  {
   "metadata": {},
   "cell_type": "markdown",
   "source": "### 混合使用 *args 和 **kwargs",
   "id": "853706bfbdacce13"
  },
  {
   "metadata": {
    "ExecuteTime": {
     "end_time": "2025-02-15T02:26:07.169907Z",
     "start_time": "2025-02-15T02:26:07.071684Z"
    }
   },
   "cell_type": "code",
   "source": [
    "def example_function(a, b, *args, **kwargs):\n",
    "    print(f\"固定参数: {a}, {b}\")\n",
    "    print(f\"*args: {args}\")\n",
    "    print(f\"**kwargs: {kwargs}\")\n",
    "\n",
    "\n",
    "example_function(1, 2, 3, 4, 5, name=\"Bob\", age=25)\n",
    "# 输出:\n",
    "# 固定参数: 1, 2\n",
    "# *args: (3, 4, 5)\n",
    "# **kwargs: {'name': 'Bob', 'age': 25}"
   ],
   "id": "2ed7416362b8122a",
   "outputs": [
    {
     "name": "stdout",
     "output_type": "stream",
     "text": [
      "固定参数: 1, 2\n",
      "*args: (3, 4, 5)\n",
      "**kwargs: {'name': 'Bob', 'age': 25}\n"
     ]
    }
   ],
   "execution_count": 5
  },
  {
   "metadata": {},
   "cell_type": "markdown",
   "source": [
    "## 进阶用法\n",
    "### 解包参数（在调用函数时使用 * 和 **）"
   ],
   "id": "8d4f9deb483794f8"
  },
  {
   "metadata": {
    "ExecuteTime": {
     "end_time": "2025-02-15T02:28:26.668231Z",
     "start_time": "2025-02-15T02:28:26.652750Z"
    }
   },
   "cell_type": "code",
   "source": [
    "def func(a, b, c):\n",
    "    print(a, b, c)\n",
    "\n",
    "\n",
    "# 使用列表/元组解包为位置参数\n",
    "args_list = [1, 2, 3]\n",
    "func(*args_list)  # 输出 1 2 3\n",
    "\n",
    "# 使用字典解包为关键字参数\n",
    "kwargs_dict = {\"a\": 10, \"b\": 20, \"c\": 30}\n",
    "func(**kwargs_dict)  # 输出 10 20 30"
   ],
   "id": "5affb62794de5e15",
   "outputs": [
    {
     "name": "stdout",
     "output_type": "stream",
     "text": [
      "1 2 3\n",
      "10 20 30\n"
     ]
    }
   ],
   "execution_count": 6
  },
  {
   "metadata": {},
   "cell_type": "markdown",
   "source": "### 动态生成参数",
   "id": "5d0d654af30924"
  },
  {
   "metadata": {
    "ExecuteTime": {
     "end_time": "2025-02-15T02:29:29.092904Z",
     "start_time": "2025-02-15T02:29:29.076401Z"
    }
   },
   "cell_type": "code",
   "source": [
    "def dynamic_args_example(*args, **kwargs):\n",
    "    print(\"位置参数:\", args)\n",
    "    print(\"关键字参数:\", kwargs)\n",
    "\n",
    "\n",
    "dynamic_args_example(*(i for i in range(3)), **{\"x\": 100, \"y\": 200})\n",
    "# 输出:\n",
    "# 位置参数: (0, 1, 2)\n",
    "# 关键字参数: {'x': 100, 'y': 200}"
   ],
   "id": "eeaaa7c0b1eebeef",
   "outputs": [
    {
     "name": "stdout",
     "output_type": "stream",
     "text": [
      "位置参数: (0, 1, 2)\n",
      "关键字参数: {'x': 100, 'y': 200}\n"
     ]
    }
   ],
   "execution_count": 8
  },
  {
   "metadata": {},
   "cell_type": "markdown",
   "source": "### 在类中使用 *args 和 **kwargs",
   "id": "384a071960fa0c15"
  },
  {
   "metadata": {
    "ExecuteTime": {
     "end_time": "2025-02-15T02:28:57.163720Z",
     "start_time": "2025-02-15T02:28:57.121114Z"
    }
   },
   "cell_type": "code",
   "source": [
    "class MyClass:\n",
    "    def __init__(self, *args, **kwargs):\n",
    "        self.args = args\n",
    "        self.kwargs = kwargs\n",
    "\n",
    "\n",
    "obj = MyClass(1, 2, 3, name=\"Charlie\", value=42)\n",
    "print(obj.args)  # 输出 (1, 2, 3)\n",
    "print(obj.kwargs)  # 输出 {'name': 'Charlie', 'value': 42}"
   ],
   "id": "917c1b40ec00777a",
   "outputs": [
    {
     "name": "stdout",
     "output_type": "stream",
     "text": [
      "(1, 2, 3)\n",
      "{'name': 'Charlie', 'value': 42}\n"
     ]
    }
   ],
   "execution_count": 7
  },
  {
   "metadata": {},
   "cell_type": "markdown",
   "source": "### 参数校验与过滤",
   "id": "4415c372c03589ba"
  },
  {
   "metadata": {
    "ExecuteTime": {
     "end_time": "2025-02-15T02:30:28.942246Z",
     "start_time": "2025-02-15T02:30:28.900963Z"
    }
   },
   "cell_type": "code",
   "source": [
    "def validate_args(*args, **kwargs):\n",
    "    if not args:\n",
    "        raise ValueError(\"至少需要一个位置参数！\")\n",
    "    if \"name\" not in kwargs:\n",
    "        raise KeyError(\"缺少关键字参数 'name'\")\n",
    "    print(\"校验通过\")\n",
    "\n",
    "\n",
    "validate_args(1, 2, name=\"Alice\")  # 正常\n",
    "validate_args(name=\"Bob\")  # 报错：缺少位置参数\n",
    "validate_args(1, 2)  # 报错：缺少关键字参数 'name'"
   ],
   "id": "c5be654c3346b4d2",
   "outputs": [
    {
     "name": "stdout",
     "output_type": "stream",
     "text": [
      "校验通过\n"
     ]
    },
    {
     "ename": "ValueError",
     "evalue": "至少需要一个位置参数！",
     "output_type": "error",
     "traceback": [
      "\u001B[0;31m---------------------------------------------------------------------------\u001B[0m",
      "\u001B[0;31mValueError\u001B[0m                                Traceback (most recent call last)",
      "Cell \u001B[0;32mIn[11], line 9\u001B[0m\n\u001B[1;32m      6\u001B[0m     \u001B[38;5;28mprint\u001B[39m(\u001B[38;5;124m\"\u001B[39m\u001B[38;5;124m校验通过\u001B[39m\u001B[38;5;124m\"\u001B[39m)\n\u001B[1;32m      8\u001B[0m validate_args(\u001B[38;5;241m1\u001B[39m, \u001B[38;5;241m2\u001B[39m, name\u001B[38;5;241m=\u001B[39m\u001B[38;5;124m\"\u001B[39m\u001B[38;5;124mAlice\u001B[39m\u001B[38;5;124m\"\u001B[39m)  \u001B[38;5;66;03m# 正常\u001B[39;00m\n\u001B[0;32m----> 9\u001B[0m \u001B[43mvalidate_args\u001B[49m\u001B[43m(\u001B[49m\u001B[43mname\u001B[49m\u001B[38;5;241;43m=\u001B[39;49m\u001B[38;5;124;43m\"\u001B[39;49m\u001B[38;5;124;43mBob\u001B[39;49m\u001B[38;5;124;43m\"\u001B[39;49m\u001B[43m)\u001B[49m        \u001B[38;5;66;03m# 报错：缺少位置参数\u001B[39;00m\n\u001B[1;32m     10\u001B[0m validate_args(\u001B[38;5;241m1\u001B[39m, \u001B[38;5;241m2\u001B[39m)\n",
      "Cell \u001B[0;32mIn[11], line 3\u001B[0m, in \u001B[0;36mvalidate_args\u001B[0;34m(*args, **kwargs)\u001B[0m\n\u001B[1;32m      1\u001B[0m \u001B[38;5;28;01mdef\u001B[39;00m \u001B[38;5;21mvalidate_args\u001B[39m(\u001B[38;5;241m*\u001B[39margs, \u001B[38;5;241m*\u001B[39m\u001B[38;5;241m*\u001B[39mkwargs):\n\u001B[1;32m      2\u001B[0m     \u001B[38;5;28;01mif\u001B[39;00m \u001B[38;5;129;01mnot\u001B[39;00m args:\n\u001B[0;32m----> 3\u001B[0m         \u001B[38;5;28;01mraise\u001B[39;00m \u001B[38;5;167;01mValueError\u001B[39;00m(\u001B[38;5;124m\"\u001B[39m\u001B[38;5;124m至少需要一个位置参数！\u001B[39m\u001B[38;5;124m\"\u001B[39m)\n\u001B[1;32m      4\u001B[0m     \u001B[38;5;28;01mif\u001B[39;00m \u001B[38;5;124m\"\u001B[39m\u001B[38;5;124mname\u001B[39m\u001B[38;5;124m\"\u001B[39m \u001B[38;5;129;01mnot\u001B[39;00m \u001B[38;5;129;01min\u001B[39;00m kwargs:\n\u001B[1;32m      5\u001B[0m         \u001B[38;5;28;01mraise\u001B[39;00m \u001B[38;5;167;01mKeyError\u001B[39;00m(\u001B[38;5;124m\"\u001B[39m\u001B[38;5;124m缺少关键字参数 \u001B[39m\u001B[38;5;124m'\u001B[39m\u001B[38;5;124mname\u001B[39m\u001B[38;5;124m'\u001B[39m\u001B[38;5;124m\"\u001B[39m)\n",
      "\u001B[0;31mValueError\u001B[0m: 至少需要一个位置参数！"
     ]
    }
   ],
   "execution_count": 11
  },
  {
   "metadata": {},
   "cell_type": "markdown",
   "source": "## 高阶函数",
   "id": "b8f15cce9f3ddd0c"
  },
  {
   "metadata": {
    "ExecuteTime": {
     "end_time": "2025-02-15T02:48:18.147024Z",
     "start_time": "2025-02-15T02:48:18.127201Z"
    }
   },
   "cell_type": "code",
   "source": [
    "# (1) 函数作为参数\n",
    "def apply_operation(func, a, b):\n",
    "    return func(a, b)\n",
    "\n",
    "\n",
    "def multiply(x, y):\n",
    "    return x * y\n",
    "\n",
    "\n",
    "print(apply_operation(multiply, 3, 4))  # 输出 12"
   ],
   "id": "822a90d6b17afba6",
   "outputs": [
    {
     "name": "stdout",
     "output_type": "stream",
     "text": [
      "12\n"
     ]
    }
   ],
   "execution_count": 1
  },
  {
   "metadata": {},
   "cell_type": "markdown",
   "source": [
    "## 核心概念\n",
    "装饰器本质：一个接受函数作为参数、返回新函数的高阶函数。\n",
    "\n",
    "语法糖：@decorator 等价于 func = decorator(func)。\n",
    "\n",
    "用途：在不修改原函数代码的前提下，增强其功能（如日志、计时、权限校验）。\n",
    "\n",
    "在 Python 装饰器中，嵌套一个 wrapper 函数是装饰器实现的核心机制。它的作用是包装原函数，从而在不修改原函数代码的前提下，增强其功能。\n",
    "\n",
    "**语法糖（Syntactic sugar）**，也译为糖衣语法，是由英国计算机科学家彼得·约翰·兰达（Peter J. Landin）发明的一个术语，指计算机语言中添加的某种语法，这种语法对语言的功能并没有影响，但是更方便程序员使用。 通常来说使用语法糖能够增加程序的可读性，从而减少程序代码出错的机会。"
   ],
   "id": "1267489c469da0af"
  },
  {
   "metadata": {
    "ExecuteTime": {
     "end_time": "2025-02-15T03:46:39.983393Z",
     "start_time": "2025-02-15T03:46:39.962311Z"
    }
   },
   "cell_type": "code",
   "source": [
    "def my_decorator(func):\n",
    "    def wrapper():\n",
    "        print(\"装饰器：函数执行前\")\n",
    "        func()  # 调用原函数\n",
    "        print(\"装饰器：函数执行后\")\n",
    "\n",
    "    return wrapper\n",
    "\n",
    "\n",
    "@my_decorator\n",
    "def say_hello():\n",
    "    print(\"Hello!\")\n",
    "\n",
    "\n",
    "say_hello()\n",
    "# 输出：\n",
    "# 装饰器：函数执行前\n",
    "# Hello!\n",
    "# 装饰器：函数执行后"
   ],
   "id": "91c40617844a8453",
   "outputs": [
    {
     "name": "stdout",
     "output_type": "stream",
     "text": [
      "装饰器：函数执行前\n",
      "Hello!\n",
      "装饰器：函数执行后\n"
     ]
    }
   ],
   "execution_count": 1
  },
  {
   "metadata": {
    "ExecuteTime": {
     "end_time": "2025-02-15T04:01:26.003950Z",
     "start_time": "2025-02-15T04:01:25.990862Z"
    }
   },
   "cell_type": "code",
   "source": [
    "def decorator_with_args(func):\n",
    "    def wrapper(*args, **kwargs):\n",
    "        print(\"装饰器：准备执行函数\")\n",
    "        result = func(*args, **kwargs)  # 传递所有参数\n",
    "        print(\"装饰器：函数执行完毕\")\n",
    "        return result\n",
    "\n",
    "    return wrapper\n",
    "\n",
    "\n",
    "@decorator_with_args\n",
    "def add(a, b):\n",
    "    return a + b\n",
    "\n",
    "\n",
    "print(add(3, 5))  # 输出装饰器日志 + 8"
   ],
   "id": "ac3194c0ee749594",
   "outputs": [
    {
     "name": "stdout",
     "output_type": "stream",
     "text": [
      "装饰器：准备执行函数\n",
      "装饰器：函数执行完毕\n",
      "8\n"
     ]
    }
   ],
   "execution_count": 2
  },
  {
   "metadata": {
    "ExecuteTime": {
     "end_time": "2025-02-15T04:03:13.243025Z",
     "start_time": "2025-02-15T04:03:13.227202Z"
    }
   },
   "cell_type": "code",
   "source": [
    "# 保留原函数信息\n",
    "# 问题：直接使用装饰器会导致原函数的元信息（如 __name__）被掩盖。\n",
    "# 解决：使用 functools.wraps\n",
    "from functools import wraps\n",
    "\n",
    "\n",
    "def preserve_metadata(func):\n",
    "    @wraps(func)  # 保留原函数属性\n",
    "    def wrapper(*args, **kwargs):\n",
    "        return func(*args, **kwargs)\n",
    "\n",
    "    return wrapper\n",
    "\n",
    "\n",
    "@preserve_metadata\n",
    "def example():\n",
    "    \"\"\"示例函数的文档字符串\"\"\"\n",
    "    pass\n",
    "\n",
    "\n",
    "print(example.__name__)  # 输出 \"example\"（而不是 \"wrapper\"）\n",
    "print(example.__doc__)  # 输出 \"示例函数的文档字符串\""
   ],
   "id": "bfda17157b26561a",
   "outputs": [
    {
     "name": "stdout",
     "output_type": "stream",
     "text": [
      "example\n",
      "示例函数的文档字符串\n"
     ]
    }
   ],
   "execution_count": 5
  },
  {
   "metadata": {
    "ExecuteTime": {
     "end_time": "2025-02-15T04:04:03.940187Z",
     "start_time": "2025-02-15T04:04:03.928224Z"
    }
   },
   "cell_type": "code",
   "source": [
    "# 带参数的装饰器\n",
    "# 场景：装饰器本身需要接受参数（如配置日志级别）。\n",
    "def repeat(n_times):\n",
    "    \"\"\"重复执行函数 n 次的装饰器工厂\"\"\"\n",
    "\n",
    "    def decorator(func):\n",
    "        @wraps(func)\n",
    "        def wrapper(*args, **kwargs):\n",
    "            for _ in range(n_times):\n",
    "                result = func(*args, **kwargs)\n",
    "            return result  # 返回最后一次结果\n",
    "\n",
    "        return wrapper\n",
    "\n",
    "    return decorator\n",
    "\n",
    "\n",
    "@repeat(n_times=3)\n",
    "def greet(name):\n",
    "    print(f\"Hello, {name}!\")\n",
    "\n",
    "\n",
    "greet(\"Alice\")\n",
    "# 输出 3 次 \"Hello, Alice!\""
   ],
   "id": "de6eb73b22e33e33",
   "outputs": [
    {
     "name": "stdout",
     "output_type": "stream",
     "text": [
      "Hello, Alice!\n",
      "Hello, Alice!\n",
      "Hello, Alice!\n"
     ]
    }
   ],
   "execution_count": 6
  },
  {
   "metadata": {
    "ExecuteTime": {
     "end_time": "2025-02-15T04:05:05.549962Z",
     "start_time": "2025-02-15T04:05:05.537480Z"
    }
   },
   "cell_type": "code",
   "source": [
    "# 类装饰器\n",
    "# 用途：用类实现装饰器（适合需要维护状态的场景）。\n",
    "class CountCalls:\n",
    "    def __init__(self, func):\n",
    "        self.func = func\n",
    "        self.call_count = 0\n",
    "\n",
    "    def __call__(self, *args, **kwargs):\n",
    "        self.call_count += 1\n",
    "        print(f\"函数 {self.func.__name__} 被调用了 {self.call_count} 次\")\n",
    "        return self.func(*args, **kwargs)\n",
    "\n",
    "\n",
    "@CountCalls\n",
    "def say_hi():\n",
    "    print(\"Hi!\")\n",
    "\n",
    "\n",
    "say_hi()  # 输出调用次数 + \"Hi!\"\n",
    "say_hi()  # 调用次数递增"
   ],
   "id": "45341d17a06311cf",
   "outputs": [
    {
     "name": "stdout",
     "output_type": "stream",
     "text": [
      "函数 say_hi 被调用了 1 次\n",
      "Hi!\n",
      "函数 say_hi 被调用了 2 次\n",
      "Hi!\n"
     ]
    }
   ],
   "execution_count": 7
  },
  {
   "metadata": {
    "ExecuteTime": {
     "end_time": "2025-02-15T04:06:17.063195Z",
     "start_time": "2025-02-15T04:06:17.051102Z"
    }
   },
   "cell_type": "code",
   "source": [
    "# 装饰器的嵌套与顺序\n",
    "# 规则：装饰器从下往上应用，但执行时从上往下运行。\n",
    "def decorator1(func):\n",
    "    @wraps(func)\n",
    "    def wrapper():\n",
    "        print(\"Decorator 1 前\")\n",
    "        func()\n",
    "        print(\"Decorator 1 后\")\n",
    "\n",
    "    return wrapper\n",
    "\n",
    "\n",
    "def decorator2(func):\n",
    "    @wraps(func)\n",
    "    def wrapper():\n",
    "        print(\"Decorator 2 前\")\n",
    "        func()\n",
    "        print(\"Decorator 2 后\")\n",
    "\n",
    "    return wrapper\n",
    "\n",
    "\n",
    "@decorator1\n",
    "@decorator2\n",
    "def target():\n",
    "    print(\"目标函数\")\n",
    "\n",
    "\n",
    "target()\n",
    "# 输出：\n",
    "# Decorator 1 前\n",
    "# Decorator 2 前\n",
    "# 目标函数\n",
    "# Decorator 2 后\n",
    "# Decorator 1 后"
   ],
   "id": "169a927c80d0ac9a",
   "outputs": [
    {
     "name": "stdout",
     "output_type": "stream",
     "text": [
      "Decorator 1 前\n",
      "Decorator 2 前\n",
      "目标函数\n",
      "Decorator 2 后\n",
      "Decorator 1 后\n"
     ]
    }
   ],
   "execution_count": 8
  },
  {
   "metadata": {
    "ExecuteTime": {
     "end_time": "2025-02-16T10:16:10.456608Z",
     "start_time": "2025-02-16T10:16:08.439051Z"
    }
   },
   "cell_type": "code",
   "source": [
    "# (1) 性能计时器\n",
    "import time\n",
    "from functools import wraps\n",
    "\n",
    "\n",
    "def timer(func):\n",
    "    @wraps(func)\n",
    "    def wrapper(*args, **kwargs):\n",
    "        start = time.perf_counter()\n",
    "        result = func(*args, **kwargs)\n",
    "        end = time.perf_counter()\n",
    "        print(f\"{func.__name__} 耗时 {end - start:.4f} 秒\")\n",
    "        return result\n",
    "\n",
    "    return wrapper\n",
    "\n",
    "\n",
    "@timer\n",
    "def slow_function():\n",
    "    time.sleep(2)\n",
    "\n",
    "\n",
    "slow_function()  # 输出耗时"
   ],
   "id": "356db101ebd48c97",
   "outputs": [
    {
     "name": "stdout",
     "output_type": "stream",
     "text": [
      "slow_function 耗时 2.0037 秒\n"
     ]
    }
   ],
   "execution_count": 4
  },
  {
   "metadata": {
    "ExecuteTime": {
     "end_time": "2025-02-16T10:17:19.924747Z",
     "start_time": "2025-02-16T10:17:19.691933Z"
    }
   },
   "cell_type": "code",
   "source": [
    "# 缓存结果（Memoization）\n",
    "from functools import lru_cache\n",
    "\n",
    "\n",
    "@lru_cache(maxsize=128)\n",
    "def fibonacci(n):\n",
    "    if n < 2:\n",
    "        return n\n",
    "    return fibonacci(n - 1) + fibonacci(n - 2)\n",
    "\n",
    "\n",
    "print(fibonacci(30))  # 快速计算结果 16ms（无装饰器会极慢, 240ms）"
   ],
   "id": "20bbda4b3df77768",
   "outputs": [
    {
     "name": "stdout",
     "output_type": "stream",
     "text": [
      "832040\n"
     ]
    }
   ],
   "execution_count": 12
  },
  {
   "metadata": {
    "ExecuteTime": {
     "end_time": "2025-02-15T04:37:07.575432Z",
     "start_time": "2025-02-15T04:37:07.566592Z"
    }
   },
   "cell_type": "code",
   "source": [
    "# 错误示例\n",
    "def bad_decorator(func):\n",
    "    def wrapper():\n",
    "        func()  # 没有返回 func() 的结果\n",
    "\n",
    "    return wrapper\n",
    "\n",
    "\n",
    "@bad_decorator\n",
    "def get_value():\n",
    "    return 42\n",
    "\n",
    "\n",
    "print(get_value())  # 输出 None"
   ],
   "id": "755bd7e1678865e2",
   "outputs": [
    {
     "name": "stdout",
     "output_type": "stream",
     "text": [
      "None\n"
     ]
    }
   ],
   "execution_count": 21
  },
  {
   "metadata": {},
   "cell_type": "markdown",
   "source": [
    "# Lambda 函数\n",
    "## 1. 基本概念\n",
    "* lambda 表达式（匿名函数）：一种无需命名的小型函数，用于简化简单逻辑的代码。\n",
    "\n",
    "* 语法：lambda 参数列表: 表达式\n",
    "\n",
    "* 特点：\n",
    "\n",
    "    * 没有 return 语句，表达式的结果自动作为返回值。\n",
    "\n",
    "    * 只能包含单个表达式，不能包含复杂逻辑（如循环、多行代码）。"
   ],
   "id": "4c93053d7c9df977"
  },
  {
   "metadata": {
    "ExecuteTime": {
     "end_time": "2025-02-15T10:59:29.991502Z",
     "start_time": "2025-02-15T10:59:29.981965Z"
    }
   },
   "cell_type": "code",
   "source": [
    "# 普通函数\n",
    "def add(a, b):\n",
    "    return a + b\n",
    "\n",
    "# lambda 表达式\n",
    "add_lambda = lambda a, b: a + b\n",
    "\n",
    "print(add(3, 5))          # 输出 8\n",
    "print(add_lambda(3, 5))   # 输出 8"
   ],
   "id": "d67433bd74b27835",
   "outputs": [
    {
     "name": "stdout",
     "output_type": "stream",
     "text": [
      "8\n",
      "8\n"
     ]
    }
   ],
   "execution_count": 2
  },
  {
   "metadata": {
    "ExecuteTime": {
     "end_time": "2025-02-16T10:17:51.495352Z",
     "start_time": "2025-02-16T10:17:51.485601Z"
    }
   },
   "cell_type": "code",
   "source": [
    "# 无参数lambda表达式\n",
    "greet = lambda: \"Hello, World!\"\n",
    "print(greet())  # 输出: Hello, World!\n",
    "\n",
    "# 默认参数lambda表达式\n",
    "power = lambda x, n=2: x ** n\n",
    "print(power(3))    # 输出 9 (默认 n=2)\n",
    "print(power(3, n=4)) # 输出 81"
   ],
   "id": "2edb6f8622a531da",
   "outputs": [
    {
     "name": "stdout",
     "output_type": "stream",
     "text": [
      "Hello, World!\n",
      "9\n",
      "81\n"
     ]
    }
   ],
   "execution_count": 13
  },
  {
   "metadata": {
    "ExecuteTime": {
     "end_time": "2025-02-15T02:54:04.850440Z",
     "start_time": "2025-02-15T02:54:04.837482Z"
    }
   },
   "cell_type": "code",
   "outputs": [
    {
     "name": "stdout",
     "output_type": "stream",
     "text": [
      "[1, 4, 9, 16, 1]\n",
      "[2, 4]\n",
      "11\n"
     ]
    }
   ],
   "execution_count": 6,
   "source": [
    "# 内置高阶函数\n",
    "#     map(): 对可迭代对象应用函数\n",
    "#     \n",
    "#     filter(): 过滤元素\n",
    "#     \n",
    "#     reduce(): 累积计算（需导入 functools）\n",
    "numbers = [1, 2, 3, 4]\n",
    "\n",
    "# map示例\n",
    "squares = list(map(lambda x: x ** 2, numbers))  # [1, 4, 9, 16]\n",
    "print(squares)\n",
    "\n",
    "# filter示例\n",
    "evens = list(filter(lambda x: x % 2 == 0, numbers))  # [2, 4]\n",
    "print(evens)\n",
    "\n",
    "# reduce示例\n",
    "from functools import reduce\n",
    "\n",
    "sum_all = reduce(lambda a, b: a + b, numbers)  # 10\n",
    "print(sum_all)"
   ],
   "id": "31f69bff5a959c84"
  },
  {
   "metadata": {
    "ExecuteTime": {
     "end_time": "2025-02-16T10:19:02.759403Z",
     "start_time": "2025-02-16T10:19:02.750414Z"
    }
   },
   "cell_type": "code",
   "source": [
    "# 作为函数参数传递\n",
    "def operate(func, a, b):\n",
    "    return func(a, b)\n",
    "\n",
    "result = operate(lambda x, y: x * y, 5, 6)\n",
    "print(result)  # 输出 30"
   ],
   "id": "caff1d9b49eeab99",
   "outputs": [
    {
     "name": "stdout",
     "output_type": "stream",
     "text": [
      "30\n"
     ]
    }
   ],
   "execution_count": 14
  },
  {
   "metadata": {
    "ExecuteTime": {
     "end_time": "2025-02-16T10:21:34.513402Z",
     "start_time": "2025-02-16T10:21:34.502586Z"
    }
   },
   "cell_type": "code",
   "source": [
    "# 闭包与变量捕获\n",
    "def create_multiplier(n):\n",
    "    return lambda x: x * n\n",
    "\n",
    "double = create_multiplier(2)\n",
    "triple = create_multiplier(3)\n",
    "\n",
    "print(double(5))  # 输出 10\n",
    "print(triple(5))  # 输出 15\n",
    "\n",
    "# 条件逻辑（结合三元运算符）\n",
    "# 判断奇偶\n",
    "is_even = lambda x: \"偶数\" if x % 2 == 0 else \"奇数\"\n",
    "print(is_even(4))  # 输出 \"偶数\"\n",
    "print(is_even(7))  # 输出 \"奇数\""
   ],
   "id": "58b51f330220109e",
   "outputs": [
    {
     "name": "stdout",
     "output_type": "stream",
     "text": [
      "10\n",
      "15\n",
      "偶数\n",
      "偶数\n"
     ]
    }
   ],
   "execution_count": 18
  },
  {
   "metadata": {
    "ExecuteTime": {
     "end_time": "2025-02-16T10:19:32.170826Z",
     "start_time": "2025-02-16T10:19:32.160178Z"
    }
   },
   "cell_type": "code",
   "source": [
    "# 快速生成函数字典\n",
    "operations = {\n",
    "    \"add\": lambda a, b: a + b,\n",
    "    \"subtract\": lambda a, b: a - b,\n",
    "    \"multiply\": lambda a, b: a * b\n",
    "}\n",
    "\n",
    "print(operations[\"add\"](10, 5))       # 输出 15\n",
    "print(operations[\"multiply\"](3, 4))  # 输出 12"
   ],
   "id": "e2ae56c56243897c",
   "outputs": [
    {
     "name": "stdout",
     "output_type": "stream",
     "text": [
      "15\n",
      "12\n"
     ]
    }
   ],
   "execution_count": 15
  },
  {
   "metadata": {},
   "cell_type": "markdown",
   "source": "# 函数注解（Type Hints）",
   "id": "abcd9c98aab2aa51"
  },
  {
   "metadata": {
    "ExecuteTime": {
     "end_time": "2025-02-15T02:50:29.671394Z",
     "start_time": "2025-02-15T02:50:29.658542Z"
    }
   },
   "cell_type": "code",
   "source": [
    "def add(a: int, b: int) -> int:\n",
    "    return a + b\n",
    "\n",
    "\n",
    "print(add.__annotations__)  # 输出类型注解信息"
   ],
   "id": "3f8e5464d6764dcf",
   "outputs": [
    {
     "name": "stdout",
     "output_type": "stream",
     "text": [
      "{'a': <class 'int'>, 'b': <class 'int'>}\n"
     ]
    }
   ],
   "execution_count": 3
  },
  {
   "metadata": {},
   "cell_type": "markdown",
   "source": " # 错误处理（try-except）",
   "id": "d3fbae74c429bb70"
  },
  {
   "metadata": {},
   "cell_type": "code",
   "outputs": [],
   "execution_count": null,
   "source": [
    "def divide(a, b):\n",
    "    try:\n",
    "        return a / b\n",
    "    except ZeroDivisionError:\n",
    "        return \"不能除以0\"\n",
    "\n",
    "\n",
    "print(divide(10, 2))  # 5.0\n",
    "print(divide(10, 0))  # 不能除以0"
   ],
   "id": "55946733700966ed"
  },
  {
   "metadata": {
    "ExecuteTime": {
     "end_time": "2025-02-16T14:00:35.604342Z",
     "start_time": "2025-02-16T14:00:35.588816Z"
    }
   },
   "cell_type": "code",
   "source": [
    "# Python program to illustrate \n",
    "# closures \n",
    "import logging \n",
    "logging.basicConfig(filename ='example.log', level = logging.INFO) \n",
    "  \n",
    "  \n",
    "def logger(func): \n",
    "    def log_func(*args): \n",
    "        logging.info( \n",
    "            'Running \"{}\" with arguments {}'.format(func.__name__, args)) \n",
    "        print(func(*args)) \n",
    "    # Necessary for closure to work (returning WITHOUT parenthesis) \n",
    "    return log_func               \n",
    "  \n",
    "def add(x, y): \n",
    "    return x + y \n",
    "  \n",
    "def sub(x, y): \n",
    "    return x-y \n",
    "  \n",
    "add_logger = logger(add) \n",
    "sub_logger = logger(sub) \n",
    "  \n",
    "add_logger(3, 3) \n",
    "add_logger(4, 5) \n",
    "  \n",
    "sub_logger(10, 5) \n",
    "sub_logger(20, 10) \n"
   ],
   "id": "1308c96be477e46c",
   "outputs": [
    {
     "name": "stdout",
     "output_type": "stream",
     "text": [
      "6\n",
      "9\n",
      "5\n",
      "10\n"
     ]
    }
   ],
   "execution_count": 19
  }
 ],
 "metadata": {
  "kernelspec": {
   "display_name": "Python 3",
   "language": "python",
   "name": "python3"
  },
  "language_info": {
   "codemirror_mode": {
    "name": "ipython",
    "version": 2
   },
   "file_extension": ".py",
   "mimetype": "text/x-python",
   "name": "python",
   "nbconvert_exporter": "python",
   "pygments_lexer": "ipython2",
   "version": "2.7.6"
  }
 },
 "nbformat": 4,
 "nbformat_minor": 5
}
